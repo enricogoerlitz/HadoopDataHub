{
 "cells": [
  {
   "cell_type": "markdown",
   "metadata": {},
   "source": [
    "# 00 Notebook-Init-Packages"
   ]
  },
  {
   "cell_type": "markdown",
   "metadata": {},
   "source": [
    "## HDFS"
   ]
  },
  {
   "cell_type": "markdown",
   "metadata": {},
   "source": [
    "### Save File to HDFS"
   ]
  },
  {
   "cell_type": "markdown",
   "metadata": {},
   "source": [
    "#### parquet"
   ]
  },
  {
   "cell_type": "code",
   "execution_count": 8,
   "metadata": {},
   "outputs": [
    {
     "name": "stdout",
     "output_type": "stream",
     "text": [
      "Parquet file was successfully stored in HDFS at /quick-parquet-test/file.parquet.\n"
     ]
    }
   ],
   "source": [
    "import pandas as pd\n",
    "from hdfs import InsecureClient\n",
    "\n",
    "# Example DataFrame\n",
    "data = {'Column1': range(1, 11), 'Column2': range(11, 21)}\n",
    "df = pd.DataFrame(data)\n",
    "\n",
    "# HDFS connection parameters\n",
    "hdfs_host = '192.168.64.102'\n",
    "hdfs_port = 9870  # Standard HDFS port\n",
    "hdfs_user = 'enricogoerlitz'\n",
    "\n",
    "# Path where the CSV file will be stored in HDFS\n",
    "hdfs_path = '/quick-parquet-test/file.parquet'\n",
    "\n",
    "# Convert DataFrame to CSV string\n",
    "parquet_content = df.to_parquet(index=False)\n",
    "\n",
    "# Create an HDFS client\n",
    "hdfs_client = InsecureClient(f'http://{hdfs_host}:{hdfs_port}', user=hdfs_user)\n",
    "\n",
    "# Write the CSV content to HDFS\n",
    "with hdfs_client.write(hdfs_path, overwrite=True) as hdfs_file:\n",
    "    hdfs_file.write(parquet_content)\n",
    "\n",
    "print(f\"Parquet file was successfully stored in HDFS at {hdfs_path}\")"
   ]
  },
  {
   "cell_type": "markdown",
   "metadata": {},
   "source": [
    "### csv"
   ]
  },
  {
   "cell_type": "code",
   "execution_count": 9,
   "metadata": {},
   "outputs": [
    {
     "name": "stdout",
     "output_type": "stream",
     "text": [
      "CSV file was successfully stored in HDFS at /quick-csv-test/file.csv.\n"
     ]
    }
   ],
   "source": [
    "import pandas as pd\n",
    "from hdfs import InsecureClient\n",
    "\n",
    "# Example DataFrame\n",
    "data = {'Column1': range(1, 11), 'Column2': range(11, 21)}\n",
    "df = pd.DataFrame(data)\n",
    "\n",
    "# HDFS connection parameters\n",
    "hdfs_host = '192.168.64.102'\n",
    "hdfs_port = 9870  # Standard HDFS port\n",
    "hdfs_user = 'enricogoerlitz'\n",
    "\n",
    "# Path where the CSV file will be stored in HDFS\n",
    "hdfs_path = '/quick-csv-test/file.csv'\n",
    "\n",
    "# Convert DataFrame to CSV string\n",
    "parquet_content = df.to_csv(index=False)\n",
    "\n",
    "# Create an HDFS client\n",
    "hdfs_client = InsecureClient(f'http://{hdfs_host}:{hdfs_port}', user=hdfs_user)\n",
    "\n",
    "# Write the CSV content to HDFS\n",
    "with hdfs_client.write(hdfs_path, overwrite=True) as hdfs_file:\n",
    "    hdfs_file.write(parquet_content)\n",
    "\n",
    "print(f\"CSV file was successfully stored in HDFS at {hdfs_path}\")"
   ]
  },
  {
   "cell_type": "code",
   "execution_count": 17,
   "metadata": {},
   "outputs": [
    {
     "data": {
      "text/plain": [
       "<InsecureClient(url='http://192.168.64.102:9870')>"
      ]
     },
     "execution_count": 17,
     "metadata": {},
     "output_type": "execute_result"
    }
   ],
   "source": [
    "hdfs_client = InsecureClient(f'http://{hdfs_host}:{hdfs_port}', user=hdfs_user)\n",
    "hdfs_client"
   ]
  },
  {
   "cell_type": "markdown",
   "metadata": {},
   "source": [
    "## HIVE"
   ]
  },
  {
   "cell_type": "markdown",
   "metadata": {},
   "source": [
    "### Create External Tables in HIVE"
   ]
  },
  {
   "cell_type": "code",
   "execution_count": 6,
   "metadata": {},
   "outputs": [
    {
     "name": "stdout",
     "output_type": "stream",
     "text": [
      "HiveQL statement executed successfully.\n"
     ]
    }
   ],
   "source": [
    "from pyhive import hive\n",
    "\n",
    "# Hive server connection parameters\n",
    "hive_host = \"192.168.64.102\"\n",
    "hive_port = 10000  # Default port for Hive\n",
    "\n",
    "# Create a Hive connection\n",
    "conn = hive.Connection(host=hive_host, port=hive_port)\n",
    "\n",
    "# Create a cursor\n",
    "cursor = conn.cursor()\n",
    "\n",
    "# Define the HiveQL statement\n",
    "hiveql_statement = \"\"\"\n",
    "CREATE EXTERNAL TABLE IF NOT EXISTS parquetfile2 (\n",
    "  Column1 INT,\n",
    "  Column2 INT\n",
    ")\n",
    "STORED AS PARQUET\n",
    "LOCATION '/quick-parquet-test'\n",
    "\"\"\"\n",
    "\n",
    "try:\n",
    "    # Execute the HiveQL statement\n",
    "    cursor.execute(hiveql_statement)\n",
    "\n",
    "    # Commit the changes (not needed for DDL statements, but included for completeness)\n",
    "    conn.commit()\n",
    "\n",
    "    print(\"HiveQL statement executed successfully.\")\n",
    "except Exception as e:\n",
    "    print(\"Error executing HiveQL statement:\", str(e))\n",
    "finally:\n",
    "    # Close the cursor and connection\n",
    "    cursor.close()\n",
    "    conn.close()"
   ]
  },
  {
   "cell_type": "code",
   "execution_count": null,
   "metadata": {},
   "outputs": [],
   "source": []
  },
  {
   "cell_type": "markdown",
   "metadata": {},
   "source": [
    "### Retrieve Data from HIVE"
   ]
  },
  {
   "cell_type": "code",
   "execution_count": null,
   "metadata": {},
   "outputs": [],
   "source": []
  }
 ],
 "metadata": {
  "kernelspec": {
   "display_name": "venv",
   "language": "python",
   "name": "python3"
  },
  "language_info": {
   "codemirror_mode": {
    "name": "ipython",
    "version": 3
   },
   "file_extension": ".py",
   "mimetype": "text/x-python",
   "name": "python",
   "nbconvert_exporter": "python",
   "pygments_lexer": "ipython3",
   "version": "3.11.4"
  }
 },
 "nbformat": 4,
 "nbformat_minor": 2
}
