{
 "cells": [
  {
   "cell_type": "markdown",
   "metadata": {},
   "source": [
    "# Notebook for generating Masterdata-Tables"
   ]
  },
  {
   "cell_type": "markdown",
   "metadata": {},
   "source": [
    "## Imports"
   ]
  },
  {
   "cell_type": "code",
   "execution_count": 52,
   "metadata": {},
   "outputs": [],
   "source": [
    "import random\n",
    "\n",
    "import pandas as pd\n",
    "import numpy as np\n",
    "\n",
    "from itertools import product\n",
    "from datetime import datetime, timedelta"
   ]
  },
  {
   "cell_type": "markdown",
   "metadata": {},
   "source": [
    "## Generate Tables"
   ]
  },
  {
   "cell_type": "markdown",
   "metadata": {},
   "source": [
    "### Settings & Utils"
   ]
  },
  {
   "cell_type": "code",
   "execution_count": 53,
   "metadata": {},
   "outputs": [],
   "source": [
    "SEPERATOR = \"|\""
   ]
  },
  {
   "cell_type": "code",
   "execution_count": 54,
   "metadata": {},
   "outputs": [],
   "source": [
    "def random_date(\n",
    "        min_datetime: datetime = None,\n",
    "        max_datetime: datetime = None\n",
    "        ) -> datetime:\n",
    "    start_date = min_datetime or datetime(1950, 1, 1)\n",
    "    end_date = max_datetime or datetime(2003, 12, 31)\n",
    "    days_difference = (end_date - start_date).days\n",
    "\n",
    "    random_days = random.randint(0, days_difference)\n",
    "    random_date = start_date + timedelta(days=random_days)\n",
    "\n",
    "    return random_date"
   ]
  },
  {
   "cell_type": "code",
   "execution_count": 55,
   "metadata": {},
   "outputs": [],
   "source": [
    "def write_md_csv(df: pd.DataFrame, name: str) -> None:\n",
    "    path = f\"./_md_{name}.csv\"\n",
    "    df.to_csv(path, sep=SEPERATOR, index=False, encoding=\"UTF-8\")\n",
    "    print(f\"CSV successfully created at: {path}\")"
   ]
  },
  {
   "cell_type": "markdown",
   "metadata": {},
   "source": [
    "### Clients"
   ]
  },
  {
   "cell_type": "code",
   "execution_count": 56,
   "metadata": {},
   "outputs": [
    {
     "data": {
      "text/plain": [
       "99"
      ]
     },
     "execution_count": 56,
     "metadata": {},
     "output_type": "execute_result"
    }
   ],
   "source": [
    "clients_company_type = [\"AG\", \"GmbH\", \"Ltd.\", \"SE\"]\n",
    "clients_list = [\"Acme Corporation\", \"Beta Industries\", \"Gamma Enterprises\", \"Delta Innovations\", \"Epsilon Solutions\", \"Zeta Technologies\", \"Eta Systems\", \"Theta Services\", \"Iota Ventures\", \"Kappa Consulting\", \"Lambda Solutions\", \"Mu Enterprises\", \"Nu Innovations\", \"Xi Technologies\", \"Omicron Systems\", \"Pi Ventures\", \"Rho Consulting\", \"Sigma Innovations\", \"Tau Corporation\", \"Upsilon Enterprises\", \"Phi Solutions\", \"Chi Technologies\", \"Psi Ventures\", \"Omega Systems\", \"Aegis Corporation\", \"Borealis Industries\", \"Celestial Enterprises\", \"Dynamo Innovations\", \"Eclipse Solutions\", \"Fusion Technologies\", \"Galaxy Systems\", \"Horizon Services\", \"Infinity Ventures\", \"Jupiter Consulting\", \"Kaleido Solutions\", \"Lunar Enterprises\", \"Momentum Innovations\", \"Nebula Technologies\", \"Orion Corporation\", \"Pinnacle Ventures\", \"Quantum Consulting\", \"Radiant Innovations\", \"Solar Corporation\", \"Trinity Enterprises\", \"Unity Solutions\", \"Vortex Technologies\", \"Wavelength Ventures\", \"Xenon Consulting\", \"Ypsilon Innovations\", \"Zenith Technologies\", \"Apex Corporation\", \"Blossom Industries\", \"Cascade Enterprises\", \"Dynamic Innovations\", \"Epic Solutions\", \"Futura Technologies\", \"Genesis Systems\", \"Harmony Services\", \"Infinite Ventures\", \"Jubilee Consulting\", \"Keystone Solutions\", \"Luminous Enterprises\", \"Majestic Innovations\", \"Nirvana Technologies\", \"Oasis Corporation\", \"Panorama Ventures\", \"Quantum Consulting\", \"Radiant Innovations\", \"Solar Corporation\", \"Trinity Enterprises\", \"Unity Solutions\", \"Vortex Technologies\", \"Wavelength Ventures\", \"Xenon Consulting\", \"Ypsilon Innovations\", \"Zenith Technologies\", \"Apex Corporation\", \"Blossom Industries\", \"Cascade Enterprises\", \"Dynamic Innovations\", \"Epic Solutions\", \"Futura Technologies\", \"Genesis Systems\", \"Harmony Services\", \"Infinite Ventures\", \"Jubilee Consulting\", \"Keystone Solutions\", \"Luminous Enterprises\", \"Majestic Innovations\", \"Nirvana Technologies\", \"Oasis Corporation\", \"Panorama Ventures\", \"Quasar Consulting\", \"Rising Innovations\", \"Stellar Corporation\", \"Tranquil Enterprises\", \"Universal Solutions\", \"Vista Technologies\", \"Wave Ventures\", \"Xerox Consulting\", \"Zen Innovations\", \"Aurora Systems\", \"Bolt Industries\", \"Catalyst Enterprises\", \"Dawn Innovations\", \"Echo Solutions\", \"Flare Technologies\", \"Gravity Systems\", \"Harbor Ventures\", \"Ignite Consulting\", \"Jolt Innovations\", \"Kinetic Technologies\", \"Labyrinth Corporation\", \"Momentum Enterprises\", \"Nova Solutions\", \"Oxygen Ventures\", \"Pinnacle Consulting\", \"Quest Innovations\", \"Rapid Systems\", \"Strive Enterprises\", \"Titan Technologies\", \"Utopia Consulting\", \"Vivid Innovations\", \"Warp Systems\", \"Xcel Ventures\"]\n",
    "clients_list = list(np.unique(clients_list))\n",
    "clients_list = [f\"{client} {np.random.choice(clients_company_type)}\" for client in clients_list]\n",
    "len(clients_list)"
   ]
  },
  {
   "cell_type": "code",
   "execution_count": 57,
   "metadata": {},
   "outputs": [
    {
     "data": {
      "text/html": [
       "<div>\n",
       "<style scoped>\n",
       "    .dataframe tbody tr th:only-of-type {\n",
       "        vertical-align: middle;\n",
       "    }\n",
       "\n",
       "    .dataframe tbody tr th {\n",
       "        vertical-align: top;\n",
       "    }\n",
       "\n",
       "    .dataframe thead th {\n",
       "        text-align: right;\n",
       "    }\n",
       "</style>\n",
       "<table border=\"1\" class=\"dataframe\">\n",
       "  <thead>\n",
       "    <tr style=\"text-align: right;\">\n",
       "      <th></th>\n",
       "      <th>id</th>\n",
       "      <th>name</th>\n",
       "      <th>address</th>\n",
       "    </tr>\n",
       "  </thead>\n",
       "  <tbody>\n",
       "    <tr>\n",
       "      <th>0</th>\n",
       "      <td>1</td>\n",
       "      <td>Acme Corporation AG</td>\n",
       "      <td>Musterstraße 1, 10107 Berlin</td>\n",
       "    </tr>\n",
       "    <tr>\n",
       "      <th>1</th>\n",
       "      <td>2</td>\n",
       "      <td>Aegis Corporation AG</td>\n",
       "      <td>Musterstraße 2, 10108 Berlin</td>\n",
       "    </tr>\n",
       "    <tr>\n",
       "      <th>2</th>\n",
       "      <td>3</td>\n",
       "      <td>Apex Corporation GmbH</td>\n",
       "      <td>Musterstraße 3, 10109 Berlin</td>\n",
       "    </tr>\n",
       "    <tr>\n",
       "      <th>3</th>\n",
       "      <td>4</td>\n",
       "      <td>Aurora Systems SE</td>\n",
       "      <td>Musterstraße 4, 10110 Berlin</td>\n",
       "    </tr>\n",
       "    <tr>\n",
       "      <th>4</th>\n",
       "      <td>5</td>\n",
       "      <td>Beta Industries GmbH</td>\n",
       "      <td>Musterstraße 5, 10111 Berlin</td>\n",
       "    </tr>\n",
       "    <tr>\n",
       "      <th>...</th>\n",
       "      <td>...</td>\n",
       "      <td>...</td>\n",
       "      <td>...</td>\n",
       "    </tr>\n",
       "    <tr>\n",
       "      <th>94</th>\n",
       "      <td>95</td>\n",
       "      <td>Xi Technologies AG</td>\n",
       "      <td>Musterstraße 95, 10201 Berlin</td>\n",
       "    </tr>\n",
       "    <tr>\n",
       "      <th>95</th>\n",
       "      <td>96</td>\n",
       "      <td>Ypsilon Innovations Ltd.</td>\n",
       "      <td>Musterstraße 96, 10202 Berlin</td>\n",
       "    </tr>\n",
       "    <tr>\n",
       "      <th>96</th>\n",
       "      <td>97</td>\n",
       "      <td>Zen Innovations AG</td>\n",
       "      <td>Musterstraße 97, 10203 Berlin</td>\n",
       "    </tr>\n",
       "    <tr>\n",
       "      <th>97</th>\n",
       "      <td>98</td>\n",
       "      <td>Zenith Technologies AG</td>\n",
       "      <td>Musterstraße 98, 10204 Berlin</td>\n",
       "    </tr>\n",
       "    <tr>\n",
       "      <th>98</th>\n",
       "      <td>99</td>\n",
       "      <td>Zeta Technologies AG</td>\n",
       "      <td>Musterstraße 99, 10205 Berlin</td>\n",
       "    </tr>\n",
       "  </tbody>\n",
       "</table>\n",
       "<p>99 rows × 3 columns</p>\n",
       "</div>"
      ],
      "text/plain": [
       "    id                      name                        address\n",
       "0    1       Acme Corporation AG   Musterstraße 1, 10107 Berlin\n",
       "1    2      Aegis Corporation AG   Musterstraße 2, 10108 Berlin\n",
       "2    3     Apex Corporation GmbH   Musterstraße 3, 10109 Berlin\n",
       "3    4         Aurora Systems SE   Musterstraße 4, 10110 Berlin\n",
       "4    5      Beta Industries GmbH   Musterstraße 5, 10111 Berlin\n",
       "..  ..                       ...                            ...\n",
       "94  95        Xi Technologies AG  Musterstraße 95, 10201 Berlin\n",
       "95  96  Ypsilon Innovations Ltd.  Musterstraße 96, 10202 Berlin\n",
       "96  97        Zen Innovations AG  Musterstraße 97, 10203 Berlin\n",
       "97  98    Zenith Technologies AG  Musterstraße 98, 10204 Berlin\n",
       "98  99      Zeta Technologies AG  Musterstraße 99, 10205 Berlin\n",
       "\n",
       "[99 rows x 3 columns]"
      ]
     },
     "execution_count": 57,
     "metadata": {},
     "output_type": "execute_result"
    }
   ],
   "source": [
    "client_rng = range(1, len(clients_list) + 1)\n",
    "\n",
    "df_clients = pd.DataFrame({\n",
    "    \"id\": [i for i in client_rng],\n",
    "    \"name\": clients_list,\n",
    "    \"address\": [f\"Musterstraße {i}, 10{i + 106} Berlin\" for i in client_rng]\n",
    "})\n",
    "\n",
    "df_clients"
   ]
  },
  {
   "cell_type": "code",
   "execution_count": 58,
   "metadata": {},
   "outputs": [
    {
     "name": "stdout",
     "output_type": "stream",
     "text": [
      "CSV successfully created at: ./_md_clients.csv\n"
     ]
    }
   ],
   "source": [
    "write_md_csv(df_clients, \"clients\")"
   ]
  },
  {
   "cell_type": "markdown",
   "metadata": {},
   "source": [
    "### employee"
   ]
  },
  {
   "cell_type": "code",
   "execution_count": 59,
   "metadata": {},
   "outputs": [
    {
     "data": {
      "text/plain": [
       "1039"
      ]
     },
     "execution_count": 59,
     "metadata": {},
     "output_type": "execute_result"
    }
   ],
   "source": [
    "employee_name_list = [\"Anna Smith\", \"David Johnson\", \"Emily Davis\", \"Michael Brown\", \"Sophia Miller\", \"James Anderson\", \"Olivia Wilson\", \"Matthew Martinez\", \"Emma Taylor\", \"Daniel Thomas\", \"Ava Jackson\", \"Christopher White\", \"Mia Harris\", \"John Thompson\", \"Abigail Garcia\", \"Nicholas Robinson\", \"Madison Martinez\", \"William Taylor\", \"Grace Anderson\", \"Joseph Davis\", \"Ella Williams\", \"Andrew Lee\", \"Isabella Miller\", \"Christopher Lewis\", \"Avery Jackson\", \"Joshua Moore\", \"Sophia Davis\", \"Ethan Johnson\", \"Amelia Taylor\", \"Alexander Martin\", \"Samantha Robinson\", \"Daniel Hall\", \"Lily Harris\", \"Matthew Taylor\", \"Ava Jackson\", \"Andrew Davis\", \"Natalie Wilson\", \"James Smith\", \"Sophia Martin\", \"Joseph Thomas\", \"Emma Harris\", \"William Taylor\", \"Olivia Brown\", \"Michael Martinez\", \"Emily Johnson\", \"Daniel Davis\", \"Grace Robinson\", \"Nicholas Anderson\", \"Madison Wilson\", \"Matthew Miller\", \"Olivia Davis\", \"Ethan Smith\", \"Ava Taylor\", \"Christopher Lee\", \"Isabella Hall\", \"Liam Wilson\", \"Ella Moore\", \"Joshua Taylor\", \"Sophia Johnson\", \"Alexander White\", \"Abigail Taylor\", \"Daniel Thompson\", \"Grace Lee\", \"Andrew Robinson\", \"Lily Miller\", \"Ethan Smith\", \"Ava Lewis\", \"Christopher Davis\", \"Samantha Robinson\", \"William Smith\", \"Madison Davis\", \"James Lewis\", \"Emma Thompson\", \"Michael Taylor\", \"Ella Harris\", \"John Robinson\", \"Sophia Davis\", \"Daniel White\", \"Grace Martin\", \"Nicholas Harris\", \"Avery Wilson\", \"Olivia Brown\", \"Matthew Lee\", \"Isabella Anderson\", \"David Taylor\", \"Emily Smith\", \"Andrew Hall\", \"Ava Johnson\", \"Liam Davis\", \"Samantha White\", \"Ethan Robinson\", \"Lily Anderson\", \"Christopher Harris\", \"Emma Wilson\", \"William Thomas\", \"Sophia Harris\", \"Daniel Brown\", \"Madison Taylor\", \"James Anderson\", \"Abigail Taylor\", \"Alexander Lewis\", \"Grace Robinson\", \"Alexander Brown\", \"Mia Robinson\", \"William Davis\", \"Emma Taylor\", \"Nicholas Hall\", \"Olivia Wilson\", \"James Lee\", \"Sophia Moore\", \"Daniel Harris\", \"Grace Thompson\", \"Michael Taylor\", \"Lily Smith\", \"Christopher Anderson\", \"Ava Davis\", \"Ethan Martinez\", \"Emily Harris\", \"Matthew Robinson\", \"Isabella Davis\", \"Andrew White\", \"Abigail Anderson\", \"Joshua Lewis\", \"Sophia Taylor\", \"Alexander Hall\", \"Mia Harris\", \"Daniel Smith\", \"Samantha Lee\", \"Liam Anderson\", \"Olivia Thompson\", \"Joseph Robinson\", \"Emma Davis\", \"James White\", \"Grace Smith\", \"Michael Taylor\", \"Ella Wilson\", \"John Anderson\", \"Sophia Harris\", \"William Martin\", \"Ava Robinson\", \"Christopher Wilson\", \"Madison Taylor\", \"Daniel Lewis\", \"Mia Anderson\", \"Ethan Harris\", \"Olivia Smith\", \"Matthew Davis\", \"Isabella Taylor\", \"Joshua Thompson\", \"Emily Martin\", \"Nicholas Brown\", \"Lily Davis\", \"Andrew Robinson\", \"Samantha Harris\", \"Avery Smith\", \"Grace Taylor\", \"David Lewis\", \"Sophia Anderson\", \"William Wilson\", \"Ava Thompson\", \"Alexander Martinez\", \"Emma Robinson\", \"Christopher Taylor\", \"Mia Davis\", \"Ella Anderson\", \"Michael Thompson\", \"Olivia Brown\", \"Daniel Davis\", \"Sophia Smith\", \"Liam Martin\", \"Grace Wilson\", \"Nicholas Taylor\", \"Abigail Lewis\", \"Andrew Harris\", \"Samantha Davis\", \"Joseph Anderson\", \"Emily Wilson\", \"Joshua Harris\", \"Isabella Robinson\", \"Madison Davis\", \"Matthew Taylor\", \"Sophia Lee\", \"Ava Harris\", \"James Taylor\", \"Lily Robinson\", \"Ethan White\", \"Olivia Martinez\", \"Daniel Wilson\", \"Mia Harris\", \"William Thompson\", \"Emma Davis\", \"Alexander Robinson\", \"Grace Anderson\", \"Andrew Smith\", \"Sophia Taylor\", \"Nicholas Harris\", \"Avery Davis\", \"Ella Brown\", \"Christopher Taylor\", \"Samantha Robinson\", \"Liam Harris\", \"Olivia Anderson\", \"Matthew Lee\", \"Ava Harris\", \"James Taylor\", \"Samantha Robinson\", \"Nicholas Harris\", \"Avery Davis\", \"Ella Brown\", \"Christopher Taylor\", \"Liam Harris\", \"Isabella Wilson\", \"William Martinez\", \"Emma Thompson\", \"Daniel Martin\", \"Sophia Lewis\", \"Joseph Anderson\", \"Grace Taylor\", \"Alexander White\", \"Madison Harris\", \"Joshua Smith\", \"Abigail Robinson\", \"Michael Thompson\", \"Lily Davis\", \"Andrew Harris\", \"Olivia Smith\", \"Ethan Lee\", \"Emily Davis\", \"Liam Davis\", \"Ava Robinson\", \"Samantha Taylor\", \"Christopher Robinson\", \"Mia Lee\", \"James Harris\", \"Grace Anderson\", \"Ella Taylor\", \"Nicholas Robinson\", \"Emma Harris\", \"William Anderson\", \"Sophia Harris\", \"Daniel Taylor\", \"Olivia Lewis\", \"Matthew Smith\", \"Isabella Harris\", \"Ethan Robinson\", \"Avery Taylor\", \"Sophia Robinson\", \"Joshua Davis\", \"Lily Anderson\", \"Alexander Brown\", \"Madison Thompson\", \"Andrew Smith\", \"Mia Davis\", \"David Robinson\", \"Abigail Harris\", \"Daniel Wilson\", \"Samantha Davis\", \"Ella Lee\", \"Christopher Harris\", \"Ava Lee\", \"Michael Harris\", \"Grace Davis\", \"William Davis\", \"Sophia Anderson\", \"Emily Taylor\", \"Liam Wilson\", \"Olivia Taylor\", \"Joseph Smith\", \"Emma Robinson\", \"Nicholas Davis\", \"Avery Harris\", \"Isabella Smith\", \"Matthew Taylor\", \"Samantha Harris\", \"Ethan Harris\", \"Madison Taylor\", \"Andrew Robinson\", \"Lily Harris\", \"Christopher Smith\", \"Abigail Davis\", \"Daniel Smith\", \"Ava Harris\", \"Sophia Taylor\", \"William Robinson\", \"Emma Davis\", \"James Smith\", \"Olivia Davis\", \"Michael Taylor\", \"Grace Robinson\", \"Ella Harris\", \"Nicholas Smith\", \"Mia Robinson\", \"Alexander Harris\", \"Sophia Brown\", \"Liam Thompson\", \"Abigail Wilson\", \"Matthew Anderson\", \"Isabella Davis\", \"Joshua Taylor\", \"Matteo Rossi\", \"Elena Conti\", \"Lukas Fischer\", \"Alessia Moretti\", \"Jan Novak\", \"Sophie Leroy\", \"Mariusz Nowak\", \"Anastasia Ivanova\", \"Tomasz Kowalski\", \"Eva Müller\", \"Lucas Garcia\", \"Emma Dubois\", \"Matej Kovac\", \"Lara Schmidt\", \"Luca Ferrari\", \"Isabella Russo\", \"Oskar Olsen\", \"Katarzyna Nowak\", \"Pierre Martin\", \"Anna Kowalczyk\", \"Nicolas Dupont\", \"Klara Novotná\", \"Lukasz Jankowski\", \"Nina Andersen\", \"Andreas Weber\", \"Amélie Leroux\", \"Piotr Kowalczyk\", \"Sophie Wagner\", \"Marek Novák\", \"Eva Müller\", \"Maxime Lefevre\", \"Katarzyna Szymanska\", \"Giovanni Rossi\", \"Isabel Gomez\", \"Jonas Andersen\", \"Sofia Costa\", \"Filip Jankowski\", \"Alice Dubois\", \"Mariusz Kowalski\", \"Elena Ferrari\", \"Sebastian Schmidt\", \"Laura Weber\", \"Luca Ricci\", \"Chiara Moretti\", \"Liam Hansen\", \"Hanna Olsen\", \"Jakub Novák\", \"Zofia Nowak\", \"David Müller\", \"Emma Dubois\", \"Jakub Kovac\", \"Lena Fischer\", \"Luca Ferrari\", \"Alicja Kowalczyk\", \"Noah Nielsen\", \"Amelia Andersen\", \"Marek Nowak\", \"Sophie Leroy\", \"Gabriel Dubois\", \"Ava Müller\", \"Oscar Garcia\", \"Eva Weber\", \"Julien Lefevre\", \"Laura Weber\", \"Tomáš Novák\", \"Sophie Leroy\", \"Gabriel Dubois\", \"Ava Müller\", \"Oscar Garcia\", \"Eva Weber\", \"Julien Lefevre\", \"Laura Weber\", \"Tomáš Novák\", \"Adéla Novotná\", \"Luca Ferrari\", \"Chiara Moretti\", \"Liam Hansen\", \"Hanna Olsen\", \"Jakub Novák\", \"Zofia Nowak\", \"David Müller\", \"Emma Dubois\", \"Jakub Kovac\", \"Lena Fischer\", \"Luca Ferrari\", \"Alicja Kowalczyk\", \"Noah Nielsen\", \"Amelia Andersen\", \"Marek Nowak\", \"Sophie Leroy\", \"Gabriel Dubois\", \"Ava Müller\", \"Oscar Garcia\", \"Eva Weber\", \"Julien Lefevre\", \"Laura Weber\", \"Tomáš Novák\", \"Adéla Novotná\", \"Lorenzo Romano\", \"Sophie Lambert\", \"Mateo Fernandez\", \"Elisa Rossi\", \"Thomas Meier\", \"Camille Lefevre\", \"Daniel Nowak\", \"Lena Weber\", \"Jakub Novotný\", \"Martina Müller\", \"Diego Martinez\", \"Charlotte Dubois\", \"Janek Kovac\", \"Zara Schmidt\", \"Luigi Ferrari\", \"Alessia Russo\", \"Andreas Olsen\", \"Magdalena Nowak\", \"Antoine Martin\", \"Emilie Kowalczyk\", \"Lucas Dupont\", \"Sofia Novotná\", \"Aleksander Jankowski\", \"Sophia Andersen\", \"Maximilian Weber\", \"Léa Leroy\", \"Krzysztof Kowalski\", \"Ava Wagner\", \"Marek Kovac\", \"Ella Schmidt\", \"Louis Lefevre\", \"Kamila Szymanska\", \"Giovanni Rossi\", \"Isabel Gomez\", \"Jonas Andersen\", \"Sofia Costa\", \"Filip Jankowski\", \"Alice Dubois\", \"Mariusz Kowalski\", \"Elena Ferrari\", \"Sebastian Schmidt\", \"Laura Weber\", \"Luca Ricci\", \"Chiara Moretti\", \"Liam Hansen\", \"Hanna Olsen\", \"Jakub Novák\", \"Zofia Nowak\", \"David Müller\", \"Emma Dubois\", \"Jakub Kovac\", \"Lena Fischer\", \"Luca Ferrari\", \"Alicja Kowalczyk\", \"Noah Nielsen\", \"Amelia Andersen\", \"Marek Nowak\", \"Sophie Leroy\", \"Gabriel Dubois\", \"Ava Müller\", \"Oscar Garcia\", \"Eva Weber\", \"Julien Lefevre\", \"Laura Weber\", \"Tomáš Novák\", \"Adéla Novotná\", \"Luca Ferrari\", \"Chiara Moretti\", \"Liam Hansen\", \"Hanna Olsen\", \"Jakub Novák\", \"Zofia Nowak\", \"David Müller\", \"Emma Dubois\", \"Jakub Kovac\", \"Lena Fischer\", \"Luca Ferrari\", \"Alicja Kowalczyk\", \"Noah Nielsen\", \"Amelia Andersen\", \"Marek Nowak\", \"Sophie Leroy\", \"Gabriel Dubois\", \"Ava Müller\", \"Oscar Garcia\", \"Eva Weber\", \"Julien Lefevre\", \"Laura Weber\", \"Tomáš Novák\", \"Adéla Novotná\", \"Lukas Schmitz\", \"Lea Müller\", \"Finn Zimmermann\", \"Sophie Becker\", \"Maximilian Wagner\", \"Hannah Schäfer\", \"Moritz Richter\", \"Lena Schulz\", \"Jonas Becker\", \"Mia Schneider\", \"Leon Schuster\", \"Emma Weber\", \"Luca Hoffmann\", \"Lara Meier\", \"Paul Schmidt\", \"Anna Zimmermann\", \"Benjamin Weber\", \"Lina Fischer\", \"Felix Braun\", \"Mia Wagner\", \"Tim Müller\", \"Emilia Schäfer\", \"Jan Müller\", \"Emma Fischer\", \"Leon Schmid\", \"Sophia Keller\", \"Lukas Vogel\", \"Laura Richter\", \"Tom Becker\", \"Lina Schuster\", \"Niklas Klein\", \"Julia Wolf\", \"Liam Schmitt\", \"Maja Schneider\", \"Noah Lehmann\", \"Emilia Schulz\", \"Elias Richter\", \"Sophie Müller\", \"Luisa Schuster\", \"Paul Becker\", \"Lena Wagner\", \"Erik Schmitz\", \"Mila Weber\", \"Finn Zimmermann\", \"Lina Fischer\", \"Jakob Schäfer\", \"Hanna Becker\", \"Moritz Wagner\", \"Mia Schuster\", \"Luca Weber\", \"Lea Klein\", \"Jonas Müller\", \"Emily Schmidt\", \"Lukas Fischer\", \"Amelie Meier\", \"Nils Richter\", \"Sophia Becker\", \"Maximilian Weber\", \"Fiona Müller\", \"Tom Schuster\", \"Lena Hoffmann\", \"Felix Zimmermann\", \"Emma Schulz\", \"Luca Schmitz\", \"Sophie Becker\", \"Leon Fischer\", \"Laura Müller\", \"Mika Klein\", \"Hannah Vogel\", \"Jan Schuster\", \"Lena Schäfer\", \"Noah Becker\", \"Emilia Schmitz\", \"Paul Klein\", \"Mia Schäfer\", \"Leon Vogel\", \"Lara Müller\", \"Tim Becker\", \"Sophia Weber\", \"Jonas Meier\", \"Lea Richter\", \"Moritz Klein\", \"Emma Schuster\", \"Luca Fischer\", \"Hanna Zimmermann\", \"Mika Lehmann\", \"Sophie Becker\", \"Felix Weber\", \"Lena Schuster\", \"Benjamin Müller\", \"Mia Schmidt\", \"Finn Klein\", \"Lara Wagner\", \"Elias Schäfer\", \"Lina Schuster\", \"Lukas Klein\", \"Anna Becker\", \"Niklas Weber\", \"Fiona Müller\", \"Tom Schuster\", \"Lena Hoffmann\", \"Daan de Jong\", \"Emma Bakker\", \"Luuk Jansen\", \"Fleur Visser\", \"Thijs de Vries\", \"Lotte van Dijk\", \"Stijn van der Meer\", \"Isabel Koster\", \"Ruben de Boer\", \"Anna van Leeuwen\", \"Jesse Smit\", \"Eva de Graaf\", \"Sem van der Linden\", \"Sophie Peters\", \"Bram van der Wal\", \"Lotte van den Brink\", \"Daan van der Heijden\", \"Maud Bos\", \"Jens Molenaar\", \"Elin de Wit\", \"Tom van Dam\", \"Lisa van Beek\", \"Thijs Kuijpers\", \"Isabella Willems\", \"Milan van der Ven\", \"Femke Janssen\", \"Lucas Hendriks\", \"Mara van Gogh\", \"Jayden van der Laan\", \"Lara van den Broek\", \"Mees Vos\", \"Rosa Bakker\", \"Noud van der Meer\", \"Lieke Jacobs\", \"Nick van Beek\", \"Anna van Dam\", \"Jens Visser\", \"Lotte van der Velden\", \"Daan Janssen\", \"Eva de Wit\", \"Luuk Kuijpers\", \"Fleur de Boer\", \"Thomas van der Wal\", \"Sophie de Jong\", \"Tijn Willems\", \"Noa van Dijk\", \"Ruben Molenaar\", \"Maud de Graaf\", \"Finn van der Heijden\", \"Emma Koster\", \"Lars van den Brink\", \"Eva Smit\", \"Niek van der Linden\", \"Isabel Vos\", \"Sem Janssen\", \"Lara de Wit\", \"Jesse Hendriks\", \"Lotte van Gogh\", \"Stijn van der Laan\", \"Lara Vos\", \"Thijs Bakker\", \"Sophie van der Ven\", \"Lucas Jansen\", \"Femke van den Broek\", \"Tom Bos\", \"Lieke van Dam\", \"Luuk van der Velden\", \"Maud Molenaar\", \"Bram van Leeuwen\", \"Anna de Boer\", \"Jayden van der Heijden\", \"Elin van Dijk\", \"Tijn van der Wal\", \"Fleur Vos\", \"Daan van Gogh\", \"Lotte de Graaf\", \"Sem van den Brink\", \"Eva Hendriks\", \"Luuk Visser\", \"Isabel Kuijpers\", \"Jens van Gogh\", \"Sophie Janssen\", \"Noa van der Meer\", \"Lucas van der Laan\", \"Mara van den Broek\", \"Nick Vos\", \"Anna van der Heijden\", \"Noud van Dijk\", \"Femke van Leeuwen\", \"Ruben de Jong\", \"Maud Bakker\", \"Thijs Jansen\", \"Isabel Visser\", \"Jakub Kowalski\", \"Zuzanna Nowak\", \"Mateusz Wojciechowski\", \"Maja Kowalczyk\", \"Filip Nowakowski\", \"Julia Wojcik\", \"Adam Nowak\", \"Natalia Kwiatkowska\", \"Michał Wojciechowski\", \"Wiktoria Nowak\", \"Kacper Kowalczyk\", \"Aleksandra Wojcik\", \"Piotr Nowak\", \"Oliwia Kwiatkowska\", \"Szymon Kowalski\", \"Natalia Nowak\", \"Jan Wojciechowski\", \"Alicja Nowak\", \"Paweł Kowalczyk\", \"Anna Wojcik\", \"Michał Nowak\", \"Katarzyna Kwiatkowska\", \"Mikołaj Kowalski\", \"Karolina Nowak\", \"Patryk Wojciechowski\", \"Zofia Nowak\", \"Bartosz Kowalczyk\", \"Kinga Wojcik\", \"Aleksander Nowak\", \"Nina Kwiatkowska\", \"Maciej Wojciechowski\", \"Weronika Nowak\", \"Kamil Kowalczyk\", \"Natalia Wojcik\", \"Bartłomiej Nowak\", \"Kornelia Kwiatkowska\", \"Wojciech Kowalski\", \"Dominika Nowak\", \"Damian Wojciechowski\", \"Klaudia Wojcik\", \"Hubert Nowak\", \"Michał Kwiatkowski\", \"Oskar Kowalczyk\", \"Amelia Wojcik\", \"Juliusz Nowak\", \"Laura Kwiatkowska\", \"Sebastian Wojciechowski\", \"Martyna Nowak\", \"Daniel Kowalski\", \"Kamila Wojcik\", \"Gabriel Nowak\", \"Wiktoria Kwiatkowska\", \"Aleksandra Kowalczyk\", \"Marta Wojciechowska\", \"Tomasz Nowak\", \"Natalia Nowak\", \"Adrian Wojciechowski\", \"Aleksandra Kwiatkowska\", \"Dominik Kowalski\", \"Magdalena Wojcik\", \"Tymoteusz Nowak\", \"Maja Kwiatkowska\", \"Kornel Kowalski\", \"Zuzanna Nowak\", \"Wiktor Wojciechowski\", \"Martyna Kowalczyk\", \"Igor Nowak\", \"Julia Nowak\", \"Konrad Wojciechowski\", \"Natalia Kwiatkowska\", \"Maksymilian Kowalski\", \"Weronika Wojcik\", \"Kacper Nowak\", \"Zofia Nowak\", \"Tomasz Kowalczyk\", \"Aleksandra Wojcik\", \"Szymon Nowak\", \"Natalia Kwiatkowska\", \"Hubert Kowalski\", \"Dominika Wojcik\", \"Bartosz Nowak\", \"Julia Kwiatkowska\", \"Paweł Wojciechowski\", \"Karolina Nowak\", \"Mateusz Kowalczyk\", \"Kinga Wojcik\", \"Patryk Nowak\", \"Nina Kwiatkowska\", \"Jakub Wojciechowski\", \"Weronika Nowak\", \"Hiroshi Tanaka\", \"Yuki Takahashi\", \"Sakura Suzuki\", \"Takashi Sato\", \"Miyuki Ito\", \"Kazuki Nakamura\", \"Aya Yamamoto\", \"Haruki Sasaki\", \"Yui Kimura\", \"Ryota Watanabe\", \"Yuka Kobayashi\", \"Shohei Yamada\", \"Aiko Nakagawa\", \"Kenta Suzuki\", \"Nana Honda\", \"Tatsuya Kato\", \"Akari Ishikawa\", \"Daiki Yamaguchi\", \"Miku Matsumoto\", \"Kaito Kobayashi\", \"Saki Tanaka\", \"Yuto Kobayashi\", \"Erika Saito\", \"Yuki Takahashi\", \"Riku Suzuki\", \"Mayu Watanabe\", \"Haruto Ito\", \"Mai Yamamoto\", \"Shinji Nakamura\", \"Hina Tanaka\", \"Kazuki Kimura\", \"Ayaka Sasaki\", \"Ryota Yamada\", \"Yui Sato\", \"Takumi Yamaguchi\", \"Yuka Kato\", \"Keisuke Ishikawa\", \"Nao Honda\", \"Kaito Watanabe\", \"Aki Tanaka\", \"Haruka Saito\", \"Ren Suzuki\", \"Yui Matsumoto\", \"Takashi Kobayashi\", \"Miyu Yamamoto\", \"Kenta Sasaki\", \"Aya Ishikawa\", \"Hiroshi Ito\", \"Yuki Nakagawa\", \"Sakura Kimura\", \"Takashi Yamada\", \"Mai Yamamoto\", \"Ryota Tanaka\", \"Aiko Kato\", \"Yui Suzuki\", \"Daiki Matsumoto\", \"Nana Kobayashi\", \"Tatsuya Yamaguchi\", \"Erika Tanaka\", \"Kaito Honda\", \"Saki Watanabe\", \"Shohei Sasaki\", \"Yuka Kimura\", \"Miku Nakagawa\", \"Kazuki Suzuki\", \"Akari Tanaka\", \"Haruki Ito\", \"Miyuki Sato\", \"Kenta Tanaka\", \"Yui Honda\", \"Takashi Watanabe\", \"Yuki Ishikawa\", \"Sakura Nakamura\", \"Takashi Kobayashi\", \"Mai Suzuki\", \"Riku Kato\", \"Mayu Tanaka\", \"Shohei Saito\", \"Aya Kobayashi\", \"Kazuki Yamamoto\", \"Yui Tanaka\", \"Takumi Kato\", \"Saki Honda\", \"Yuki Nakamura\", \"Kaito Kobayashi\", \"Aiko Tanaka\", \"Hiroshi Sato\", \"Yuka Suzuki\", \"Ryota Watanabe\", \"Miyu Honda\", \"Kenta Tanaka\", \"Ayaka Yamamoto\", \"Ren Nakamura\", \"Nao Suzuki\", \"Kaito Kobayashi\", \"Aya Tanaka\", \"Takashi Watanabe\", \"Sakura Sasaki\", \"Daiki Tanaka\", \"Mayu Nakamura\", \"Kazuki Kobayashi\", \"Yui Suzuki\", \"Hiroshi Saito\", \"Rika Tanaka\", \"Yuki Suzuki\", \"Ryota Nakagawa\", \"Miku Watanabe\", \"Takashi Kimura\", \"Ayaka Yamamoto\", \"Kenta Suzuki\", \"Saki Sato\", \"Hiroshi Nakamura\", \"Nao Honda\", \"Kaito Sasaki\", \"Yuka Watanabe\", \"Haruto Tanaka\", \"Miyu Matsumoto\", \"Kenta Sato\", \"Aya Suzuki\", \"Riku Yamaguchi\", \"Nana Kobayashi\", \"Takumi Watanabe\", \"Yui Tanaka\", \"Shohei Kato\", \"Akari Ishikawa\", \"Daiki Suzuki\", \"Mai Kobayashi\", \"Kazuki Yamamoto\", \"Yuki Watanabe\", \"Sakura Honda\", \"Takashi Tanaka\", \"Miyuki Sato\", \"Kaito Watanabe\", \"Saki Suzuki\", \"Hiroshi Kobayashi\", \"Rina Tanaka\", \"Yuki Matsumoto\", \"Ryota Sato\", \"Aya Honda\", \"Yui Yamamoto\", \"Kenta Suzuki\", \"Mai Watanabe\", \"Shohei Nakamura\", \"Nana Honda\", \"Kaito Kato\", \"Akari Sasaki\", \"Haruki Suzuki\", \"Miku Tanaka\", \"Takashi Honda\", \"Yuki Nakamura\", \"Aya Suzuki\", \"Kenta Watanabe\", \"Sakura Saito\", \"Ryota Kobayashi\", \"Mai Suzuki\", \"Daiki Tanaka\", \"Yuka Sasaki\", \"Shohei Sato\", \"Rika Kobayashi\", \"Yuki Yamamoto\", \"Takashi Nakamura\", \"Miyuki Watanabe\", \"Kenta Matsumoto\", \"Akari Kobayashi\", \"Daiki Suzuki\", \"Carlos García\", \"Laura Martínez\", \"Alejandro Rodríguez\", \"Lucía Sánchez\", \"Daniel López\", \"María Pérez\", \"Javier González\", \"Sara Fernández\", \"Miguel Torres\", \"Ana Ruiz\", \"Ángel Díaz\", \"Carmen Vázquez\", \"José Moreno\", \"Isabel Jiménez\", \"Juan Herrera\", \"Paula Flores\", \"Diego Castro\", \"Elena Ortega\", \"Francisco Serrano\", \"Laura Ramírez\", \"Manuel Medina\", \"Natalia Gutiérrez\", \"Adrián Romero\", \"Beatriz Navarro\", \"Víctor Mendoza\", \"Clara Castillo\", \"Pedro Montero\", \"Rocío Herrera\", \"Iván Soto\", \"Alba Cordero\", \"Rafael Ramos\", \"Marina Salgado\", \"Pablo Morales\", \"Isabella Martín\", \"Alberto Fernández\", \"Victoria Molina\", \"Jorge Delgado\", \"Aurora Paredes\", \"Alejandro Vargas\", \"Lorena Cabello\", \"Gabriel Sánchez\", \"Nuria González\", \"Andrés Martínez\", \"Sofía Moya\", \"Mario Guzmán\", \"Cristina Ríos\", \"José Ruiz\", \"Clara González\", \"Miguel Serrano\", \"Eva Ortega\", \"David Medina\", \"Ana García\", \"Roberto Navarro\", \"Lucía Castro\", \"Francisco Ramírez\", \"Martina Jiménez\", \"Javier Díaz\", \"Sara López\", \"Carlos Sánchez\", \"Adriana Mendoza\", \"Jesús Romero\", \"María Castillo\", \"Francisco Salgado\", \"Carolina Morales\", \"Luis Fernández\", \"Valentina Molina\", \"Alejandro Delgado\", \"Celia Paredes\", \"Ángel Ramos\", \"Alicia Guzmán\", \"Jorge Martín\", \"Laura Cabello\", \"Fernando Sánchez\", \"Marina Vargas\", \"José Moya\", \"Elena Ramos\", \"Daniel González\", \"Natalia Martínez\", \"Juan Molina\", \"Ana Delgado\", \"Pablo Ríos\", \"Lorena González\", \"Víctor Medina\", \"Isabella García\", \"Alberto Salgado\", \"Rocío Guzmán\", \"Andrés Fernández\", \"Beatriz Navarro\", \"Mario Cabello\", \"Sofía Ramos\", \"Gabriel Mendoza\", \"Clara Pérez\", \"Pedro Romero\", \"Alba Jiménez\", \"Iván Castillo\", \"Nuria Ortega\", \"Carlos Vargas\", \"Laura Díaz\", \"Alejandro Sánchez\", \"Lucía Martínez\", \"Daniel Rodríguez\", \"María Sánchez\", \"Javier López\", \"Sara Pérez\", \"Miguel González\", \"Ana Fernández\", \"Ángel Pérez\", \"Carmen Vázquez\", \"José Moreno\", \"Isabel Jiménez\", \"Emma Johnson\", \"Liam Smith\", \"Olivia Davis\", \"Noah Taylor\", \"Ava Anderson\", \"Sophia Brown\", \"Jackson Miller\", \"Isabella Moore\", \"Lucas Wilson\", \"Aria Jones\", \"Liam Johnson\", \"Olivia Davis\", \"Ethan Smith\", \"Ava Anderson\", \"Sophia Brown\", \"Jackson Miller\", \"Isabella Moore\", \"Lucas Wilson\", \"Aria Jones\", \"Ella Taylor\", \"Mia White\", \"Logan Harris\", \"Amelia Hall\", \"Ethan Martin\", \"Olivia Davis\", \"Noah Taylor\", \"Ava Anderson\", \"Sophia Brown\", \"Jackson Miller\", \"Isabella Moore\", \"Lucas Wilson\", \"Aria Jones\", \"Emma Johnson\", \"Liam Smith\", \"Olivia Davis\", \"Noah Taylor\", \"Ava Anderson\", \"Sophia Brown\", \"Jackson Miller\", \"Isabella Moore\", \"Lucas Wilson\", \"Aria Jones\", \"Liam Johnson\", \"Olivia Davis\", \"Ethan Smith\", \"Ava Anderson\", \"Sophia Brown\", \"Jackson Miller\", \"Isabella Moore\", \"Lucas Wilson\", \"Aria Jones\", \"Ella Taylor\", \"Mia White\", \"Logan Harris\", \"Amelia Hall\", \"Ethan Martin\", \"Olivia Davis\", \"Noah Taylor\", \"Ava Anderson\", \"Sophia Brown\", \"Jackson Miller\", \"Isabella Moore\", \"Lucas Wilson\", \"Aria Jones\", \"Emma Johnson\", \"Liam Smith\", \"Olivia Davis\", \"Noah Taylor\", \"Ava Anderson\", \"Sophia Brown\", \"Jackson Miller\", \"Isabella Moore\", \"Lucas Wilson\", \"Aria Jones\", \"Liam Johnson\", \"Olivia Davis\", \"Ethan Smith\", \"Ava Anderson\", \"Sophia Brown\", \"Jackson Miller\", \"Isabella Moore\", \"Lucas Wilson\", \"Aria Jones\", \"Ella Taylor\", \"Mia White\", \"Logan Harris\", \"Amelia Hall\", \"Ethan Martin\", \"Olivia Davis\", \"Noah Taylor\", \"Ava Anderson\", \"Sophia Brown\", \"Jackson Miller\", \"Isabella Moore\", \"Lucas Wilson\", \"Aria Jones\", \"Emma Johnson\", \"Liam Smith\", \"Olivia Davis\", \"Noah Taylor\", \"Ava Anderson\", \"Sophia Brown\", \"Jackson Miller\", \"Isabella Moore\", \"Lucas Wilson\", \"Aria Jones\", \"Harry Potter\", \"Hermione Granger\", \"Ron Weasley\", \"Gandalf\", \"Frodo Baggins\", \"Aragorn\", \"Legolas\", \"Gimli\", \"Samwise Gamgee\", \"Gollum\", \"Luke Skywalker\", \"Princess Leia\", \"Han Solo\", \"Obi-Wan Kenobi\", \"Yoda\", \"Darth Vader\", \"Anakin Skywalker\", \"Padmé Amidala\", \"Frodo Baggins\", \"Samwise Gamgee\", \"Gollum\", \"Aragorn\", \"Legolas\", \"Gimli\", \"Bilbo Baggins\", \"Thorin Oakenshield\", \"Gandalf\", \"Harry Potter\", \"Hermione Granger\", \"Ron Weasley\", \"Albus Dumbledore\", \"Severus Snape\", \"Sirius Black\", \"Luna Lovegood\", \"Neville Longbottom\", \"Dobby\", \"Arya Stark\", \"Jon Snow\", \"Daenerys Targaryen\", \"Tyrion Lannister\", \"Cersei Lannister\", \"Sansa Stark\", \"Bilbo Baggins\", \"Frodo Baggins\", \"Gollum\", \"Aragorn\", \"Legolas\", \"Gimli\", \"Samwise Gamgee\", \"Galadriel\", \"Gandalf\", \"Faramir\", \"Sherlock Holmes\", \"John Watson\", \"Mycroft Holmes\", \"Irene Adler\", \"James Moriarty\", \"Doctor John Watson\", \"Molly Hooper\", \"Mrs. Hudson\", \"Hannibal Lecter\", \"Will Graham\", \"Clarice Starling\", \"Jack Crawford\", \"Alana Bloom\", \"Margot Verger\", \"Dexter Morgan\", \"Debra Morgan\", \"Harry Morgan\", \"Rita Morgan\", \"Joey Quinn\", \"Angel Batista\", \"Rudy Cooper\", \"Dolores Abernathy\", \"Teddy Flood\", \"Maeve Millay\", \"Bernard Lowe\", \"William\", \"The Man in Black\", \"Clementine Pennyfeather\", \"Hector Escaton\", \"Dolores Abernathy\", \"Logan\", \"Peter Abernathy\", \"Clementine Pennyfeather\", \"Elsa Mars\", \"Bette and Dot Tattler\", \"Jimmy Darling\", \"Dandy Mott\", \"Ethereal\", \"Misty Day\", \"Queenie\", \"Cordelia Foxx\", \"Madison Montgomery\", \"Tate Langdon\", \"Vivien Harmon\", \"Ben Harmon\", \"Constance Langdon\", \"Bill Cipher\", \"Dipper Pines\", \"Mabel Pines\", \"Stanley Pines\", \"Ford Pines\", \"Wendy Corduroy\", \"Soos Ramirez\", \"Gideon Gleeful\", \"Pacifica Northwest\", \"Tyrion Lannister\", \"Cersei Lannister\", \"Jaime Lannister\", \"Tywin Lannister\", \"Jon Snow\", \"Daenerys Targaryen\", \"Arya Stark\", \"Sansa Stark\", \"Eddard Stark\", \"Robb Stark\", \"Catelyn Stark\", \"Joffrey Baratheon\", \"Tyrion Lannister\", \"Cersei Lannister\", \"Jaime Lannister\", \"Tywin Lannister\", \"Jon Snow\", \"Daenerys Targaryen\", \"Arya Stark\", \"Sansa Stark\", \"Eddard Stark\", \"Robb Stark\", \"Catelyn Stark\", \"Joffrey Baratheon\", \"Mohammed Ahmed\", \"Fatima Hassan\", \"Ali Khan\", \"Aisha Malik\", \"Omar Abbas\", \"Leila Al-Farsi\", \"Ahmed Ibrahim\", \"Noura Abdullah\", \"Youssef Al-Mansoori\", \"Layla Nasser\", \"Mustafa Khalid\", \"Jasmine Al-Rashid\", \"Zayd Al-Hakim\", \"Sofia Karim\", \"Amir Al-Mazari\", \"Amina Al-Masri\", \"Samir Al-Farsi\", \"Lina Al-Sabah\", \"Tariq Al-Maliki\", \"Aya Al-Hassan\", \"Nasser Ahmed\", \"Hana Saad\", \"Khalid Al-Jabari\", \"Mona Al-Farsi\", \"Rashid Omar\", \"Noor Al-Hashmi\", \"Zainab Al-Ghazi\", \"Jibril Al-Hakim\", \"Layla Al-Sabah\", \"Yusuf Al-Mansoor\", \"Farida Al-Farsi\", \"Amir Al-Rashid\", \"Aisha Al-Ghazi\", \"Tariq Al-Maliki\", \"Sara Al-Masri\", \"Ibrahim Al-Hassan\", \"Layla Nasser\", \"Omar Abbas\", \"Sofia Karim\", \"Zayd Al-Hakim\", \"Amira Al-Mansoori\", \"Ahmed Ibrahim\", \"Noura Abdullah\", \"Youssef Al-Mansoori\", \"Layla Nasser\", \"Mustafa Khalid\", \"Jasmine Al-Rashid\", \"Zayd Al-Hakim\", \"Sofia Karim\", \"Amir Al-Mazari\", \"Amina Al-Masri\", \"Samir Al-Farsi\", \"Lina Al-Sabah\", \"Tariq Al-Maliki\", \"Aya Al-Hassan\", \"Nasser Ahmed\", \"Hana Saad\", \"Khalid Al-Jabari\", \"Mona Al-Farsi\", \"Rashid Omar\", \"Noor Al-Hashmi\", \"Zainab Al-Ghazi\", \"Jibril Al-Hakim\", \"Layla Al-Sabah\", \"Yusuf Al-Mansoor\", \"Farida Al-Farsi\", \"Amir Al-Rashid\", \"Aisha Al-Ghazi\", \"Tariq Al-Maliki\", \"Sara Al-Masri\", \"Ibrahim Al-Hassan\", \"Layla Nasser\", \"Omar Abbas\", \"Sofia Karim\", \"Zayd Al-Hakim\", \"Amira Al-Mansoori\", \"Ahmed Ibrahim\", \"Noura Abdullah\", \"Youssef Al-Mansoori\", \"Layla Nasser\", \"Mustafa Khalid\", \"Jasmine Al-Rashid\", \"Zayd Al-Hakim\", \"Sofia Karim\", \"Amir Al-Mazari\", \"Amina Al-Masri\", \"Samir Al-Farsi\", \"Lina Al-Sabah\", \"Tariq Al-Maliki\", \"Aya Al-Hassan\", \"Nasser Ahmed\", \"Hana Saad\", \"Khalid Al-Jabari\", \"Mona Al-Farsi\", \"Rashid Omar\", \"Noor Al-Hashmi\", \"Zainab Al-Ghazi\", \"Jibril Al-Hakim\", \"Layla Al-Sabah\", \"Yusuf Al-Mansoor\", \"Farida Al-Farsi\", \"Amir Al-Rashid\", \"Aisha Al-Ghazi\", \"Tariq Al-Maliki\", \"Sara Al-Masri\", \"Ibrahim Al-Hassan\", \"Ahmet Yılmaz\", \"Ayşe Kaya\", \"Mehmet Arslan\", \"Fatma Demir\", \"Mustafa Çelik\", \"Emine Öztürk\", \"Osman Ekinci\", \"Zeynep Yıldız\", \"İsmail Aydın\", \"Hatice Şahin\", \"Yusuf Demirtaş\", \"Şehriban Güneş\", \"Kadir Kocaman\", \"Nur Avcı\", \"Hüseyin Aksoy\", \"Sevgi Türk\", \"Ali Yılmaz\", \"Gülay Yıldırım\", \"Murat Tekin\", \"Nesrin Koç\", \"Turgut Sönmez\", \"Sultan Gür\", \"Levent Taş\", \"Şule Ateş\", \"Oktay Erdoğan\", \"Elif Can\", \"Burak Karadeniz\", \"Gamze Gündüz\", \"Mert Karagöz\", \"Pelin Arıkan\", \"Kemal Sarı\", \"Duygu Özkan\", \"Ozan Tekin\", \"Şule Yılmaz\", \"Cemal Erkan\", \"Hilal Çetin\", \"Onur Yalçın\", \"Zeliha Kılıç\", \"Hakan Ay\", \"Esra Yıldız\", \"Tansu Kaya\", \"Gizem Yavuz\", \"İlkay Yücel\", \"Serap Şahin\", \"Ömer Kaya\", \"Yasemin Taş\", \"Mehmet Yılmaz\", \"Gülçin Arslan\", \"Cihan Yıldırım\", \"Meltem Can\", \"Halil Akın\", \"Sibel Tekin\", \"Ercan Öztürk\", \"Aylin Güneş\", \"Yasin Kılıç\", \"Sevda Taş\", \"Mert Yıldız\", \"Ayşegül Aydın\", \"Ahmet Şahin\", \"Rabia Yıldırım\", \"Emre Kocaman\", \"Hülya Türk\", \"Kerem Erdoğan\", \"Gülbahar Kaya\", \"Gökhan Avcı\", \"Rabia Koç\", \"Oktay Yılmaz\", \"Selin Yıldırım\", \"Hüseyin Aksoy\", \"Burcu Gür\", \"Tolga Can\", \"Cansu Kaya\", \"Kaan Taş\", \"Gizem Karagöz\", \"Emre Karadeniz\", \"Büşra Gündüz\", \"Yavuz Erkan\", \"İrem Şahin\", \"Ozan Kocaman\", \"Nazlı Avcı\", \"Ahmet Yılmaz\", \"Ayşe Kaya\", \"Mehmet Arslan\", \"Fatma Demir\", \"Mustafa Çelik\", \"Emine Öztürk\", \"Osman Ekinci\", \"Zeynep Yıldız\", \"İsmail Aydın\", \"Hatice Şahin\", \"Yusuf Demirtaş\", \"Şehriban Güneş\", \"Kadir Kocaman\", \"Nur Avcı\", \"Hüseyin Aksoy\", \"Sevgi Türk\", \"Ali Yılmaz\", \"Gülay Yıldırım\", \"Murat Tekin\", \"Nesrin Koç\", \"Turgut Sönmez\", \"Sultan Gür\", \"Levent Taş\", \"Şule Ateş\", \"Oktay Erdoğan\", \"Elif Can\", \"Burak Karadeniz\", \"Gamze Gündüz\", \"Mert Karagöz\", \"Pelin Arıkan\", \"Kemal Sarı\", \"Duygu Özkan\", \"Ozan Tekin\", \"Şule Yılmaz\", \"Cemal Erkan\", \"Hilal Çetin\", \"Onur Yalçın\", \"Zeliha Kılıç\", \"Hakan Ay\", \"Esra Yıldız\", \"Tansu Kaya\", \"Gizem Yavuz\", \"İlkay Yücel\", \"Serap Şahin\", \"Ömer Kaya\", \"Yasemin Taş\"]\n",
    "\n",
    "employee_name_list = [\n",
    "    employee.split(\" \")[0] + \" Smith\"\n",
    "    if len(employee.split(\" \")) == 1\n",
    "    else employee\n",
    "    for employee in employee_name_list]\n",
    "employee_name_list = list(np.unique(employee_name_list))\n",
    "len(employee_name_list)"
   ]
  },
  {
   "cell_type": "code",
   "execution_count": 60,
   "metadata": {},
   "outputs": [
    {
     "data": {
      "text/plain": [
       "8312"
      ]
     },
     "execution_count": 60,
     "metadata": {},
     "output_type": "execute_result"
    }
   ],
   "source": [
    "firstname_list = [employee.split(\" \")[0] for employee in employee_name_list]\n",
    "lastname_list = [employee.split(\" \")[1] for employee in employee_name_list]\n",
    "\n",
    "employee_name_list_shfl = list(zip(firstname_list, lastname_list))\n",
    "for _ in range(0, 3):\n",
    "    shuffle_list = list(employee_name_list_shfl)\n",
    "    random.shuffle(shuffle_list)\n",
    "    employee_name_list_shfl += shuffle_list\n",
    "\n",
    "employee_name_list_prep = [firstname + \" \" + lastname for firstname, lastname in employee_name_list_shfl]\n",
    "len(employee_name_list_prep)"
   ]
  },
  {
   "cell_type": "code",
   "execution_count": 61,
   "metadata": {},
   "outputs": [
    {
     "data": {
      "text/html": [
       "<div>\n",
       "<style scoped>\n",
       "    .dataframe tbody tr th:only-of-type {\n",
       "        vertical-align: middle;\n",
       "    }\n",
       "\n",
       "    .dataframe tbody tr th {\n",
       "        vertical-align: top;\n",
       "    }\n",
       "\n",
       "    .dataframe thead th {\n",
       "        text-align: right;\n",
       "    }\n",
       "</style>\n",
       "<table border=\"1\" class=\"dataframe\">\n",
       "  <thead>\n",
       "    <tr style=\"text-align: right;\">\n",
       "      <th></th>\n",
       "      <th>id</th>\n",
       "      <th>firstname</th>\n",
       "      <th>lastname</th>\n",
       "      <th>birthdate</th>\n",
       "      <th>entry_date</th>\n",
       "      <th>leave_date</th>\n",
       "    </tr>\n",
       "  </thead>\n",
       "  <tbody>\n",
       "    <tr>\n",
       "      <th>0</th>\n",
       "      <td>1</td>\n",
       "      <td>Abigail</td>\n",
       "      <td>Anderson</td>\n",
       "      <td>1983-11-05</td>\n",
       "      <td>2023-11-21</td>\n",
       "      <td>NaT</td>\n",
       "    </tr>\n",
       "    <tr>\n",
       "      <th>1</th>\n",
       "      <td>2</td>\n",
       "      <td>Abigail</td>\n",
       "      <td>Davis</td>\n",
       "      <td>1972-12-05</td>\n",
       "      <td>2012-08-24</td>\n",
       "      <td>NaT</td>\n",
       "    </tr>\n",
       "    <tr>\n",
       "      <th>2</th>\n",
       "      <td>3</td>\n",
       "      <td>Abigail</td>\n",
       "      <td>Garcia</td>\n",
       "      <td>1992-05-24</td>\n",
       "      <td>2006-03-22</td>\n",
       "      <td>NaT</td>\n",
       "    </tr>\n",
       "    <tr>\n",
       "      <th>3</th>\n",
       "      <td>4</td>\n",
       "      <td>Abigail</td>\n",
       "      <td>Harris</td>\n",
       "      <td>1953-09-05</td>\n",
       "      <td>2013-02-11</td>\n",
       "      <td>NaT</td>\n",
       "    </tr>\n",
       "    <tr>\n",
       "      <th>4</th>\n",
       "      <td>5</td>\n",
       "      <td>Abigail</td>\n",
       "      <td>Lewis</td>\n",
       "      <td>1966-02-04</td>\n",
       "      <td>2023-09-07</td>\n",
       "      <td>NaT</td>\n",
       "    </tr>\n",
       "    <tr>\n",
       "      <th>...</th>\n",
       "      <td>...</td>\n",
       "      <td>...</td>\n",
       "      <td>...</td>\n",
       "      <td>...</td>\n",
       "      <td>...</td>\n",
       "      <td>...</td>\n",
       "    </tr>\n",
       "    <tr>\n",
       "      <th>8307</th>\n",
       "      <td>8308</td>\n",
       "      <td>Andreas</td>\n",
       "      <td>Weber</td>\n",
       "      <td>1968-05-10</td>\n",
       "      <td>2008-12-16</td>\n",
       "      <td>NaT</td>\n",
       "    </tr>\n",
       "    <tr>\n",
       "      <th>8308</th>\n",
       "      <td>8309</td>\n",
       "      <td>Hiroshi</td>\n",
       "      <td>Sato</td>\n",
       "      <td>1951-05-31</td>\n",
       "      <td>1995-07-29</td>\n",
       "      <td>NaT</td>\n",
       "    </tr>\n",
       "    <tr>\n",
       "      <th>8309</th>\n",
       "      <td>8310</td>\n",
       "      <td>Cristina</td>\n",
       "      <td>Ríos</td>\n",
       "      <td>1957-09-15</td>\n",
       "      <td>1998-12-19</td>\n",
       "      <td>NaT</td>\n",
       "    </tr>\n",
       "    <tr>\n",
       "      <th>8310</th>\n",
       "      <td>8311</td>\n",
       "      <td>Alba</td>\n",
       "      <td>Jiménez</td>\n",
       "      <td>1991-08-02</td>\n",
       "      <td>2014-03-28</td>\n",
       "      <td>NaT</td>\n",
       "    </tr>\n",
       "    <tr>\n",
       "      <th>8311</th>\n",
       "      <td>8312</td>\n",
       "      <td>Juan</td>\n",
       "      <td>Herrera</td>\n",
       "      <td>1986-09-17</td>\n",
       "      <td>2002-07-28</td>\n",
       "      <td>NaT</td>\n",
       "    </tr>\n",
       "  </tbody>\n",
       "</table>\n",
       "<p>8312 rows × 6 columns</p>\n",
       "</div>"
      ],
      "text/plain": [
       "        id firstname  lastname  birthdate entry_date leave_date\n",
       "0        1   Abigail  Anderson 1983-11-05 2023-11-21        NaT\n",
       "1        2   Abigail     Davis 1972-12-05 2012-08-24        NaT\n",
       "2        3   Abigail    Garcia 1992-05-24 2006-03-22        NaT\n",
       "3        4   Abigail    Harris 1953-09-05 2013-02-11        NaT\n",
       "4        5   Abigail     Lewis 1966-02-04 2023-09-07        NaT\n",
       "...    ...       ...       ...        ...        ...        ...\n",
       "8307  8308   Andreas     Weber 1968-05-10 2008-12-16        NaT\n",
       "8308  8309   Hiroshi      Sato 1951-05-31 1995-07-29        NaT\n",
       "8309  8310  Cristina      Ríos 1957-09-15 1998-12-19        NaT\n",
       "8310  8311      Alba   Jiménez 1991-08-02 2014-03-28        NaT\n",
       "8311  8312      Juan   Herrera 1986-09-17 2002-07-28        NaT\n",
       "\n",
       "[8312 rows x 6 columns]"
      ]
     },
     "execution_count": 61,
     "metadata": {},
     "output_type": "execute_result"
    }
   ],
   "source": [
    "employee_rng = range(1, len(employee_name_list_prep) + 1)\n",
    "\n",
    "firstname_list = [employee.split(\" \")[0] for employee in employee_name_list_prep]\n",
    "lastname_list = [employee.split(\" \")[1] for employee in employee_name_list_prep]\n",
    "\n",
    "entry_date_kwargs = {\n",
    "    \"min_datetime\": datetime(1995, 1, 1),\n",
    "    \"max_datetime\": datetime(2025, 12, 31)\n",
    "}\n",
    "df_employee = pd.DataFrame({\n",
    "    \"id\": [i for i in employee_rng],\n",
    "    \"firstname\": firstname_list,\n",
    "    \"lastname\": lastname_list,\n",
    "    \"birthdate\": [random_date() for _ in employee_rng],\n",
    "    \"entry_date\": [random_date(**entry_date_kwargs) for _ in employee_rng],\n",
    "})\n",
    "df_employee[\"leave_date\"] = pd.NaT\n",
    "\n",
    "df_employee"
   ]
  },
  {
   "cell_type": "code",
   "execution_count": 62,
   "metadata": {},
   "outputs": [
    {
     "name": "stdout",
     "output_type": "stream",
     "text": [
      "CSV successfully created at: ./_md_employee.csv\n"
     ]
    }
   ],
   "source": [
    "write_md_csv(df_employee, \"employee\")"
   ]
  },
  {
   "cell_type": "markdown",
   "metadata": {},
   "source": [
    "### department"
   ]
  },
  {
   "cell_type": "code",
   "execution_count": 63,
   "metadata": {},
   "outputs": [
    {
     "data": {
      "text/plain": [
       "48"
      ]
     },
     "execution_count": 63,
     "metadata": {},
     "output_type": "execute_result"
    }
   ],
   "source": [
    "department_list = [\"Marketing;Marketing & Research\", \"Finance;Financial Management\", \"Human Resources;Employee Relations\", \"Research and Development;Innovation\", \"Customer Support;Client Services\", \"Sales;Business Development\", \"Information Technology;IT Services\", \"Legal;Legal Affairs\", \"Operations;Operational Excellence\", \"Product Management;Product Development\", \"Quality Assurance;Quality Control\", \"Supply Chain;Logistics\", \"Administration;Administrative Services\", \"Public Relations;Corporate Communications\", \"Engineering;Technical Innovation\", \"Training and Development;Employee Training\", \"Business Development;Market Expansion\", \"Data Science;Data Analytics\", \"Corporate Communications;Public Relations\", \"Security;Corporate Security\", \"Facilities Management;Building Operations\", \"Strategic Planning;Business Strategy\", \"Project Management;Project Coordination\", \"Health and Safety;Occupational Health\", \"Internal Audit;Financial Auditing\", \"Risk Management;Risk Assessment\", \"Procurement;Supply Management\", \"Corporate Social Responsibility;Sustainability\", \"Employee Relations;Human Resources\", \"Environmental Affairs;Sustainability\", \"Corporate Training;Professional Development\", \"Legal Compliance;Regulatory Compliance\", \"Event Management;Event Planning\", \"Community Relations;Community Engagement\", \"Diversity and Inclusion;Inclusive Practices\", \"Innovation;Research and Development\", \"Corporate Affairs;Corporate Relations\", \"Sustainability;Environmental Stewardship\", \"Information Security;Cybersecurity\", \"Regulatory Affairs;Compliance\", \"Global Partnerships;International Alliances\", \"Strategic Alliances;Business Partnerships\", \"Customer Experience;Client Satisfaction\", \"Brand Management;Brand Development\", \"Corporate Strategy;Business Strategy\", \"Digital Marketing;Online Marketing\", \"International Business;Global Expansion\", \"Market Research;Market Analysis\"]\n",
    "department_list = list(np.unique(department_list))\n",
    "len(department_list)"
   ]
  },
  {
   "cell_type": "code",
   "execution_count": 64,
   "metadata": {},
   "outputs": [
    {
     "data": {
      "text/html": [
       "<div>\n",
       "<style scoped>\n",
       "    .dataframe tbody tr th:only-of-type {\n",
       "        vertical-align: middle;\n",
       "    }\n",
       "\n",
       "    .dataframe tbody tr th {\n",
       "        vertical-align: top;\n",
       "    }\n",
       "\n",
       "    .dataframe thead th {\n",
       "        text-align: right;\n",
       "    }\n",
       "</style>\n",
       "<table border=\"1\" class=\"dataframe\">\n",
       "  <thead>\n",
       "    <tr style=\"text-align: right;\">\n",
       "      <th></th>\n",
       "      <th>id</th>\n",
       "      <th>name</th>\n",
       "    </tr>\n",
       "  </thead>\n",
       "  <tbody>\n",
       "    <tr>\n",
       "      <th>0</th>\n",
       "      <td>1</td>\n",
       "      <td>Administration;Administrative Services</td>\n",
       "    </tr>\n",
       "    <tr>\n",
       "      <th>1</th>\n",
       "      <td>2</td>\n",
       "      <td>Brand Management;Brand Development</td>\n",
       "    </tr>\n",
       "    <tr>\n",
       "      <th>2</th>\n",
       "      <td>3</td>\n",
       "      <td>Business Development;Market Expansion</td>\n",
       "    </tr>\n",
       "    <tr>\n",
       "      <th>3</th>\n",
       "      <td>4</td>\n",
       "      <td>Community Relations;Community Engagement</td>\n",
       "    </tr>\n",
       "    <tr>\n",
       "      <th>4</th>\n",
       "      <td>5</td>\n",
       "      <td>Corporate Affairs;Corporate Relations</td>\n",
       "    </tr>\n",
       "  </tbody>\n",
       "</table>\n",
       "</div>"
      ],
      "text/plain": [
       "   id                                      name\n",
       "0   1    Administration;Administrative Services\n",
       "1   2        Brand Management;Brand Development\n",
       "2   3     Business Development;Market Expansion\n",
       "3   4  Community Relations;Community Engagement\n",
       "4   5     Corporate Affairs;Corporate Relations"
      ]
     },
     "execution_count": 64,
     "metadata": {},
     "output_type": "execute_result"
    }
   ],
   "source": [
    "department_rng = range(1, len(department_list) + 1)\n",
    "\n",
    "df_department = pd.DataFrame({\n",
    "    \"id\": [i for i in department_rng],\n",
    "    \"name\": department_list,\n",
    "})\n",
    "\n",
    "df_department.head()"
   ]
  },
  {
   "cell_type": "code",
   "execution_count": 65,
   "metadata": {},
   "outputs": [
    {
     "name": "stdout",
     "output_type": "stream",
     "text": [
      "CSV successfully created at: ./_md_department.csv\n"
     ]
    }
   ],
   "source": [
    "write_md_csv(df_department, \"department\")"
   ]
  },
  {
   "cell_type": "markdown",
   "metadata": {},
   "source": [
    "### Costcenter"
   ]
  },
  {
   "cell_type": "code",
   "execution_count": 66,
   "metadata": {},
   "outputs": [
    {
     "data": {
      "text/plain": [
       "(2190, 2190)"
      ]
     },
     "execution_count": 66,
     "metadata": {},
     "output_type": "execute_result"
    }
   ],
   "source": [
    "buKr_list_tmp = [1735 + i for i in range(0, 15)]\n",
    "costcenter_short_list_tmp = [f\"00{i}\" for i in range(10000, 90000, 550)]\n",
    "costcenter_list_zip = list(product(buKr_list_tmp, costcenter_short_list_tmp))\n",
    "costcenter_name_list = [f\"KSTNAME{i}_1;KSTNAME{i}_2\" for i in range(1, len(costcenter_list_zip)+1)]\n",
    "len(costcenter_list_zip), len(costcenter_name_list)"
   ]
  },
  {
   "cell_type": "code",
   "execution_count": 67,
   "metadata": {},
   "outputs": [
    {
     "data": {
      "text/html": [
       "<div>\n",
       "<style scoped>\n",
       "    .dataframe tbody tr th:only-of-type {\n",
       "        vertical-align: middle;\n",
       "    }\n",
       "\n",
       "    .dataframe tbody tr th {\n",
       "        vertical-align: top;\n",
       "    }\n",
       "\n",
       "    .dataframe thead th {\n",
       "        text-align: right;\n",
       "    }\n",
       "</style>\n",
       "<table border=\"1\" class=\"dataframe\">\n",
       "  <thead>\n",
       "    <tr style=\"text-align: right;\">\n",
       "      <th></th>\n",
       "      <th>id</th>\n",
       "      <th>buKr</th>\n",
       "      <th>costcenter_short</th>\n",
       "      <th>name</th>\n",
       "    </tr>\n",
       "  </thead>\n",
       "  <tbody>\n",
       "    <tr>\n",
       "      <th>0</th>\n",
       "      <td>1</td>\n",
       "      <td>1735</td>\n",
       "      <td>0010000</td>\n",
       "      <td>KSTNAME1_1;KSTNAME1_2</td>\n",
       "    </tr>\n",
       "    <tr>\n",
       "      <th>1</th>\n",
       "      <td>2</td>\n",
       "      <td>1735</td>\n",
       "      <td>0010550</td>\n",
       "      <td>KSTNAME2_1;KSTNAME2_2</td>\n",
       "    </tr>\n",
       "    <tr>\n",
       "      <th>2</th>\n",
       "      <td>3</td>\n",
       "      <td>1735</td>\n",
       "      <td>0011100</td>\n",
       "      <td>KSTNAME3_1;KSTNAME3_2</td>\n",
       "    </tr>\n",
       "    <tr>\n",
       "      <th>3</th>\n",
       "      <td>4</td>\n",
       "      <td>1735</td>\n",
       "      <td>0011650</td>\n",
       "      <td>KSTNAME4_1;KSTNAME4_2</td>\n",
       "    </tr>\n",
       "    <tr>\n",
       "      <th>4</th>\n",
       "      <td>5</td>\n",
       "      <td>1735</td>\n",
       "      <td>0012200</td>\n",
       "      <td>KSTNAME5_1;KSTNAME5_2</td>\n",
       "    </tr>\n",
       "    <tr>\n",
       "      <th>...</th>\n",
       "      <td>...</td>\n",
       "      <td>...</td>\n",
       "      <td>...</td>\n",
       "      <td>...</td>\n",
       "    </tr>\n",
       "    <tr>\n",
       "      <th>2185</th>\n",
       "      <td>2186</td>\n",
       "      <td>1749</td>\n",
       "      <td>0087550</td>\n",
       "      <td>KSTNAME2186_1;KSTNAME2186_2</td>\n",
       "    </tr>\n",
       "    <tr>\n",
       "      <th>2186</th>\n",
       "      <td>2187</td>\n",
       "      <td>1749</td>\n",
       "      <td>0088100</td>\n",
       "      <td>KSTNAME2187_1;KSTNAME2187_2</td>\n",
       "    </tr>\n",
       "    <tr>\n",
       "      <th>2187</th>\n",
       "      <td>2188</td>\n",
       "      <td>1749</td>\n",
       "      <td>0088650</td>\n",
       "      <td>KSTNAME2188_1;KSTNAME2188_2</td>\n",
       "    </tr>\n",
       "    <tr>\n",
       "      <th>2188</th>\n",
       "      <td>2189</td>\n",
       "      <td>1749</td>\n",
       "      <td>0089200</td>\n",
       "      <td>KSTNAME2189_1;KSTNAME2189_2</td>\n",
       "    </tr>\n",
       "    <tr>\n",
       "      <th>2189</th>\n",
       "      <td>2190</td>\n",
       "      <td>1749</td>\n",
       "      <td>0089750</td>\n",
       "      <td>KSTNAME2190_1;KSTNAME2190_2</td>\n",
       "    </tr>\n",
       "  </tbody>\n",
       "</table>\n",
       "<p>2190 rows × 4 columns</p>\n",
       "</div>"
      ],
      "text/plain": [
       "        id  buKr costcenter_short                         name\n",
       "0        1  1735          0010000        KSTNAME1_1;KSTNAME1_2\n",
       "1        2  1735          0010550        KSTNAME2_1;KSTNAME2_2\n",
       "2        3  1735          0011100        KSTNAME3_1;KSTNAME3_2\n",
       "3        4  1735          0011650        KSTNAME4_1;KSTNAME4_2\n",
       "4        5  1735          0012200        KSTNAME5_1;KSTNAME5_2\n",
       "...    ...   ...              ...                          ...\n",
       "2185  2186  1749          0087550  KSTNAME2186_1;KSTNAME2186_2\n",
       "2186  2187  1749          0088100  KSTNAME2187_1;KSTNAME2187_2\n",
       "2187  2188  1749          0088650  KSTNAME2188_1;KSTNAME2188_2\n",
       "2188  2189  1749          0089200  KSTNAME2189_1;KSTNAME2189_2\n",
       "2189  2190  1749          0089750  KSTNAME2190_1;KSTNAME2190_2\n",
       "\n",
       "[2190 rows x 4 columns]"
      ]
     },
     "execution_count": 67,
     "metadata": {},
     "output_type": "execute_result"
    }
   ],
   "source": [
    "costcenter_rng = range(1, len(costcenter_list_zip) + 1)\n",
    "\n",
    "buKr_list = [kst[0] for kst in costcenter_list_zip]\n",
    "costcenter_short_list = [kst[1] for kst in costcenter_list_zip]\n",
    "\n",
    "df_costcenter = pd.DataFrame({\n",
    "    \"id\": [i for i in costcenter_rng],\n",
    "    \"buKr\": buKr_list,\n",
    "    \"costcenter_short\": costcenter_short_list,\n",
    "    \"name\": costcenter_name_list\n",
    "})\n",
    "\n",
    "df_costcenter"
   ]
  },
  {
   "cell_type": "code",
   "execution_count": 68,
   "metadata": {},
   "outputs": [
    {
     "name": "stdout",
     "output_type": "stream",
     "text": [
      "CSV successfully created at: ./_md_costcenter.csv\n"
     ]
    }
   ],
   "source": [
    "write_md_csv(df_costcenter, \"costcenter\")"
   ]
  },
  {
   "cell_type": "markdown",
   "metadata": {},
   "source": [
    "### project"
   ]
  },
  {
   "cell_type": "code",
   "execution_count": 69,
   "metadata": {},
   "outputs": [
    {
     "data": {
      "text/plain": [
       "581"
      ]
     },
     "execution_count": 69,
     "metadata": {},
     "output_type": "execute_result"
    }
   ],
   "source": [
    "projectname_list = [\"SAP Customization\", \"Introduction of SAP\", \"Introduction of Azure Cloud\", \"Introduction of AWS Cloud\", \"Implement an Order System\", \"Build up a Data Warehouse\", \"Upgrade CRM System to Salesforce\", \"Implement DevOps Pipeline\", \"Migrate to Kubernetes\", \"Enhance Cybersecurity Measures\", \"Implement Single Sign-On (SSO)\", \"Upgrade ERP System to Oracle Cloud\", \"Implement Machine Learning Algorithms\", \"Develop a Mobile App for Customer Engagement\", \"Upgrade Network Infrastructure\", \"Implement IT Service Management (ITSM)\", \"Cloud Migration Strategy\", \"Enhance Data Privacy Compliance\", \"Implement Business Intelligence (BI) Platform\", \"Develop a Chatbot for Customer Support\", \"Implement Robotic Process Automation (RPA)\", \"Upgrade to Windows 11\", \"Implement Multi-Factor Authentication (MFA)\", \"AI-driven Predictive Analytics\", \"Enhance User Experience for Web Application\", \"Implement Disaster Recovery Plan\", \"Implement Document Management System\", \"Upgrade Database to PostgreSQL\", \"Develop a Knowledge Management System\", \"Implement Software-defined Networking (SDN)\", \"Enhance E-commerce Platform\", \"Implement Continuous Integration/Continuous Deployment (CI/CD)\", \"Upgrade Operating System to Linux\", \"Develop a Virtual Reality (VR) Application\", \"Implement Data Governance Framework\", \"Enhance Customer Relationship Management (CRM)\", \"Implement Zero Trust Security Model\", \"Upgrade to Office 365\", \"Develop an Employee Training Portal\", \"Implement Edge Computing\", \"Enhance IT Infrastructure Monitoring\", \"Upgrade Collaboration Tools to Microsoft Teams\", \"Implement Blockchain for Supply Chain\", \"Develop a Data Analytics Dashboard\", \"Implement Data Loss Prevention (DLP)\", \"Upgrade Email Security Measures\", \"Enhance IT Helpdesk System\", \"Implement Internet of Things (IoT) Platform\", \"Upgrade to 5G Network\", \"Develop a Social Media Analytics Tool\", \"Implement ITIL Framework\", \"Enhance Mobile Device Management (MDM)\", \"Upgrade to the Latest Web Framework\", \"Develop a Customer Feedback System\", \"Implement Green IT Practices\", \"Enhance Endpoint Security Measures\", \"Upgrade Data Center Infrastructure\", \"Implement Virtual Desktop Infrastructure (VDI)\", \"Develop a Project Management Tool\", \"Implement Containerization with Docker\", \"Upgrade CRM System to Dynamics 365\", \"Enhance Data Classification and Tagging\", \"Implement Augmented Reality (AR) for Training\", \"Upgrade to the Latest Programming Language\", \"Develop a Corporate Intranet\", \"Implement IT Asset Management (ITAM)\", \"Enhance Data Backup and Recovery Strategy\", \"Upgrade Collaboration Tools to Slack\", \"Develop a Cybersecurity Awareness Training\", \"Implement Serverless Architecture\", \"Upgrade to the Latest Web Security Standards\", \"Enhance Network Traffic Analysis\", \"Implement Digital Signature Authentication\", \"Develop a Data Privacy Impact Assessment (DPIA) Process\", \"Upgrade to the Latest Storage Solutions\", \"Implement Artificial Intelligence in Customer Support\", \"Enhance IT Procurement Processes\", \"Upgrade to the Latest Identity and Access Management (IAM) System\", \"Develop a Code Review Automation Tool\", \"Implement Cloud Cost Optimization Strategies\", \"Enhance Incident Response Plan\", \"Upgrade BI Tools to Tableau\", \"Develop a Bug Bounty Program\", \"Implement Network Segmentation\", \"Upgrade to the Latest Mobile App Framework\", \"Enhance Change Management Processes\", \"Develop a Disaster Recovery Simulation Exercise\", \"Implement Cloud Security Best Practices\", \"Upgrade to the Latest ERP System\", \"Enhance IT Training and Certification Programs\", \"Develop a Vendor Risk Management (VRM) Program\", \"Implement Data Encryption Standards\", \"Upgrade to the Latest Database Management System\", \"Enhance IT Governance Framework\", \"Develop a Security Operations Center (SOC)\", \"Implement Cloud-Native Application Development\", \"Upgrade to the Latest IT Infrastructure Monitoring Tools\", \"Enhance Social Engineering Awareness Training\", \"Develop a Business Continuity Plan (BCP)\", \"Implement Network Access Control (NAC)\", \"Upgrade to the Latest Network Performance Monitoring Tools\", \"Implement AI-powered Chatbot for Customer Support\", \"Upgrade to AWS Lambda Serverless Architecture\", \"Develop a Cloud-based Project Management Tool\", \"Implement Data Masking and Anonymization\", \"Enhance Mobile App Security Measures\", \"Upgrade to Google Cloud Platform (GCP)\", \"Develop a Big Data Analytics Platform\", \"Implement Threat Intelligence Platform\", \"Enhance Cloud Security Posture Management (CSPM)\", \"Upgrade to Angular 12 for Web Application\", \"Implement Secure Access Service Edge (SASE)\", \"Develop a Blockchain-based Supply Chain Solution\", \"Enhance IT Governance with COBIT Framework\", \"Upgrade to Django Framework for Web Development\", \"Implement Advanced Data Analytics Algorithms\", \"Develop a Cross-Platform Mobile App\", \"Enhance Network Security with Next-Gen Firewalls\", \"Upgrade to Microsoft Azure DevOps\", \"Implement Continuous Security Monitoring\", \"Develop a Cloud-native Microservices Architecture\", \"Enhance IT Disaster Recovery Processes\", \"Upgrade to the Latest Front-End Framework\", \"Implement Quantum Computing Proof of Concept\", \"Develop a Customer Identity and Access Management (CIAM) System\", \"Enhance Data Retention and Archiving Strategy\", \"Upgrade to a Cloud-based HR Management System\", \"Implement Cyber Threat Hunting\", \"Develop a Serverless API Gateway\", \"Enhance Identity Governance and Administration (IGA)\", \"Upgrade to Flutter for Mobile App Development\", \"Implement Cloud-Native Data Warehousing\", \"Develop a Virtual IT Support Assistant\", \"Enhance Application Security with Static Analysis\", \"Upgrade to Red Hat OpenShift for Container Orchestration\", \"Implement Federated Identity Management\", \"Develop a Cloud Cost Management Tool\", \"Enhance IT Change Management Processes\", \"Upgrade to the Latest Backend Framework\", \"Implement Explainable AI (XAI) in Machine Learning Models\", \"Develop a Unified Endpoint Management (UEM) Solution\", \"Enhance Incident Response Automation\", \"Upgrade to Swift for iOS App Development\", \"Implement Data Center Consolidation\", \"Develop a Self-Service IT Portal\", \"Enhance Security Information and Event Management (SIEM)\", \"Upgrade to the Latest Version Control System\", \"Implement Zero-Day Vulnerability Management\", \"Develop a Cloud Security Operations Center (SOC)\", \"Enhance Employee Onboarding System\", \"Upgrade to TensorFlow for AI/ML Projects\", \"Implement Cloud-based Business Continuity Planning\", \"Develop a Predictive Maintenance System\", \"Enhance Cloud Compliance Monitoring\", \"Upgrade to Apache Kafka for Event Streaming\", \"Implement Cloud-Native Container Security\", \"Develop a Digital Forensics Platform\", \"Enhance IT Asset Inventory and Discovery\", \"Upgrade to the Latest Cloud Storage Solution\", \"Implement Secure DevOps Practices\", \"Develop a Virtual Network Operations Center (NOC)\", \"Enhance Data Virtualization Strategies\", \"Upgrade to a Cloud-based Learning Management System\", \"Implement AI-driven IT Operations (AIOps)\", \"Develop a Cloud-native Document Collaboration Platform\", \"Enhance Enterprise Password Management\", \"Upgrade to a Cloud-based Time and Attendance System\", \"Implement Cybersecurity Awareness Training Program\", \"Develop a Cloud Governance Framework\", \"Enhance Robotic Process Automation (RPA) Processes\", \"Upgrade to a Cloud-based ITSM Solution\", \"Implement Multi-Cloud Security Posture Management\", \"Develop a Cloud-Native Incident Response Platform\", \"Enhance Endpoint Detection and Response (EDR)\", \"Upgrade to the Latest Cloud Networking Technologies\", \"Implement Edge AI for IoT Devices\", \"Develop a Cloud Migration Playbook\", \"Enhance User Authentication with Biometrics\", \"Upgrade to a Cloud-based Procurement System\", \"Implement Cloud-Native Business Intelligence\", \"Develop a Threat Modeling Framework\", \"Enhance Cloud Access Security Broker (CASB) Solution\", \"Upgrade to a Cloud-based Project Portfolio Management (PPM) System\", \"Implement Serverless Data Processing\", \"Develop a Cloud-Native Data Loss Prevention (DLP) Solution\", \"Enhance Security Orchestration, Automation, and Response (SOAR)\", \"Upgrade to a Cloud-based Visitor Management System\", \"Implement Cloud-based Network Function Virtualization (NFV)\", \"Develop a Cloud Cost Allocation System\", \"Enhance IT Capacity Planning Processes\", \"Upgrade to a Cloud-based Expense Management System\", \"Implement Cloud-Native Data Catalog\", \"Develop a Cloud Incident Response Playbook\", \"Enhance Data Encryption Key Management\", \"Upgrade to a Cloud-based Employee Recognition System\", \"Implement Cloud-Native Digital Asset Management\", \"Develop a Cloud-Native Data Integration Platform\", \"Enhance Cloud Identity and Access Management (IAM)\", \"Upgrade to a Cloud-based Learning Experience Platform\", \"Implement Cloud-Native Security Information and Event Management (SIEM)\", \"Develop a Cloud-Based ChatOps Platform\", \"Enhance Cloud-Native Threat Intelligence Platform\", \"Implement Cloud-Native Internet of Things (IoT) Security\", \"Develop a Cloud-Based Predictive Analytics Engine\", \"Enhance Cloud-Native Application Performance Monitoring\", \"Upgrade to a Cloud-Based Diversity and Inclusion Platform\", \"Implement Cloud-Native Digital Marketing Analytics\", \"Develop a Cloud-Based Fraud Detection System\", \"Enhance Cloud-Native Predictive Maintenance for Manufacturing\", \"Upgrade to a Cloud-Based Social Media Management System\", \"Implement Cloud-Native DevSecOps Automation\", \"Develop a Cloud-Based Virtual Event Platform\", \"Enhance Cloud-Native Supplier Relationship Management (SRM)\", \"Upgrade to a Cloud-Based Video Conferencing Solution\", \"Implement Cloud-Native Environmental, Social, and Governance (ESG) Reporting\", \"Develop a Cloud-Based Virtual Reality (VR) Training Program\", \"Enhance Cloud-Native Autonomous Vehicle Fleet Management\", \"Upgrade to a Cloud-Based Employee Wellness Platform\", \"Implement Cloud-Native Augmented Reality (AR) for Retail\", \"Develop a Cloud-Based Remote Patient Monitoring System\", \"Enhance Cloud-Native Smart Grid Management\", \"Upgrade to a Cloud-Based Supply Chain Visibility Platform\", \"Implement Cloud-Native Voice and Speech Recognition\", \"Develop a Cloud-Based Mental Health and Wellness App\", \"Enhance Cloud-Native Smart City Infrastructure\", \"Upgrade to a Cloud-Based Predictive Supply Chain Analytics\", \"Implement Cloud-Native Human Capital Management (HCM)\", \"Develop a Cloud-Based Precision Agriculture Platform\", \"Enhance Cloud-Native Fleet Management for Logistics\", \"Upgrade to a Cloud-Based E-learning Platform\", \"Implement Cloud-Native Predictive Sales Analytics\", \"Develop a Cloud-Based Telemedicine Platform\", \"Enhance Cloud-Native Intelligent Traffic Management\", \"Upgrade to a Cloud-Based Data Science Platform\", \"Implement Cloud-Native Sustainable Energy Management\", \"Develop a Cloud-Based Personalized Learning Platform\", \"Enhance Cloud-Native Adaptive Learning Systems\", \"Upgrade to a Cloud-Based Urban Mobility Platform\", \"Implement Cloud-Native Biometric Authentication\", \"Develop a Cloud-Based Financial Wellness App\", \"Enhance Cloud-Native Smart Building Automation\", \"Upgrade to a Cloud-Based Customer Data Platform (CDP)\", \"Implement Cloud-Native Autonomous Drones for Inspection\", \"Develop a Cloud-Based Genome Sequencing Platform\", \"Enhance Cloud-Native Predictive Maintenance for Aircraft\", \"Upgrade to a Cloud-Based Legal Document Management System\", \"Implement Cloud-Native Machine Learning Operations (MLOps)\", \"Develop a Cloud-Based Humanoid Robot Assistant\", \"Enhance Cloud-Native Predictive Maintenance for Railways\", \"Upgrade to a Cloud-Based Personal Finance Management App\", \"Implement Cloud-Native Virtual Fashion Try-On\", \"Develop a Cloud-Based Precision Medicine Platform\", \"Enhance Cloud-Native Predictive Maintenance for Elevators\", \"Upgrade to a Cloud-Based Social Impact Measurement Platform\", \"Implement Cloud-Native Computer Vision for Retail\", \"Develop a Cloud-Based Sustainable Agriculture Platform\", \"Enhance Cloud-Native Predictive Maintenance for Wind Turbines\", \"Upgrade to a Cloud-Based Digital Twin Platform\", \"Implement Cloud-Native Fraud Detection in Banking\", \"Develop a Cloud-Based Autonomous Vehicle Ride-Sharing Platform\", \"Enhance Cloud-Native Predictive Maintenance for Oil & Gas\", \"Upgrade to a Cloud-Based Career Development Platform\", \"Implement Cloud-Native Voice Commerce\", \"Develop a Cloud-Based Predictive Maintenance for Healthcare\", \"Enhance Cloud-Native Smart Water Management\", \"Upgrade to a Cloud-Based Talent Acquisition Platform\", \"Implement Cloud-Native 3D Printing Solutions\", \"Develop a Cloud-Based Predictive Maintenance for Mining\", \"Enhance Cloud-Native Predictive Maintenance for Telecom Networks\", \"Upgrade to a Cloud-Based Predictive Maintenance for Bridges\", \"Implement Cloud-Native Video Analytics for Security\", \"Develop a Cloud-Based Predictive Maintenance for Shipping\", \"Enhance Cloud-Native Predictive Maintenance for Solar Panels\", \"Upgrade to a Cloud-Based Predictive Maintenance for HVAC Systems\", \"Implement Cloud-Native Intelligent Tutoring Systems\", \"Develop a Cloud-Based Predictive Maintenance for Satellite Systems\", \"Enhance Cloud-Native Predictive Maintenance for Water Utilities\", \"Upgrade to a Cloud-Based Predictive Maintenance for Manufacturing Robots\", \"Implement Cloud-Native Predictive Maintenance for Elevators\", \"Develop a Cloud-Based Predictive Maintenance for Aircraft Engines\", \"Enhance Cloud-Native Predictive Maintenance for Data Centers\", \"Upgrade to a Cloud-Based Predictive Maintenance for Railway Tracks\", \"Implement Cloud-Native Predictive Maintenance for Wind Turbines\", \"Develop a Cloud-Based Predictive Maintenance for Oil & Gas Pipelines\", \"Enhance Cloud-Native Predictive Maintenance for Electric Vehicles\", \"Upgrade to a Cloud-Based Predictive Maintenance for Shipping Containers\", \"Implement Cloud-Native Predictive Maintenance for Mining Equipment\", \"Develop a Cloud-Based Predictive Maintenance for Agriculture Machinery\", \"Enhance Cloud-Native Predictive Maintenance for Construction Equipment\", \"Upgrade to a Cloud-Based Predictive Maintenance for Heavy Machinery\", \"Implement Cloud-Native Predictive Maintenance for Medical Devices\", \"Develop a Cloud-Based Predictive Maintenance for Semiconductor Equipment\", \"Enhance Cloud-Native Predictive Maintenance for HVAC Systems\", \"Upgrade to a Cloud-Based Predictive Maintenance for Renewable Energy Systems\", \"Implement Cloud-Native Predictive Maintenance for Aerospace Components\", \"Implement a Cloud-Based Applicant Tracking System\", \"Develop an Employee Onboarding Automation Platform\", \"Enhance Employee Performance Management System\", \"Upgrade to a Cloud-Based Learning Management System (LMS)\", \"Implement a Diversity and Inclusion Training Program\", \"Develop an Employee Recognition and Rewards Platform\", \"Enhance HR Analytics and Reporting\", \"Upgrade to a Cloud-Based Talent Management System\", \"Implement a Remote Work Policy and Infrastructure\", \"Develop an Employee Wellbeing Program\", \"Enhance Employee Engagement and Feedback Platform\", \"Upgrade to a Cloud-Based Succession Planning System\", \"Implement a Modern Performance Appraisal System\", \"Develop a Cloud-Based Employee Self-Service Portal\", \"Enhance Workplace Diversity and Inclusion Initiatives\", \"Upgrade to a Cloud-Based Benefits Administration System\", \"Implement a Cloud-Based HR Chatbot for Employee Queries\", \"Develop a Leadership Development Program\", \"Enhance Employee Training and Development Platform\", \"Upgrade to a Cloud-Based Employee Survey Platform\", \"Implement a Cloud-Based Time and Attendance System\", \"Develop a Cloud-Based Employee Leave Management System\", \"Enhance Employee Health and Safety Protocols\", \"Upgrade to a Cloud-Based HR Analytics Dashboard\", \"Implement a Cloud-Based Employee Recognition App\", \"Develop a Cloud-Based Employee Feedback System\", \"Enhance Employee Onboarding and Orientation\", \"Upgrade to a Cloud-Based Performance Management System\", \"Implement a Remote Hiring and Interviewing Solution\", \"Develop a Cloud-Based Employee Benefits Portal\", \"Enhance Employee Career Development Programs\", \"Upgrade to a Cloud-Based HR Case Management System\", \"Implement a Cloud-Based Employee Wellness Program\", \"Develop a Cloud-Based Employee Handbook\", \"Enhance Employee Relations and Conflict Resolution\", \"Upgrade to a Cloud-Based Employee Scheduling System\", \"Implement a Cloud-Based HR Document Management System\", \"Develop a Cloud-Based Employee Time Tracking System\", \"Enhance Employee Recognition and Appreciation Programs\", \"Upgrade to a Cloud-Based HR Compliance System\", \"Implement a Cloud-Based Employee Directory\", \"Develop a Cloud-Based Employee Performance Dashboard\", \"Enhance Employee Learning and Development Initiatives\", \"Upgrade to a Cloud-Based Employee Benefits Management System\", \"Implement a Cloud-Based HR Chat Support\", \"Develop a Cloud-Based Employee Attendance Tracking System\", \"Enhance Employee Mental Health and Wellbeing Initiatives\", \"Upgrade to a Cloud-Based Employee Engagement Platform\", \"Implement a Cloud-Based HR Data Analytics Solution\", \"Develop a Cloud-Based Employee Skill Development Program\", \"Enhance Employee Communication and Collaboration\", \"Upgrade to a Cloud-Based HR Case Tracking System\", \"Implement a Cloud-Based Employee Recognition Platform\", \"Develop a Cloud-Based Employee Performance Management App\", \"Enhance Employee Learning and Development Platform\", \"Upgrade to a Cloud-Based Employee Attendance Management System\", \"Implement a Cloud-Based HR Helpdesk System\", \"Develop a Cloud-Based Employee Benefits Enrollment System\", \"Enhance Employee Performance Review Process\", \"Upgrade to a Cloud-Based Employee Time and Attendance Tracking System\", \"Implement a Cloud-Based HR Intranet\", \"Develop a Cloud-Based Employee Leave Tracking System\", \"Enhance Employee Succession Planning Initiatives\", \"Upgrade to a Cloud-Based Employee Training Management System\", \"Implement a Cloud-Based HR Outsourcing Solution\", \"Develop a Cloud-Based Employee Health and Wellness App\", \"Enhance Employee Recognition and Rewards Program\", \"Upgrade to a Cloud-Based HR Performance Management System\", \"Implement a Cloud-Based HR Ticketing System\", \"Develop a Cloud-Based Employee Performance Evaluation System\", \"Enhance Employee Benefits and Compensation Management\", \"Upgrade to a Cloud-Based HR Knowledge Base\", \"Implement a Cloud-Based HR Consultancy Service\", \"Develop a Cloud-Based Employee Survey Platform\", \"Enhance Employee Attendance Tracking and Reporting\", \"Upgrade to a Cloud-Based Employee Benefits Administration System\", \"Implement a Cloud-Based HR Data Security Solution\", \"Develop a Cloud-Based Employee Attendance Monitoring System\", \"Enhance Employee Training and Development Platform\", \"Upgrade to a Cloud-Based HR Case Resolution System\", \"Implement a Cloud-Based Employee Benefits Management System\", \"Develop a Cloud-Based Employee Engagement and Communication Platform\", \"Enhance Employee Benefits Enrollment and Administration\", \"Upgrade to a Cloud-Based HR Case Management and Tracking System\", \"Implement a Cloud-Based Employee Recognition and Rewards Program\", \"Develop a Cloud-Based Employee Performance Review System\", \"Enhance Employee Learning and Development Management\", \"Upgrade to a Cloud-Based HR Service Desk Solution\", \"Implement a Cloud-Based Employee Attendance Management System\", \"Develop a Cloud-Based Employee Leave and Time-Off Management System\", \"Enhance Employee Wellness and Mental Health Programs\", \"Upgrade to a Cloud-Based HR Case Tracking and Resolution System\", \"Implement a Cloud-Based Employee Benefits and Compensation System\", \"Develop a Cloud-Based Employee Succession Planning System\", \"Enhance Employee Time and Attendance Tracking and Reporting\", \"Upgrade to a Cloud-Based HR Ticketing and Query Resolution System\", \"Conduct Market Entry Strategy for International Expansion\", \"Develop Business Growth Roadmap for Small Enterprises\", \"Enhance Sales and Marketing Alignment Strategies\", \"Upgrade to a Customer-Centric Business Model\", \"Implement Digital Transformation for Business Development\", \"Develop Strategic Partnership and Alliances Program\", \"Enhance Business Intelligence and Competitive Analysis\", \"Upgrade to a Data-Driven Decision-Making Framework\", \"Implement Sales Performance Optimization\", \"Develop Innovation Management and Ideation Platform\", \"Enhance Customer Relationship Management (CRM) Processes\", \"Upgrade to a Cloud-Based Sales Enablement Platform\", \"Implement Go-to-Market Strategy for New Product Launch\", \"Develop Business Process Reengineering for Operational Efficiency\", \"Enhance Sales Forecasting and Pipeline Management\", \"Upgrade to a Customer Journey Mapping Framework\", \"Implement E-commerce Strategy for Business Expansion\", \"Develop Strategic Pricing and Revenue Optimization\", \"Enhance Customer Segmentation and Targeting\", \"Upgrade to a Business Analytics and Reporting Platform\", \"Implement Sales and Marketing Automation\", \"Develop Business Model Canvas for Startups\", \"Enhance Lead Generation and Qualification Processes\", \"Upgrade to a Social Selling and Influencer Marketing Strategy\", \"Implement Change Management for Business Transformation\", \"Develop Customer Loyalty and Retention Programs\", \"Enhance Value Proposition and Positioning Strategies\", \"Upgrade to a Content Marketing and SEO Optimization Plan\", \"Implement Corporate Social Responsibility (CSR) Initiatives\", \"Develop Business Impact Analysis for Risk Management\", \"Enhance Sales Training and Development Programs\", \"Upgrade to a Predictive Analytics and Forecasting System\", \"Implement Business Continuity Planning for Disruptions\", \"Develop Competitive Benchmarking and Market Research\", \"Enhance Sales Funnel Optimization and Conversion Rates\", \"Upgrade to a Business Innovation and Incubation Center\", \"Implement Inbound Marketing Strategies\", \"Develop Business Sustainability and Green Initiatives\", \"Enhance Account-Based Marketing (ABM) Programs\", \"Upgrade to a Customer Experience (CX) Transformation\", \"Implement Strategic Advisory and Board Governance\", \"Develop Business Intelligence for Predictive Trends\", \"Enhance Sales Territory Planning and Management\", \"Upgrade to a Strategic Corporate Partnerships Program\", \"Implement Strategic Planning and Execution Framework\", \"Develop Business Process Outsourcing (BPO) Strategy\", \"Enhance Sales Incentive and Compensation Plans\", \"Upgrade to a Business Process Automation (BPA) Platform\", \"Implement Digital Marketing and Online Advertising\", \"Develop Business Performance Metrics and KPIs\", \"Enhance Sales Channel Optimization and Management\", \"Upgrade to a Business Innovation Lab for Ideation\", \"Implement Mergers and Acquisitions (M&A) Strategy\", \"Develop Business Agility and Flexibility Programs\", \"Enhance Sales Performance Metrics and Dashboards\", \"Upgrade to a Customer Retention and Churn Analysis\", \"Implement Strategic Communication and Branding\", \"Develop Business Resilience and Crisis Management\", \"Enhance Sales Territory Alignment and Optimization\", \"Upgrade to a Business Growth Hacking Strategy\", \"Implement Strategic Talent Acquisition and Recruitment\", \"Develop Business Scalability and Expansion Plans\", \"Enhance Sales Force Effectiveness and Productivity\", \"Upgrade to a Customer Success and Advocacy Program\", \"Implement Strategic Technology Partnerships\", \"Develop Business Ethics and Compliance Programs\", \"Enhance Sales Coaching and Training Initiatives\", \"Upgrade to a Business Model Innovation Lab\", \"Implement Strategic Vendor Management and Outsourcing\", \"Develop Business Transformation and Change Programs\", \"Enhance Sales Operations and Process Improvement\", \"Upgrade to a Customer Feedback and Satisfaction Program\", \"Implement Strategic Workplace Diversity and Inclusion\", \"Develop Business Turnaround and Restructuring Plans\", \"Enhance Sales Performance Management Systems\", \"Upgrade to a Business Analytics Center of Excellence\", \"Implement Strategic Corporate Social Responsibility (CSR)\", \"Develop Business Risk Management and Mitigation\", \"Enhance Sales Forecast Accuracy and Predictive Analytics\", \"Upgrade to a Customer Insights and Analytics Platform\", \"Implement Strategic International Business Development\", \"Develop Business Impact Assessments for New Initiatives\", \"Enhance Sales and Marketing Alignment Technologies\", \"Upgrade to a Business Transformation Office (BTO)\", \"Implement Strategic Supply Chain Management\", \"Develop Business Intelligence for Competitive Intelligence\", \"Enhance Sales Process Optimization and Automation\", \"Upgrade to a Customer Journey Analytics and Mapping\", \"Implement Strategic Digital Product Development\", \"Develop Business Process Improvement and Optimization\", \"Enhance Sales Performance Measurement and Metrics\", \"Upgrade to a Business Intelligence and Analytics Hub\", \"Implement Strategic Sales and Marketing Integration\", \"Develop Business Expansion and Market Entry Strategies\", \"Enhance Sales Compensation and Incentive Plans\", \"Upgrade to a Customer Relationship Management (CRM) System\", \"Implement Strategic Innovation and Ideation Workshops\", \"Develop Business Innovation and Incubation Strategies\", \"Enhance Sales Enablement and Training Platforms\", \"Upgrade to a Business Development Center of Excellence\", \"Implement Cost Accounting and Allocation Systems\", \"Develop Key Performance Indicators (KPIs) Dashboard\", \"Enhance Financial Planning and Analysis (FP&A) Processes\", \"Upgrade to a Cloud-Based Budgeting and Forecasting System\", \"Implement Activity-Based Costing (ABC) Methodology\", \"Develop Internal Control and Compliance Framework\", \"Enhance Variance Analysis and Performance Reporting\", \"Upgrade to a Financial Consolidation and Reporting System\", \"Implement Profitability Analysis and Optimization\", \"Develop Integrated Business Intelligence Solutions\", \"Enhance Cost-Benefit Analysis and Decision Support\", \"Upgrade to a Enterprise Performance Management (EPM) Platform\", \"Implement Audit and Compliance Management Systems\", \"Develop Balanced Scorecard for Performance Management\", \"Enhance Financial Modeling and Scenario Planning\", \"Upgrade to a Corporate Performance Management (CPM) System\", \"Implement Revenue Recognition and Management\", \"Develop Cost Reduction and Efficiency Improvement Plans\", \"Enhance Dashboard and Scorecard Visualization\", \"Upgrade to a Continuous Monitoring and Reporting System\", \"Implement Internal Audit and Risk Assessment Programs\", \"Develop Key Risk Indicators (KRIs) Framework\", \"Enhance Rolling Forecast and Rolling Budget Processes\", \"Upgrade to a Predictive Analytics and Forecasting System\", \"Implement Financial Compliance and Controls Assessment\", \"Develop Process Improvement and Optimization Initiatives\", \"Enhance Executive Dashboards and Decision Support\", \"Upgrade to a Business Intelligence and Analytics Platform\", \"Implement Financial Statement Analysis and Interpretation\", \"Develop Cost Allocation and Cost Control Strategies\", \"Enhance Performance Measurement and Benchmarking\", \"Upgrade to a Cloud-Based Financial Reporting System\", \"Implement Fraud Detection and Prevention Systems\", \"Develop Activity-Based Management (ABM) Framework\", \"Enhance Budgeting and Forecasting Accuracy\", \"Upgrade to a Financial Data Governance Framework\", \"Implement Risk Management and Mitigation Plans\", \"Develop Financial Close and Reporting Automation\", \"Enhance Financial Modelling and Analysis Techniques\", \"Upgrade to a Cloud-Based Enterprise Resource Planning (ERP) System\", \"Implement Management Accounting and Decision Support\", \"Develop Business Continuity and Disaster Recovery Plans\", \"Enhance Profit and Loss (P&L) Analysis and Reporting\", \"Upgrade to a Corporate Governance and Compliance Platform\", \"Implement Cost Optimization and Efficiency Programs\", \"Develop Financial Process Improvement and Standardization\", \"Enhance Dashboard and Reporting Automation\", \"Upgrade to a Financial Analytics and Reporting Hub\", \"Implement Tax Planning and Compliance Strategies\", \"Develop Financial Forecasting and Cash Flow Modeling\", \"Enhance Management Reporting and Decision Support\", \"Upgrade to a Business Process Outsourcing (BPO) Solution\", \"Implement Process Controls and Compliance Audits\", \"Develop Data-driven Financial Performance Metrics\", \"Enhance Financial Reporting and Analytics Platforms\", \"Upgrade to a Business Intelligence Competency Center (BICC)\", \"Implement Enterprise Risk Management (ERM) Framework\", \"Develop Financial Systems Integration and Optimization\", \"Enhance Budgeting and Forecasting Collaboration\", \"Upgrade to a Cloud-Based Financial Planning and Analysis (FP&A) System\", \"Implement Continuous Monitoring and Improvement Programs\", \"Develop Cost-Effective Internal Audit Strategies\", \"Enhance Financial Decision Support Systems\", \"Upgrade to a Financial Shared Services Center (FSSC)\", \"Implement Compliance Monitoring and Reporting\", \"Develop Financial Management Training Programs\", \"Enhance Predictive Analytics and Financial Modeling\", \"Upgrade to a Cloud-Based Enterprise Performance Management (EPM) System\", \"Implement Financial Reporting Automation Solutions\", \"Develop Performance Measurement and Monitoring Systems\", \"Enhance Cost Accounting and Activity-Based Costing\", \"Upgrade to a Business Process Management (BPM) System\", \"Implement Business Process Controls and Automation\", \"Develop Continuous Improvement in Reporting Processes\", \"Enhance Data Visualization and Reporting Tools\", \"Upgrade to a Cloud-Based Financial Governance System\", \"Implement Financial Analytics and Performance Metrics\", \"Develop Financial Risk Management Strategies\", \"Enhance Financial Reporting and Compliance Frameworks\", \"Upgrade to a Business Process Outsourcing (BPO) Platform\", \"Implement Enterprise Data Management and Governance\", \"Develop Cost of Quality Analysis and Optimization\", \"Enhance Financial Modeling and Simulation\", \"Upgrade to a Cloud-Based Financial Management System\", \"Implement Finance Transformation and Modernization\", \"Develop Financial Forecasting and Scenario Analysis\", \"Enhance Performance Management and Measurement\", \"Upgrade to a Cloud-Based Enterprise Resource Planning (ERP) Platform\", \"Implement Continuous Monitoring and Reporting Systems\", \"Develop Financial Data Integration and Automation\", \"Enhance Financial Planning and Analysis (FP&A) Platforms\", \"Upgrade to a Business Intelligence Competency Center (BICC) Model\"]\n",
    "projectname_list = list(np.unique(projectname_list))\n",
    "\n",
    "len(projectname_list)"
   ]
  },
  {
   "cell_type": "code",
   "execution_count": 70,
   "metadata": {},
   "outputs": [
    {
     "data": {
      "text/html": [
       "<div>\n",
       "<style scoped>\n",
       "    .dataframe tbody tr th:only-of-type {\n",
       "        vertical-align: middle;\n",
       "    }\n",
       "\n",
       "    .dataframe tbody tr th {\n",
       "        vertical-align: top;\n",
       "    }\n",
       "\n",
       "    .dataframe thead th {\n",
       "        text-align: right;\n",
       "    }\n",
       "</style>\n",
       "<table border=\"1\" class=\"dataframe\">\n",
       "  <thead>\n",
       "    <tr style=\"text-align: right;\">\n",
       "      <th></th>\n",
       "      <th>id</th>\n",
       "      <th>name</th>\n",
       "      <th>description</th>\n",
       "    </tr>\n",
       "  </thead>\n",
       "  <tbody>\n",
       "    <tr>\n",
       "      <th>0</th>\n",
       "      <td>1</td>\n",
       "      <td>AI-driven Predictive Analytics</td>\n",
       "      <td>Description for AI-driven Predictive Analytics...</td>\n",
       "    </tr>\n",
       "    <tr>\n",
       "      <th>1</th>\n",
       "      <td>2</td>\n",
       "      <td>Build up a Data Warehouse</td>\n",
       "      <td>Description for Build up a Data Warehouse Lore...</td>\n",
       "    </tr>\n",
       "    <tr>\n",
       "      <th>2</th>\n",
       "      <td>3</td>\n",
       "      <td>Cloud Migration Strategy</td>\n",
       "      <td>Description for Cloud Migration Strategy Lorem...</td>\n",
       "    </tr>\n",
       "    <tr>\n",
       "      <th>3</th>\n",
       "      <td>4</td>\n",
       "      <td>Conduct Market Entry Strategy for Internationa...</td>\n",
       "      <td>Description for Conduct Market Entry Strategy ...</td>\n",
       "    </tr>\n",
       "    <tr>\n",
       "      <th>4</th>\n",
       "      <td>5</td>\n",
       "      <td>Develop Activity-Based Management (ABM) Framework</td>\n",
       "      <td>Description for Develop Activity-Based Managem...</td>\n",
       "    </tr>\n",
       "    <tr>\n",
       "      <th>...</th>\n",
       "      <td>...</td>\n",
       "      <td>...</td>\n",
       "      <td>...</td>\n",
       "    </tr>\n",
       "    <tr>\n",
       "      <th>576</th>\n",
       "      <td>577</td>\n",
       "      <td>Upgrade to the Latest Programming Language</td>\n",
       "      <td>Description for Upgrade to the Latest Programm...</td>\n",
       "    </tr>\n",
       "    <tr>\n",
       "      <th>577</th>\n",
       "      <td>578</td>\n",
       "      <td>Upgrade to the Latest Storage Solutions</td>\n",
       "      <td>Description for Upgrade to the Latest Storage ...</td>\n",
       "    </tr>\n",
       "    <tr>\n",
       "      <th>578</th>\n",
       "      <td>579</td>\n",
       "      <td>Upgrade to the Latest Version Control System</td>\n",
       "      <td>Description for Upgrade to the Latest Version ...</td>\n",
       "    </tr>\n",
       "    <tr>\n",
       "      <th>579</th>\n",
       "      <td>580</td>\n",
       "      <td>Upgrade to the Latest Web Framework</td>\n",
       "      <td>Description for Upgrade to the Latest Web Fram...</td>\n",
       "    </tr>\n",
       "    <tr>\n",
       "      <th>580</th>\n",
       "      <td>581</td>\n",
       "      <td>Upgrade to the Latest Web Security Standards</td>\n",
       "      <td>Description for Upgrade to the Latest Web Secu...</td>\n",
       "    </tr>\n",
       "  </tbody>\n",
       "</table>\n",
       "<p>581 rows × 3 columns</p>\n",
       "</div>"
      ],
      "text/plain": [
       "      id                                               name  \\\n",
       "0      1                     AI-driven Predictive Analytics   \n",
       "1      2                          Build up a Data Warehouse   \n",
       "2      3                           Cloud Migration Strategy   \n",
       "3      4  Conduct Market Entry Strategy for Internationa...   \n",
       "4      5  Develop Activity-Based Management (ABM) Framework   \n",
       "..   ...                                                ...   \n",
       "576  577         Upgrade to the Latest Programming Language   \n",
       "577  578            Upgrade to the Latest Storage Solutions   \n",
       "578  579       Upgrade to the Latest Version Control System   \n",
       "579  580                Upgrade to the Latest Web Framework   \n",
       "580  581       Upgrade to the Latest Web Security Standards   \n",
       "\n",
       "                                           description  \n",
       "0    Description for AI-driven Predictive Analytics...  \n",
       "1    Description for Build up a Data Warehouse Lore...  \n",
       "2    Description for Cloud Migration Strategy Lorem...  \n",
       "3    Description for Conduct Market Entry Strategy ...  \n",
       "4    Description for Develop Activity-Based Managem...  \n",
       "..                                                 ...  \n",
       "576  Description for Upgrade to the Latest Programm...  \n",
       "577  Description for Upgrade to the Latest Storage ...  \n",
       "578  Description for Upgrade to the Latest Version ...  \n",
       "579  Description for Upgrade to the Latest Web Fram...  \n",
       "580  Description for Upgrade to the Latest Web Secu...  \n",
       "\n",
       "[581 rows x 3 columns]"
      ]
     },
     "execution_count": 70,
     "metadata": {},
     "output_type": "execute_result"
    }
   ],
   "source": [
    "project_rng = range(1, len(projectname_list) + 1)\n",
    "\n",
    "descripton_dummy_text = \"Lorem ipsum dolor sit amet, consetetur sadipscing elitr, sed diam nonumy eirmod tempor invidunt ut labore et dolore magna aliquyam erat, sed diam voluptua. At vero eos et accusam et justo duo dolores et ea rebum. Stet clita kasd gubergren, no sea takimata sanctus est Lorem ipsum dolor sit amet. Lorem ipsum dolor sit amet, consetetur sadipscing elitr, sed diam nonumy eirmod tempor invidunt ut labore et dolore magna aliquyam erat, sed diam voluptua. At vero eos et accusam et justo duo dolores et ea rebum. Stet clita kasd gubergren, no sea takimata sanctus est Lorem ipsum dolor sit amet.\"\n",
    "project_description_list = [f\"Description for {project} {descripton_dummy_text}.\" for project in projectname_list]\n",
    "\n",
    "df_project = pd.DataFrame({\n",
    "    \"id\": [i for i in project_rng],\n",
    "    \"name\": projectname_list,\n",
    "    \"description\": project_description_list\n",
    "})\n",
    "\n",
    "df_project"
   ]
  },
  {
   "cell_type": "code",
   "execution_count": 71,
   "metadata": {},
   "outputs": [
    {
     "name": "stdout",
     "output_type": "stream",
     "text": [
      "CSV successfully created at: ./_md_project.csv\n"
     ]
    }
   ],
   "source": [
    "write_md_csv(df_project, \"project\")"
   ]
  },
  {
   "cell_type": "markdown",
   "metadata": {},
   "source": [
    "### task"
   ]
  },
  {
   "cell_type": "code",
   "execution_count": 72,
   "metadata": {},
   "outputs": [
    {
     "data": {
      "text/plain": [
       "66"
      ]
     },
     "execution_count": 72,
     "metadata": {},
     "output_type": "execute_result"
    }
   ],
   "source": [
    "task_list = [\"Requirements Analysis;Analyze and document project requirements.\", \"Stakeholder Identification;Identify and engage project stakeholders.\", \"Risk Assessment;Evaluate potential risks and develop mitigation plans.\", \"Scope Definition;Define the project scope and boundaries.\", \"Timeline Creation;Develop a project timeline with key milestones.\", \"Resource Allocation;Allocate resources efficiently for project tasks.\", \"Budget Planning;Create a detailed budget for the project.\", \"Team Building;Build a cohesive and skilled project team.\", \"Communication Plan;Develop a comprehensive project communication plan.\", \"Task Assignment;Assign tasks and responsibilities to team members.\", \"Status Reporting;Regularly report project status to stakeholders.\", \"Quality Assurance;Implement quality assurance processes.\", \"Change Management;Develop strategies for managing project changes.\", \"Issue Resolution;Address and resolve project-related issues.\", \"Documentation Management;Establish a system for project documentation.\", \"Training and Development;Provide necessary training for team members.\", \"Client Collaboration;Collaborate with clients to gather feedback and insights.\", \"Performance Metrics;Define and measure project performance metrics.\", \"Progress Evaluation;Regularly evaluate project progress against objectives.\", \"Lessons Learned;Capture and document lessons learned throughout the project.\", \"Closure Activities;Conduct closure activities, including project review.\", \"Knowledge Transfer;Ensure knowledge transfer to relevant stakeholders.\", \"Post-Implementation Review;Review the project post-implementation for improvements.\", \"Continuous Improvement;Identify areas for continuous improvement in processes.\", \"Vendor Management;Manage relationships with external vendors.\", \"Legal Compliance;Ensure the project adheres to legal and regulatory requirements.\", \"User Acceptance Testing;Coordinate user acceptance testing activities.\", \"Security Planning;Develop and implement security measures for the project.\", \"Conflict Resolution;Address and resolve conflicts within the project team.\", \"Milestone Celebrations;Celebrate key milestones to boost team morale.\", \"Feedback Collection;Collect and act on feedback from project stakeholders.\", \"Innovation Exploration;Explore innovative solutions for project challenges.\", \"Resource Optimization;Optimize resource allocation throughout the project.\", \"Knowledge Repository;Establish a centralized repository for project knowledge.\", \"Cross-Functional Collaboration;Promote collaboration across different project teams.\", \"Customer Satisfaction;Monitor and enhance customer satisfaction with project outcomes.\", \"Health and Safety Compliance;Ensure compliance with health and safety regulations.\", \"Environmental Impact;Consider and minimize the project's environmental impact.\", \"Value Stream Mapping;Analyze and optimize project value stream.\", \"Crisis Management;Develop a crisis management plan for unexpected events.\", \"Sustainability Integration;Integrate sustainability practices into project activities.\", \"Regulatory Compliance;Ensure compliance with industry-specific regulations.\", \"Conflict of Interest Management;Address and manage conflicts of interest within the project.\", \"Business Continuity Planning;Develop plans for business continuity during disruptions.\", \"Digital Transformation;Explore opportunities for digital transformation within the project.\", \"Remote Work Integration;Facilitate and optimize remote work if applicable.\", \"Diversity and Inclusion;Promote diversity and inclusion within the project team.\", \"Social Responsibility Initiatives;Incorporate social responsibility initiatives into project activities.\", \"Knowledge Sharing Events;Organize events for knowledge sharing among team members.\", \"Inclusive Decision-Making;Promote inclusive decision-making processes within the project team.\", \"Continuous Learning Culture;Cultivate a culture of continuous learning and improvement.\", \"Adaptive Leadership;Implement adaptive leadership strategies to navigate uncertainties.\", \"Global Collaboration;Facilitate collaboration among team members in different locations.\", \"Cybersecurity Measures;Implement cybersecurity measures to protect project data.\", \"Eco-Friendly Practices;Incorporate eco-friendly practices into project execution.\", \"Emotional Intelligence Training;Provide training on emotional intelligence for team members.\", \"Customer-Centric Design;Adopt a customer-centric approach in project design and delivery.\", \"Flexible Work Arrangements;Offer flexible work arrangements to enhance team satisfaction.\", \"Cross-Training Initiatives;Promote cross-training to build a versatile project team.\", \"Task Automation;Explore opportunities for task automation within the project.\", \"Innovative Problem Solving;Encourage innovative problem-solving approaches within the team.\", \"Implementation;Implement.\", \"Consulting;Consult.\", \"Meeting;Jour Fixe\", \"Concept creation;Conception\", \"Projectplanning;Projectmanagement\"]\n",
    "task_list = list(np.unique(task_list))\n",
    "len(task_list)"
   ]
  },
  {
   "cell_type": "code",
   "execution_count": 73,
   "metadata": {},
   "outputs": [
    {
     "data": {
      "text/html": [
       "<div>\n",
       "<style scoped>\n",
       "    .dataframe tbody tr th:only-of-type {\n",
       "        vertical-align: middle;\n",
       "    }\n",
       "\n",
       "    .dataframe tbody tr th {\n",
       "        vertical-align: top;\n",
       "    }\n",
       "\n",
       "    .dataframe thead th {\n",
       "        text-align: right;\n",
       "    }\n",
       "</style>\n",
       "<table border=\"1\" class=\"dataframe\">\n",
       "  <thead>\n",
       "    <tr style=\"text-align: right;\">\n",
       "      <th></th>\n",
       "      <th>id</th>\n",
       "      <th>name</th>\n",
       "      <th>description</th>\n",
       "    </tr>\n",
       "  </thead>\n",
       "  <tbody>\n",
       "    <tr>\n",
       "      <th>0</th>\n",
       "      <td>1</td>\n",
       "      <td>Adaptive Leadership;Implement adaptive leaders...</td>\n",
       "      <td>Description for Adaptive Leadership;Implement ...</td>\n",
       "    </tr>\n",
       "    <tr>\n",
       "      <th>1</th>\n",
       "      <td>2</td>\n",
       "      <td>Budget Planning;Create a detailed budget for t...</td>\n",
       "      <td>Description for Budget Planning;Create a detai...</td>\n",
       "    </tr>\n",
       "    <tr>\n",
       "      <th>2</th>\n",
       "      <td>3</td>\n",
       "      <td>Business Continuity Planning;Develop plans for...</td>\n",
       "      <td>Description for Business Continuity Planning;D...</td>\n",
       "    </tr>\n",
       "    <tr>\n",
       "      <th>3</th>\n",
       "      <td>4</td>\n",
       "      <td>Change Management;Develop strategies for manag...</td>\n",
       "      <td>Description for Change Management;Develop stra...</td>\n",
       "    </tr>\n",
       "    <tr>\n",
       "      <th>4</th>\n",
       "      <td>5</td>\n",
       "      <td>Client Collaboration;Collaborate with clients ...</td>\n",
       "      <td>Description for Client Collaboration;Collabora...</td>\n",
       "    </tr>\n",
       "    <tr>\n",
       "      <th>...</th>\n",
       "      <td>...</td>\n",
       "      <td>...</td>\n",
       "      <td>...</td>\n",
       "    </tr>\n",
       "    <tr>\n",
       "      <th>61</th>\n",
       "      <td>62</td>\n",
       "      <td>Timeline Creation;Develop a project timeline w...</td>\n",
       "      <td>Description for Timeline Creation;Develop a pr...</td>\n",
       "    </tr>\n",
       "    <tr>\n",
       "      <th>62</th>\n",
       "      <td>63</td>\n",
       "      <td>Training and Development;Provide necessary tra...</td>\n",
       "      <td>Description for Training and Development;Provi...</td>\n",
       "    </tr>\n",
       "    <tr>\n",
       "      <th>63</th>\n",
       "      <td>64</td>\n",
       "      <td>User Acceptance Testing;Coordinate user accept...</td>\n",
       "      <td>Description for User Acceptance Testing;Coordi...</td>\n",
       "    </tr>\n",
       "    <tr>\n",
       "      <th>64</th>\n",
       "      <td>65</td>\n",
       "      <td>Value Stream Mapping;Analyze and optimize proj...</td>\n",
       "      <td>Description for Value Stream Mapping;Analyze a...</td>\n",
       "    </tr>\n",
       "    <tr>\n",
       "      <th>65</th>\n",
       "      <td>66</td>\n",
       "      <td>Vendor Management;Manage relationships with ex...</td>\n",
       "      <td>Description for Vendor Management;Manage relat...</td>\n",
       "    </tr>\n",
       "  </tbody>\n",
       "</table>\n",
       "<p>66 rows × 3 columns</p>\n",
       "</div>"
      ],
      "text/plain": [
       "    id                                               name  \\\n",
       "0    1  Adaptive Leadership;Implement adaptive leaders...   \n",
       "1    2  Budget Planning;Create a detailed budget for t...   \n",
       "2    3  Business Continuity Planning;Develop plans for...   \n",
       "3    4  Change Management;Develop strategies for manag...   \n",
       "4    5  Client Collaboration;Collaborate with clients ...   \n",
       "..  ..                                                ...   \n",
       "61  62  Timeline Creation;Develop a project timeline w...   \n",
       "62  63  Training and Development;Provide necessary tra...   \n",
       "63  64  User Acceptance Testing;Coordinate user accept...   \n",
       "64  65  Value Stream Mapping;Analyze and optimize proj...   \n",
       "65  66  Vendor Management;Manage relationships with ex...   \n",
       "\n",
       "                                          description  \n",
       "0   Description for Adaptive Leadership;Implement ...  \n",
       "1   Description for Budget Planning;Create a detai...  \n",
       "2   Description for Business Continuity Planning;D...  \n",
       "3   Description for Change Management;Develop stra...  \n",
       "4   Description for Client Collaboration;Collabora...  \n",
       "..                                                ...  \n",
       "61  Description for Timeline Creation;Develop a pr...  \n",
       "62  Description for Training and Development;Provi...  \n",
       "63  Description for User Acceptance Testing;Coordi...  \n",
       "64  Description for Value Stream Mapping;Analyze a...  \n",
       "65  Description for Vendor Management;Manage relat...  \n",
       "\n",
       "[66 rows x 3 columns]"
      ]
     },
     "execution_count": 73,
     "metadata": {},
     "output_type": "execute_result"
    }
   ],
   "source": [
    "\n",
    "descripton_dummy_text = \"Lorem ipsum dolor sit amet, consetetur sadipscing elitr, sed diam nonumy eirmod tempor invidunt ut labore et dolore magna aliquyam erat, sed diam voluptua. At vero eos et accusam et justo duo dolores et ea rebum. Stet clita kasd gubergren, no sea takimata sanctus est Lorem ipsum dolor sit amet. Lorem ipsum dolor sit amet, consetetur sadipscing elitr, sed diam nonumy eirmod tempor invidunt ut labore et dolore magna aliquyam erat, sed diam voluptua. At vero eos et accusam et justo duo dolores et ea rebum. Stet clita kasd gubergren, no sea takimata sanctus est Lorem ipsum dolor sit amet.\"\n",
    "task_description_list = [f\"Description for {task} {descripton_dummy_text}.\" for task in task_list]\n",
    "\n",
    "task_rng = range(1, len(task_description_list) + 1)\n",
    "df_task = pd.DataFrame({\n",
    "    \"id\": [i for i in task_rng],\n",
    "    \"name\": task_list,\n",
    "    \"description\": task_description_list\n",
    "})\n",
    "\n",
    "df_task"
   ]
  },
  {
   "cell_type": "code",
   "execution_count": 74,
   "metadata": {},
   "outputs": [
    {
     "name": "stdout",
     "output_type": "stream",
     "text": [
      "CSV successfully created at: ./_md_task.csv\n"
     ]
    }
   ],
   "source": [
    "write_md_csv(df_task, \"task\")"
   ]
  },
  {
   "cell_type": "markdown",
   "metadata": {},
   "source": [
    "### businesspartner"
   ]
  },
  {
   "cell_type": "code",
   "execution_count": 75,
   "metadata": {},
   "outputs": [
    {
     "data": {
      "text/html": [
       "<div>\n",
       "<style scoped>\n",
       "    .dataframe tbody tr th:only-of-type {\n",
       "        vertical-align: middle;\n",
       "    }\n",
       "\n",
       "    .dataframe tbody tr th {\n",
       "        vertical-align: top;\n",
       "    }\n",
       "\n",
       "    .dataframe thead th {\n",
       "        text-align: right;\n",
       "    }\n",
       "</style>\n",
       "<table border=\"1\" class=\"dataframe\">\n",
       "  <thead>\n",
       "    <tr style=\"text-align: right;\">\n",
       "      <th></th>\n",
       "      <th>id</th>\n",
       "      <th>name</th>\n",
       "      <th>address</th>\n",
       "    </tr>\n",
       "  </thead>\n",
       "  <tbody>\n",
       "    <tr>\n",
       "      <th>0</th>\n",
       "      <td>600321</td>\n",
       "      <td>BP_Acme Corporation AG</td>\n",
       "      <td>Musterstraße 1, 10107 Berlin</td>\n",
       "    </tr>\n",
       "    <tr>\n",
       "      <th>1</th>\n",
       "      <td>600322</td>\n",
       "      <td>BP_Aegis Corporation AG</td>\n",
       "      <td>Musterstraße 2, 10108 Berlin</td>\n",
       "    </tr>\n",
       "    <tr>\n",
       "      <th>2</th>\n",
       "      <td>600323</td>\n",
       "      <td>BP_Apex Corporation GmbH</td>\n",
       "      <td>Musterstraße 3, 10109 Berlin</td>\n",
       "    </tr>\n",
       "    <tr>\n",
       "      <th>3</th>\n",
       "      <td>600324</td>\n",
       "      <td>BP_Aurora Systems SE</td>\n",
       "      <td>Musterstraße 4, 10110 Berlin</td>\n",
       "    </tr>\n",
       "    <tr>\n",
       "      <th>4</th>\n",
       "      <td>600325</td>\n",
       "      <td>BP_Beta Industries GmbH</td>\n",
       "      <td>Musterstraße 5, 10111 Berlin</td>\n",
       "    </tr>\n",
       "    <tr>\n",
       "      <th>...</th>\n",
       "      <td>...</td>\n",
       "      <td>...</td>\n",
       "      <td>...</td>\n",
       "    </tr>\n",
       "    <tr>\n",
       "      <th>94</th>\n",
       "      <td>600415</td>\n",
       "      <td>BP_Xi Technologies AG</td>\n",
       "      <td>Musterstraße 95, 10201 Berlin</td>\n",
       "    </tr>\n",
       "    <tr>\n",
       "      <th>95</th>\n",
       "      <td>600416</td>\n",
       "      <td>BP_Ypsilon Innovations Ltd.</td>\n",
       "      <td>Musterstraße 96, 10202 Berlin</td>\n",
       "    </tr>\n",
       "    <tr>\n",
       "      <th>96</th>\n",
       "      <td>600417</td>\n",
       "      <td>BP_Zen Innovations AG</td>\n",
       "      <td>Musterstraße 97, 10203 Berlin</td>\n",
       "    </tr>\n",
       "    <tr>\n",
       "      <th>97</th>\n",
       "      <td>600418</td>\n",
       "      <td>BP_Zenith Technologies AG</td>\n",
       "      <td>Musterstraße 98, 10204 Berlin</td>\n",
       "    </tr>\n",
       "    <tr>\n",
       "      <th>98</th>\n",
       "      <td>600419</td>\n",
       "      <td>BP_Zeta Technologies AG</td>\n",
       "      <td>Musterstraße 99, 10205 Berlin</td>\n",
       "    </tr>\n",
       "  </tbody>\n",
       "</table>\n",
       "<p>99 rows × 3 columns</p>\n",
       "</div>"
      ],
      "text/plain": [
       "        id                         name                        address\n",
       "0   600321       BP_Acme Corporation AG   Musterstraße 1, 10107 Berlin\n",
       "1   600322      BP_Aegis Corporation AG   Musterstraße 2, 10108 Berlin\n",
       "2   600323     BP_Apex Corporation GmbH   Musterstraße 3, 10109 Berlin\n",
       "3   600324         BP_Aurora Systems SE   Musterstraße 4, 10110 Berlin\n",
       "4   600325      BP_Beta Industries GmbH   Musterstraße 5, 10111 Berlin\n",
       "..     ...                          ...                            ...\n",
       "94  600415        BP_Xi Technologies AG  Musterstraße 95, 10201 Berlin\n",
       "95  600416  BP_Ypsilon Innovations Ltd.  Musterstraße 96, 10202 Berlin\n",
       "96  600417        BP_Zen Innovations AG  Musterstraße 97, 10203 Berlin\n",
       "97  600418    BP_Zenith Technologies AG  Musterstraße 98, 10204 Berlin\n",
       "98  600419      BP_Zeta Technologies AG  Musterstraße 99, 10205 Berlin\n",
       "\n",
       "[99 rows x 3 columns]"
      ]
     },
     "execution_count": 75,
     "metadata": {},
     "output_type": "execute_result"
    }
   ],
   "source": [
    "# just the client with prefix bp\n",
    "df_businesspartner = df_clients.copy()\n",
    "df_businesspartner[\"name\"] = df_clients[\"name\"].apply(lambda client: f\"BP_{client}\")\n",
    "df_businesspartner[\"id\"] = df_clients[\"id\"] + 600320\n",
    "df_businesspartner"
   ]
  },
  {
   "cell_type": "code",
   "execution_count": 76,
   "metadata": {},
   "outputs": [
    {
     "name": "stdout",
     "output_type": "stream",
     "text": [
      "CSV successfully created at: ./_md_businesspartner.csv\n"
     ]
    }
   ],
   "source": [
    "write_md_csv(df_businesspartner, \"businesspartner\")"
   ]
  }
 ],
 "metadata": {
  "kernelspec": {
   "display_name": "venv",
   "language": "python",
   "name": "python3"
  },
  "language_info": {
   "codemirror_mode": {
    "name": "ipython",
    "version": 3
   },
   "file_extension": ".py",
   "mimetype": "text/x-python",
   "name": "python",
   "nbconvert_exporter": "python",
   "pygments_lexer": "ipython3",
   "version": "3.11.4"
  }
 },
 "nbformat": 4,
 "nbformat_minor": 2
}
