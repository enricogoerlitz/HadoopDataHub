{
 "cells": [
  {
   "cell_type": "markdown",
   "metadata": {},
   "source": [
    "# Notebook for generating"
   ]
  },
  {
   "cell_type": "markdown",
   "metadata": {},
   "source": [
    "# Import"
   ]
  },
  {
   "cell_type": "code",
   "execution_count": 108,
   "metadata": {},
   "outputs": [],
   "source": [
    "import os\n",
    "import random\n",
    "import pandas as pd\n",
    "\n",
    "from datetime import datetime\n",
    "from dataclasses import dataclass"
   ]
  },
  {
   "cell_type": "markdown",
   "metadata": {},
   "source": [
    "# Settings & Utils"
   ]
  },
  {
   "cell_type": "markdown",
   "metadata": {},
   "source": [
    "## Constants & Helper"
   ]
  },
  {
   "cell_type": "code",
   "execution_count": 109,
   "metadata": {},
   "outputs": [],
   "source": [
    "RESET_DB = False\n",
    "\n",
    "ADD_RECORDS_THIS_RUN = True\n",
    "UPDATE_RECORDS_THIS_RUN = True\n",
    "DELETE_RECORDS_THIS_RUN = True"
   ]
  },
  {
   "cell_type": "code",
   "execution_count": 110,
   "metadata": {},
   "outputs": [],
   "source": [
    "# DATE = get minumum date from data and use +1 Month  ||  default datetime(2015, 1, 1)\n",
    "SEPERATOR = \"|\"\n",
    "CHANGE_FIELD = \"change_field\"\n",
    "\n",
    "UPDATE_MASTERDATA = False\n",
    "UPDATE_TRANSACTIONAL_DATA = False\n",
    "\n",
    "TBL_EMPLOYEE = \"employee\"\n",
    "TBL_CLIENTS = \"clients\"\n",
    "TBL_BUSINESSPARTNER = \"businesspartner\"\n",
    "TBL_COSTCENTER = \"costcenter\"\n",
    "TBL_DEPARTMENT = \"department\"\n",
    "TBL_TASK = \"task\"\n",
    "TBL_PROJECT = \"project\"\n",
    "\n",
    "TBL_USERS = \"users\"\n",
    "TBL_PROJECT = \"project\"\n",
    "TBL_PROJECTTIME = \"projecttime\"\n",
    "TBL_PAY_TYPE = \"pay_type\"\n",
    "TBL_EMPLOYEE_PAY = \"employee_pay\"\n",
    "\n",
    "DB_ATOSS = \"atoss\"\n",
    "DB_PCT = \"pct\"\n",
    "DB_DATEV = \"datev\"\n",
    "\n",
    "SCHEMA_DBO = \"dbo\"\n",
    "SCHEMA_MDM = \"mdm\""
   ]
  },
  {
   "cell_type": "code",
   "execution_count": 111,
   "metadata": {},
   "outputs": [],
   "source": [
    "@dataclass(frozen=True)\n",
    "class MdTable:\n",
    "    tablename: str\n",
    "\n",
    "    @property\n",
    "    def tablepath(self) -> str:\n",
    "        return f\"./_md_{self.tablename}.csv\"\n",
    "    \n",
    "    def read(self, sep: str = SEPERATOR, **kwargs) -> pd.DataFrame:\n",
    "        return pd.read_csv(self.tablepath, sep=sep, **kwargs)\n",
    "\n",
    "\n",
    "@dataclass(frozen=True)\n",
    "class DbTable:\n",
    "    db: str\n",
    "    schema: str\n",
    "    tablename: str\n",
    "\n",
    "    @property\n",
    "    def table_total_name(self) -> str:\n",
    "        return f\"{self.db}.{self.schema}.{self.tablename}\"\n",
    "    \n",
    "    @property\n",
    "    def tablepath(self) -> str:\n",
    "        return f\"./{self.table_total_name}.csv\"\n",
    "    \n",
    "    @property\n",
    "    def is_existing(self) -> bool:\n",
    "        return os.path.exists(self.tablepath)\n",
    "    \n",
    "    def save(self, df: pd.DataFrame, sep: str = SEPERATOR) -> None:\n",
    "        df.to_csv(self.tablepath, sep=sep, index=False, encoding=\"UTF-8\")\n",
    "        print(f\"[{str(datetime.now())[:19]}] TABLE successfully saved at: {self.tablepath} (SHAPE: {df.shape})\")\n",
    "        \n",
    "    def read(self, sep: str = SEPERATOR, **kwargs) -> pd.DataFrame:\n",
    "        return pd.read_csv(self.tablepath, sep=sep, **kwargs)\n",
    "    \n",
    "    def delete(self) -> None:\n",
    "        if not self.is_existing:\n",
    "            log = f\"{self.table_total_name} not existing.\"\n",
    "            print(log)\n",
    "            return\n",
    "        \n",
    "        os.remove(self.tablepath)\n",
    "        log = f\"TABLE {self.table_total_name} successfully removed.\"\n",
    "        print(log)\n",
    "\n",
    "def fn_update_count(row: str) -> str:\n",
    "    split_str = \" uc: \"\n",
    "    if split_str in row:\n",
    "        value, uc = row.split(split_str)\n",
    "        uc = int(uc) + 1\n",
    "        return f\"{value} uc: {uc}\"\n",
    "    return f\"{row} uc: 1\""
   ]
  },
  {
   "cell_type": "code",
   "execution_count": 112,
   "metadata": {},
   "outputs": [],
   "source": [
    "def pd_add_rows(*, df: pd.DataFrame, df_md: pd.DataFrame, nrows: int) -> pd.DataFrame:\n",
    "    df_new_records = df_md[~df_md[\"id\"].isin(df[\"id\"])].sample(nrows)\n",
    "\n",
    "    print(f\"New Records (nrows={nrows}):\")\n",
    "    display(df_new_records)\n",
    "\n",
    "    return pd.concat([df, df_new_records], axis=0).reset_index(drop=True)\n",
    "\n",
    "\n",
    "def pd_update_rows(*, df: pd.DataFrame, nrows: int, column: str = CHANGE_FIELD) -> pd.DataFrame:\n",
    "    update_ids = list(df.sample(nrows)[\"id\"])\n",
    "    update_filter = df[\"id\"].isin(update_ids)\n",
    "\n",
    "    df.loc[update_filter, CHANGE_FIELD] = df.loc[update_filter, column] \\\n",
    "                                            .apply(fn_update_count)\n",
    "    print(f\"Updated Records (nrows={nrows}):\")\n",
    "    display(df[update_filter])\n",
    "\n",
    "    return df\n",
    "\n",
    "\n",
    "def pd_delete_rows(*, df: pd.DataFrame, nrows: int) -> pd.DataFrame:\n",
    "    delete_ids = list(df.sample(nrows)[\"id\"])\n",
    "    delete_filter = df[\"id\"].isin(delete_ids)\n",
    "\n",
    "    print(f\"Removed Records (nrows={nrows}):\")\n",
    "    display(df[delete_filter])\n",
    "\n",
    "    return df[~delete_filter].reset_index(drop=True)"
   ]
  },
  {
   "cell_type": "markdown",
   "metadata": {},
   "source": [
    "## Table Setup"
   ]
  },
  {
   "cell_type": "markdown",
   "metadata": {},
   "source": [
    "### MasterData Tables"
   ]
  },
  {
   "cell_type": "code",
   "execution_count": 113,
   "metadata": {},
   "outputs": [
    {
     "data": {
      "text/plain": [
       "MdTable(tablename='employee')"
      ]
     },
     "metadata": {},
     "output_type": "display_data"
    },
    {
     "data": {
      "text/plain": [
       "MdTable(tablename='clients')"
      ]
     },
     "metadata": {},
     "output_type": "display_data"
    },
    {
     "data": {
      "text/plain": [
       "MdTable(tablename='businesspartner')"
      ]
     },
     "metadata": {},
     "output_type": "display_data"
    },
    {
     "data": {
      "text/plain": [
       "MdTable(tablename='costcenter')"
      ]
     },
     "metadata": {},
     "output_type": "display_data"
    },
    {
     "data": {
      "text/plain": [
       "MdTable(tablename='department')"
      ]
     },
     "metadata": {},
     "output_type": "display_data"
    },
    {
     "data": {
      "text/plain": [
       "MdTable(tablename='project')"
      ]
     },
     "metadata": {},
     "output_type": "display_data"
    },
    {
     "data": {
      "text/plain": [
       "MdTable(tablename='task')"
      ]
     },
     "metadata": {},
     "output_type": "display_data"
    }
   ],
   "source": [
    "tbl_md_employee = MdTable(TBL_EMPLOYEE)\n",
    "tbl_md_clients = MdTable(TBL_CLIENTS)\n",
    "tbl_md_businesspartner = MdTable(TBL_BUSINESSPARTNER)\n",
    "tbl_md_costcenter = MdTable(TBL_COSTCENTER)\n",
    "tbl_md_department = MdTable(TBL_DEPARTMENT)\n",
    "tbl_md_project = MdTable(TBL_PROJECT)\n",
    "tbl_md_task = MdTable(TBL_TASK)\n",
    "\n",
    "display(\n",
    "    tbl_md_employee,\n",
    "    tbl_md_clients,\n",
    "    tbl_md_businesspartner,\n",
    "    tbl_md_costcenter,\n",
    "    tbl_md_department,\n",
    "    tbl_md_project,\n",
    "    tbl_md_task\n",
    ")"
   ]
  },
  {
   "cell_type": "code",
   "execution_count": 114,
   "metadata": {},
   "outputs": [],
   "source": [
    "df_md_employee = tbl_md_employee.read(parse_dates=[\"leave_date\"])\n",
    "df_md_clients = tbl_md_clients.read()\n",
    "df_md_businesspartner = tbl_md_businesspartner.read()\n",
    "df_md_costcenter = tbl_md_costcenter.read()\n",
    "df_md_department = tbl_md_department.read()\n",
    "df_md_project = tbl_md_project.read()\n",
    "df_md_task = tbl_md_task.read()"
   ]
  },
  {
   "cell_type": "markdown",
   "metadata": {},
   "source": [
    "### DB Tables"
   ]
  },
  {
   "cell_type": "code",
   "execution_count": 115,
   "metadata": {},
   "outputs": [
    {
     "data": {
      "text/plain": [
       "DbTable(db='pct', schema='dbo', tablename='users')"
      ]
     },
     "metadata": {},
     "output_type": "display_data"
    },
    {
     "data": {
      "text/plain": [
       "DbTable(db='pct', schema='dbo', tablename='project')"
      ]
     },
     "metadata": {},
     "output_type": "display_data"
    },
    {
     "data": {
      "text/plain": [
       "DbTable(db='pct', schema='dbo', tablename='department')"
      ]
     },
     "metadata": {},
     "output_type": "display_data"
    },
    {
     "data": {
      "text/plain": [
       "DbTable(db='pct', schema='dbo', tablename='task')"
      ]
     },
     "metadata": {},
     "output_type": "display_data"
    },
    {
     "data": {
      "text/plain": [
       "DbTable(db='pct', schema='dbo', tablename='businesspartner')"
      ]
     },
     "metadata": {},
     "output_type": "display_data"
    },
    {
     "data": {
      "text/plain": [
       "DbTable(db='pct', schema='dbo', tablename='projecttime')"
      ]
     },
     "metadata": {},
     "output_type": "display_data"
    },
    {
     "data": {
      "text/plain": [
       "DbTable(db='pct', schema='mdm', tablename='employee')"
      ]
     },
     "metadata": {},
     "output_type": "display_data"
    },
    {
     "data": {
      "text/plain": [
       "DbTable(db='datev', schema='dbo', tablename='employee')"
      ]
     },
     "metadata": {},
     "output_type": "display_data"
    },
    {
     "data": {
      "text/plain": [
       "DbTable(db='datev', schema='dbo', tablename='clients')"
      ]
     },
     "metadata": {},
     "output_type": "display_data"
    },
    {
     "data": {
      "text/plain": [
       "DbTable(db='datev', schema='dbo', tablename='department')"
      ]
     },
     "metadata": {},
     "output_type": "display_data"
    },
    {
     "data": {
      "text/plain": [
       "DbTable(db='datev', schema='dbo', tablename='costcenter')"
      ]
     },
     "metadata": {},
     "output_type": "display_data"
    },
    {
     "data": {
      "text/plain": [
       "DbTable(db='datev', schema='dbo', tablename='pay_type')"
      ]
     },
     "metadata": {},
     "output_type": "display_data"
    },
    {
     "data": {
      "text/plain": [
       "DbTable(db='datev', schema='dbo', tablename='employee_pay')"
      ]
     },
     "metadata": {},
     "output_type": "display_data"
    }
   ],
   "source": [
    "tbl_db_pct_users = DbTable(DB_PCT, SCHEMA_DBO, TBL_USERS)\n",
    "tbl_db_pct_project = DbTable(DB_PCT, SCHEMA_DBO, TBL_PROJECT)\n",
    "tbl_db_pct_department = DbTable(DB_PCT, SCHEMA_DBO, TBL_DEPARTMENT)\n",
    "tbl_db_pct_task = DbTable(DB_PCT, SCHEMA_DBO, TBL_TASK)\n",
    "tbl_db_pct_businesspartner = DbTable(DB_PCT, SCHEMA_DBO, TBL_BUSINESSPARTNER)\n",
    "tbl_db_pct_projecttime = DbTable(DB_PCT, SCHEMA_DBO, TBL_PROJECTTIME)\n",
    "tbl_db_pct_employee_mdm = DbTable(DB_PCT, SCHEMA_MDM, TBL_EMPLOYEE)\n",
    "\n",
    "tbl_db_datev_employee = DbTable(DB_DATEV, SCHEMA_DBO, TBL_EMPLOYEE)\n",
    "tbl_db_datev_clients = DbTable(DB_DATEV, SCHEMA_DBO, TBL_CLIENTS)\n",
    "tbl_db_datev_department = DbTable(DB_DATEV, SCHEMA_DBO, TBL_DEPARTMENT)\n",
    "tbl_db_datev_costcenter = DbTable(DB_DATEV, SCHEMA_DBO, TBL_COSTCENTER)\n",
    "tbl_db_datev_pay_type = DbTable(DB_DATEV, SCHEMA_DBO, TBL_PAY_TYPE)\n",
    "tbl_db_datev_employee_pay = DbTable(DB_DATEV, SCHEMA_DBO, TBL_EMPLOYEE_PAY)\n",
    "\n",
    "ALL_TABLES = [\n",
    "    tbl_db_pct_users,\n",
    "    tbl_db_pct_project,\n",
    "    tbl_db_pct_department,\n",
    "    tbl_db_pct_task,\n",
    "    tbl_db_pct_businesspartner,\n",
    "    tbl_db_pct_projecttime,\n",
    "    tbl_db_pct_employee_mdm,\n",
    "    tbl_db_datev_employee,\n",
    "    tbl_db_datev_clients,\n",
    "    tbl_db_datev_department,\n",
    "    tbl_db_datev_costcenter,\n",
    "    tbl_db_datev_pay_type,\n",
    "    tbl_db_datev_employee_pay\n",
    "]\n",
    "\n",
    "display(\n",
    "    tbl_db_pct_users,\n",
    "    tbl_db_pct_project,\n",
    "    tbl_db_pct_department,\n",
    "    tbl_db_pct_task,\n",
    "    tbl_db_pct_businesspartner,\n",
    "    tbl_db_pct_projecttime,\n",
    "    tbl_db_pct_employee_mdm,\n",
    "    tbl_db_datev_employee,\n",
    "    tbl_db_datev_clients,\n",
    "    tbl_db_datev_department,\n",
    "    tbl_db_datev_costcenter,\n",
    "    tbl_db_datev_pay_type,\n",
    "    tbl_db_datev_employee_pay\n",
    ")"
   ]
  },
  {
   "cell_type": "markdown",
   "metadata": {},
   "source": [
    "# Generate or Update databasefiles"
   ]
  },
  {
   "cell_type": "markdown",
   "metadata": {},
   "source": [
    "## Reset DB if needed"
   ]
  },
  {
   "cell_type": "code",
   "execution_count": 116,
   "metadata": {},
   "outputs": [
    {
     "name": "stdout",
     "output_type": "stream",
     "text": [
      "No Reset!\n"
     ]
    }
   ],
   "source": [
    "if RESET_DB:\n",
    "    table: DbTable\n",
    "    for table in ALL_TABLES:\n",
    "        table.delete()\n",
    "else:\n",
    "    print(\"No Reset!\")"
   ]
  },
  {
   "cell_type": "markdown",
   "metadata": {},
   "source": [
    "## ERP-System - datev"
   ]
  },
  {
   "cell_type": "markdown",
   "metadata": {},
   "source": [
    "### dbo.clients"
   ]
  },
  {
   "cell_type": "markdown",
   "metadata": {},
   "source": [
    "#### Create if not existing"
   ]
  },
  {
   "cell_type": "code",
   "execution_count": 117,
   "metadata": {},
   "outputs": [
    {
     "data": {
      "text/html": [
       "<div>\n",
       "<style scoped>\n",
       "    .dataframe tbody tr th:only-of-type {\n",
       "        vertical-align: middle;\n",
       "    }\n",
       "\n",
       "    .dataframe tbody tr th {\n",
       "        vertical-align: top;\n",
       "    }\n",
       "\n",
       "    .dataframe thead th {\n",
       "        text-align: right;\n",
       "    }\n",
       "</style>\n",
       "<table border=\"1\" class=\"dataframe\">\n",
       "  <thead>\n",
       "    <tr style=\"text-align: right;\">\n",
       "      <th></th>\n",
       "      <th>id</th>\n",
       "      <th>name</th>\n",
       "      <th>address</th>\n",
       "      <th>change_field</th>\n",
       "    </tr>\n",
       "  </thead>\n",
       "  <tbody>\n",
       "    <tr>\n",
       "      <th>0</th>\n",
       "      <td>70</td>\n",
       "      <td>Rapid Systems GmbH</td>\n",
       "      <td>Musterstraße 70, 10176 Berlin</td>\n",
       "      <td>cf</td>\n",
       "    </tr>\n",
       "    <tr>\n",
       "      <th>1</th>\n",
       "      <td>85</td>\n",
       "      <td>Utopia Consulting Ltd.</td>\n",
       "      <td>Musterstraße 85, 10191 Berlin</td>\n",
       "      <td>cf</td>\n",
       "    </tr>\n",
       "    <tr>\n",
       "      <th>2</th>\n",
       "      <td>75</td>\n",
       "      <td>Stellar Corporation SE</td>\n",
       "      <td>Musterstraße 75, 10181 Berlin</td>\n",
       "      <td>cf</td>\n",
       "    </tr>\n",
       "    <tr>\n",
       "      <th>3</th>\n",
       "      <td>45</td>\n",
       "      <td>Luminous Enterprises AG</td>\n",
       "      <td>Musterstraße 45, 10151 Berlin</td>\n",
       "      <td>cf</td>\n",
       "    </tr>\n",
       "    <tr>\n",
       "      <th>4</th>\n",
       "      <td>61</td>\n",
       "      <td>Phi Solutions Ltd.</td>\n",
       "      <td>Musterstraße 61, 10167 Berlin</td>\n",
       "      <td>cf</td>\n",
       "    </tr>\n",
       "  </tbody>\n",
       "</table>\n",
       "</div>"
      ],
      "text/plain": [
       "   id                     name                        address change_field\n",
       "0  70       Rapid Systems GmbH  Musterstraße 70, 10176 Berlin           cf\n",
       "1  85   Utopia Consulting Ltd.  Musterstraße 85, 10191 Berlin           cf\n",
       "2  75   Stellar Corporation SE  Musterstraße 75, 10181 Berlin           cf\n",
       "3  45  Luminous Enterprises AG  Musterstraße 45, 10151 Berlin           cf\n",
       "4  61       Phi Solutions Ltd.  Musterstraße 61, 10167 Berlin           cf"
      ]
     },
     "execution_count": 117,
     "metadata": {},
     "output_type": "execute_result"
    }
   ],
   "source": [
    "INIT_CLIENTS_COUNT = 10\n",
    "\n",
    "df_init = df_md_clients.sample(INIT_CLIENTS_COUNT)\n",
    "if not tbl_db_datev_clients.is_existing:\n",
    "    tbl_db_datev_clients.save(df_init)\n",
    "\n",
    "\n",
    "df_db_datev_clients = tbl_db_datev_clients.read()\n",
    "df_db_datev_clients.head()"
   ]
  },
  {
   "cell_type": "markdown",
   "metadata": {},
   "source": [
    "#### Update Records"
   ]
  },
  {
   "cell_type": "code",
   "execution_count": 119,
   "metadata": {},
   "outputs": [
    {
     "name": "stdout",
     "output_type": "stream",
     "text": [
      "Updated Records (nrows=0):\n"
     ]
    },
    {
     "data": {
      "text/html": [
       "<div>\n",
       "<style scoped>\n",
       "    .dataframe tbody tr th:only-of-type {\n",
       "        vertical-align: middle;\n",
       "    }\n",
       "\n",
       "    .dataframe tbody tr th {\n",
       "        vertical-align: top;\n",
       "    }\n",
       "\n",
       "    .dataframe thead th {\n",
       "        text-align: right;\n",
       "    }\n",
       "</style>\n",
       "<table border=\"1\" class=\"dataframe\">\n",
       "  <thead>\n",
       "    <tr style=\"text-align: right;\">\n",
       "      <th></th>\n",
       "      <th>id</th>\n",
       "      <th>name</th>\n",
       "      <th>address</th>\n",
       "      <th>change_field</th>\n",
       "    </tr>\n",
       "  </thead>\n",
       "  <tbody>\n",
       "  </tbody>\n",
       "</table>\n",
       "</div>"
      ],
      "text/plain": [
       "Empty DataFrame\n",
       "Columns: [id, name, address, change_field]\n",
       "Index: []"
      ]
     },
     "metadata": {},
     "output_type": "display_data"
    },
    {
     "name": "stdout",
     "output_type": "stream",
     "text": [
      "[2023-12-20 11:05:30.] TABLE successfully saved at: ./datev.dbo.clients.csv (SHAPE: (11, 4))\n"
     ]
    }
   ],
   "source": [
    "update_record_count = random.choice(range(0, 4))\n",
    "\n",
    "df_db_datev_clients = pd_update_rows(\n",
    "    df=df_db_datev_clients,\n",
    "    nrows=update_record_count\n",
    ")\n",
    "\n",
    "tbl_db_datev_clients.save(df_db_datev_clients)"
   ]
  },
  {
   "cell_type": "markdown",
   "metadata": {},
   "source": [
    "#### Add Records"
   ]
  },
  {
   "cell_type": "code",
   "execution_count": 118,
   "metadata": {},
   "outputs": [
    {
     "name": "stdout",
     "output_type": "stream",
     "text": [
      "New Records (nrows=0):\n"
     ]
    },
    {
     "data": {
      "text/html": [
       "<div>\n",
       "<style scoped>\n",
       "    .dataframe tbody tr th:only-of-type {\n",
       "        vertical-align: middle;\n",
       "    }\n",
       "\n",
       "    .dataframe tbody tr th {\n",
       "        vertical-align: top;\n",
       "    }\n",
       "\n",
       "    .dataframe thead th {\n",
       "        text-align: right;\n",
       "    }\n",
       "</style>\n",
       "<table border=\"1\" class=\"dataframe\">\n",
       "  <thead>\n",
       "    <tr style=\"text-align: right;\">\n",
       "      <th></th>\n",
       "      <th>id</th>\n",
       "      <th>name</th>\n",
       "      <th>address</th>\n",
       "      <th>change_field</th>\n",
       "    </tr>\n",
       "  </thead>\n",
       "  <tbody>\n",
       "  </tbody>\n",
       "</table>\n",
       "</div>"
      ],
      "text/plain": [
       "Empty DataFrame\n",
       "Columns: [id, name, address, change_field]\n",
       "Index: []"
      ]
     },
     "metadata": {},
     "output_type": "display_data"
    },
    {
     "name": "stdout",
     "output_type": "stream",
     "text": [
      "[2023-12-20 11:05:30.] TABLE successfully saved at: ./datev.dbo.clients.csv (SHAPE: (11, 4))\n"
     ]
    }
   ],
   "source": [
    "add_record_count = random.choice(range(0, 2)) if ADD_RECORDS_THIS_RUN else 0\n",
    "\n",
    "df_db_datev_clients = pd_add_rows(\n",
    "    df=df_db_datev_clients,\n",
    "    df_md=df_md_clients,\n",
    "    nrows=add_record_count\n",
    ")\n",
    "\n",
    "tbl_db_datev_clients.save(df_db_datev_clients)"
   ]
  },
  {
   "cell_type": "markdown",
   "metadata": {},
   "source": [
    "### dbo.employee"
   ]
  },
  {
   "cell_type": "markdown",
   "metadata": {},
   "source": [
    "#### Create if not existing"
   ]
  },
  {
   "cell_type": "code",
   "execution_count": 120,
   "metadata": {},
   "outputs": [
    {
     "data": {
      "text/html": [
       "<div>\n",
       "<style scoped>\n",
       "    .dataframe tbody tr th:only-of-type {\n",
       "        vertical-align: middle;\n",
       "    }\n",
       "\n",
       "    .dataframe tbody tr th {\n",
       "        vertical-align: top;\n",
       "    }\n",
       "\n",
       "    .dataframe thead th {\n",
       "        text-align: right;\n",
       "    }\n",
       "</style>\n",
       "<table border=\"1\" class=\"dataframe\">\n",
       "  <thead>\n",
       "    <tr style=\"text-align: right;\">\n",
       "      <th></th>\n",
       "      <th>id</th>\n",
       "      <th>firstname</th>\n",
       "      <th>lastname</th>\n",
       "      <th>birthdate</th>\n",
       "      <th>entry_date</th>\n",
       "      <th>salary</th>\n",
       "      <th>leave_date</th>\n",
       "      <th>change_field</th>\n",
       "    </tr>\n",
       "  </thead>\n",
       "  <tbody>\n",
       "    <tr>\n",
       "      <th>0</th>\n",
       "      <td>7805</td>\n",
       "      <td>Obi-Wan</td>\n",
       "      <td>Kenobi</td>\n",
       "      <td>1959-03-12</td>\n",
       "      <td>2004-03-31</td>\n",
       "      <td>5097.77</td>\n",
       "      <td>NaN</td>\n",
       "      <td>cf</td>\n",
       "    </tr>\n",
       "    <tr>\n",
       "      <th>1</th>\n",
       "      <td>7773</td>\n",
       "      <td>Natalie</td>\n",
       "      <td>Wilson</td>\n",
       "      <td>1963-06-30</td>\n",
       "      <td>2007-08-12</td>\n",
       "      <td>6343.06</td>\n",
       "      <td>NaN</td>\n",
       "      <td>cf</td>\n",
       "    </tr>\n",
       "    <tr>\n",
       "      <th>2</th>\n",
       "      <td>7137</td>\n",
       "      <td>Sara</td>\n",
       "      <td>Fernández</td>\n",
       "      <td>1970-01-06</td>\n",
       "      <td>2025-02-18</td>\n",
       "      <td>4794.82</td>\n",
       "      <td>NaN</td>\n",
       "      <td>cf</td>\n",
       "    </tr>\n",
       "    <tr>\n",
       "      <th>3</th>\n",
       "      <td>2472</td>\n",
       "      <td>Miku</td>\n",
       "      <td>Watanabe</td>\n",
       "      <td>1961-03-25</td>\n",
       "      <td>2005-09-26</td>\n",
       "      <td>5927.05</td>\n",
       "      <td>NaN</td>\n",
       "      <td>cf</td>\n",
       "    </tr>\n",
       "    <tr>\n",
       "      <th>4</th>\n",
       "      <td>3015</td>\n",
       "      <td>Bernard</td>\n",
       "      <td>Lowe</td>\n",
       "      <td>1956-01-20</td>\n",
       "      <td>2018-12-14</td>\n",
       "      <td>5109.09</td>\n",
       "      <td>NaN</td>\n",
       "      <td>cf</td>\n",
       "    </tr>\n",
       "  </tbody>\n",
       "</table>\n",
       "</div>"
      ],
      "text/plain": [
       "     id firstname   lastname   birthdate  entry_date   salary  leave_date  \\\n",
       "0  7805   Obi-Wan     Kenobi  1959-03-12  2004-03-31  5097.77         NaN   \n",
       "1  7773   Natalie     Wilson  1963-06-30  2007-08-12  6343.06         NaN   \n",
       "2  7137      Sara  Fernández  1970-01-06  2025-02-18  4794.82         NaN   \n",
       "3  2472      Miku   Watanabe  1961-03-25  2005-09-26  5927.05         NaN   \n",
       "4  3015   Bernard       Lowe  1956-01-20  2018-12-14  5109.09         NaN   \n",
       "\n",
       "  change_field  \n",
       "0           cf  \n",
       "1           cf  \n",
       "2           cf  \n",
       "3           cf  \n",
       "4           cf  "
      ]
     },
     "execution_count": 120,
     "metadata": {},
     "output_type": "execute_result"
    }
   ],
   "source": [
    "INIT_EMPLOYEE_COUNT = 5000\n",
    "\n",
    "df_init = df_md_employee.sample(INIT_EMPLOYEE_COUNT)\n",
    "if not tbl_db_datev_employee.is_existing:\n",
    "    tbl_db_datev_employee.save(df_init)\n",
    "\n",
    "\n",
    "df_db_datev_employee = tbl_db_datev_employee.read()\n",
    "df_db_datev_employee.head()"
   ]
  },
  {
   "cell_type": "markdown",
   "metadata": {},
   "source": [
    "#### Update Records"
   ]
  },
  {
   "cell_type": "code",
   "execution_count": 122,
   "metadata": {},
   "outputs": [
    {
     "name": "stdout",
     "output_type": "stream",
     "text": [
      "Updated Records (nrows=171):\n"
     ]
    },
    {
     "data": {
      "text/html": [
       "<div>\n",
       "<style scoped>\n",
       "    .dataframe tbody tr th:only-of-type {\n",
       "        vertical-align: middle;\n",
       "    }\n",
       "\n",
       "    .dataframe tbody tr th {\n",
       "        vertical-align: top;\n",
       "    }\n",
       "\n",
       "    .dataframe thead th {\n",
       "        text-align: right;\n",
       "    }\n",
       "</style>\n",
       "<table border=\"1\" class=\"dataframe\">\n",
       "  <thead>\n",
       "    <tr style=\"text-align: right;\">\n",
       "      <th></th>\n",
       "      <th>id</th>\n",
       "      <th>firstname</th>\n",
       "      <th>lastname</th>\n",
       "      <th>birthdate</th>\n",
       "      <th>entry_date</th>\n",
       "      <th>salary</th>\n",
       "      <th>leave_date</th>\n",
       "      <th>change_field</th>\n",
       "    </tr>\n",
       "  </thead>\n",
       "  <tbody>\n",
       "    <tr>\n",
       "      <th>6</th>\n",
       "      <td>6769</td>\n",
       "      <td>Karolina</td>\n",
       "      <td>Nowak</td>\n",
       "      <td>1978-10-26</td>\n",
       "      <td>2004-01-08</td>\n",
       "      <td>6277.68</td>\n",
       "      <td>NaN</td>\n",
       "      <td>cf uc: 1</td>\n",
       "    </tr>\n",
       "    <tr>\n",
       "      <th>18</th>\n",
       "      <td>2085</td>\n",
       "      <td>Sofía</td>\n",
       "      <td>Moya</td>\n",
       "      <td>1992-04-16</td>\n",
       "      <td>2022-09-29</td>\n",
       "      <td>5468.50</td>\n",
       "      <td>NaN</td>\n",
       "      <td>cf uc: 1</td>\n",
       "    </tr>\n",
       "    <tr>\n",
       "      <th>26</th>\n",
       "      <td>3107</td>\n",
       "      <td>Adrián</td>\n",
       "      <td>Romero</td>\n",
       "      <td>1956-03-16</td>\n",
       "      <td>2017-06-16</td>\n",
       "      <td>6435.66</td>\n",
       "      <td>NaN</td>\n",
       "      <td>cf uc: 1</td>\n",
       "    </tr>\n",
       "    <tr>\n",
       "      <th>48</th>\n",
       "      <td>3295</td>\n",
       "      <td>Camille</td>\n",
       "      <td>Lefevre</td>\n",
       "      <td>1989-01-29</td>\n",
       "      <td>2005-05-06</td>\n",
       "      <td>4927.65</td>\n",
       "      <td>NaN</td>\n",
       "      <td>cf uc: 1</td>\n",
       "    </tr>\n",
       "    <tr>\n",
       "      <th>70</th>\n",
       "      <td>6131</td>\n",
       "      <td>Fleur</td>\n",
       "      <td>de</td>\n",
       "      <td>1965-03-23</td>\n",
       "      <td>2002-02-01</td>\n",
       "      <td>5636.24</td>\n",
       "      <td>NaN</td>\n",
       "      <td>cf uc: 1</td>\n",
       "    </tr>\n",
       "    <tr>\n",
       "      <th>...</th>\n",
       "      <td>...</td>\n",
       "      <td>...</td>\n",
       "      <td>...</td>\n",
       "      <td>...</td>\n",
       "      <td>...</td>\n",
       "      <td>...</td>\n",
       "      <td>...</td>\n",
       "      <td>...</td>\n",
       "    </tr>\n",
       "    <tr>\n",
       "      <th>4771</th>\n",
       "      <td>3031</td>\n",
       "      <td>Elena</td>\n",
       "      <td>Ferrari</td>\n",
       "      <td>1979-05-17</td>\n",
       "      <td>2025-05-25</td>\n",
       "      <td>4854.06</td>\n",
       "      <td>NaN</td>\n",
       "      <td>cf uc: 1</td>\n",
       "    </tr>\n",
       "    <tr>\n",
       "      <th>4854</th>\n",
       "      <td>3358</td>\n",
       "      <td>Isabella</td>\n",
       "      <td>Miller</td>\n",
       "      <td>1955-08-16</td>\n",
       "      <td>2023-10-11</td>\n",
       "      <td>5380.24</td>\n",
       "      <td>NaN</td>\n",
       "      <td>cf uc: 1</td>\n",
       "    </tr>\n",
       "    <tr>\n",
       "      <th>4871</th>\n",
       "      <td>4526</td>\n",
       "      <td>Yasin</td>\n",
       "      <td>Kılıç</td>\n",
       "      <td>1973-09-03</td>\n",
       "      <td>2013-12-17</td>\n",
       "      <td>5153.50</td>\n",
       "      <td>NaN</td>\n",
       "      <td>cf uc: 1</td>\n",
       "    </tr>\n",
       "    <tr>\n",
       "      <th>4928</th>\n",
       "      <td>2209</td>\n",
       "      <td>Joshua</td>\n",
       "      <td>Taylor</td>\n",
       "      <td>2000-01-14</td>\n",
       "      <td>2014-09-16</td>\n",
       "      <td>4555.27</td>\n",
       "      <td>NaN</td>\n",
       "      <td>cf uc: 1</td>\n",
       "    </tr>\n",
       "    <tr>\n",
       "      <th>4950</th>\n",
       "      <td>7154</td>\n",
       "      <td>Olivia</td>\n",
       "      <td>Martinez</td>\n",
       "      <td>1998-12-15</td>\n",
       "      <td>2010-09-15</td>\n",
       "      <td>5691.20</td>\n",
       "      <td>NaN</td>\n",
       "      <td>cf uc: 1</td>\n",
       "    </tr>\n",
       "  </tbody>\n",
       "</table>\n",
       "<p>171 rows × 8 columns</p>\n",
       "</div>"
      ],
      "text/plain": [
       "        id firstname  lastname   birthdate  entry_date   salary leave_date  \\\n",
       "6     6769  Karolina     Nowak  1978-10-26  2004-01-08  6277.68        NaN   \n",
       "18    2085     Sofía      Moya  1992-04-16  2022-09-29  5468.50        NaN   \n",
       "26    3107    Adrián    Romero  1956-03-16  2017-06-16  6435.66        NaN   \n",
       "48    3295   Camille   Lefevre  1989-01-29  2005-05-06  4927.65        NaN   \n",
       "70    6131     Fleur        de  1965-03-23  2002-02-01  5636.24        NaN   \n",
       "...    ...       ...       ...         ...         ...      ...        ...   \n",
       "4771  3031     Elena   Ferrari  1979-05-17  2025-05-25  4854.06        NaN   \n",
       "4854  3358  Isabella    Miller  1955-08-16  2023-10-11  5380.24        NaN   \n",
       "4871  4526     Yasin     Kılıç  1973-09-03  2013-12-17  5153.50        NaN   \n",
       "4928  2209    Joshua    Taylor  2000-01-14  2014-09-16  4555.27        NaN   \n",
       "4950  7154    Olivia  Martinez  1998-12-15  2010-09-15  5691.20        NaN   \n",
       "\n",
       "     change_field  \n",
       "6        cf uc: 1  \n",
       "18       cf uc: 1  \n",
       "26       cf uc: 1  \n",
       "48       cf uc: 1  \n",
       "70       cf uc: 1  \n",
       "...           ...  \n",
       "4771     cf uc: 1  \n",
       "4854     cf uc: 1  \n",
       "4871     cf uc: 1  \n",
       "4928     cf uc: 1  \n",
       "4950     cf uc: 1  \n",
       "\n",
       "[171 rows x 8 columns]"
      ]
     },
     "metadata": {},
     "output_type": "display_data"
    },
    {
     "name": "stdout",
     "output_type": "stream",
     "text": [
      "[2023-12-20 11:05:30.] TABLE successfully saved at: ./datev.dbo.employee.csv (SHAPE: (5003, 8))\n"
     ]
    }
   ],
   "source": [
    "update_record_count = random.choice(range(0, 7))\n",
    "\n",
    "df_db_datev_employee = pd_update_rows(\n",
    "    df=df_db_datev_employee,\n",
    "    nrows=update_record_count\n",
    ")\n",
    "\n",
    "tbl_db_datev_employee.save(df_db_datev_employee)"
   ]
  },
  {
   "cell_type": "markdown",
   "metadata": {},
   "source": [
    "#### Add Records"
   ]
  },
  {
   "cell_type": "code",
   "execution_count": 121,
   "metadata": {},
   "outputs": [
    {
     "name": "stdout",
     "output_type": "stream",
     "text": [
      "New Records (nrows=1):\n"
     ]
    },
    {
     "data": {
      "text/html": [
       "<div>\n",
       "<style scoped>\n",
       "    .dataframe tbody tr th:only-of-type {\n",
       "        vertical-align: middle;\n",
       "    }\n",
       "\n",
       "    .dataframe tbody tr th {\n",
       "        vertical-align: top;\n",
       "    }\n",
       "\n",
       "    .dataframe thead th {\n",
       "        text-align: right;\n",
       "    }\n",
       "</style>\n",
       "<table border=\"1\" class=\"dataframe\">\n",
       "  <thead>\n",
       "    <tr style=\"text-align: right;\">\n",
       "      <th></th>\n",
       "      <th>id</th>\n",
       "      <th>firstname</th>\n",
       "      <th>lastname</th>\n",
       "      <th>birthdate</th>\n",
       "      <th>entry_date</th>\n",
       "      <th>salary</th>\n",
       "      <th>leave_date</th>\n",
       "      <th>change_field</th>\n",
       "    </tr>\n",
       "  </thead>\n",
       "  <tbody>\n",
       "    <tr>\n",
       "      <th>5845</th>\n",
       "      <td>5846</td>\n",
       "      <td>Leila</td>\n",
       "      <td>Al-Farsi</td>\n",
       "      <td>1960-09-12</td>\n",
       "      <td>2015-08-16</td>\n",
       "      <td>5057.46</td>\n",
       "      <td>NaT</td>\n",
       "      <td>cf</td>\n",
       "    </tr>\n",
       "  </tbody>\n",
       "</table>\n",
       "</div>"
      ],
      "text/plain": [
       "        id firstname  lastname   birthdate  entry_date   salary leave_date  \\\n",
       "5845  5846     Leila  Al-Farsi  1960-09-12  2015-08-16  5057.46        NaT   \n",
       "\n",
       "     change_field  \n",
       "5845           cf  "
      ]
     },
     "metadata": {},
     "output_type": "display_data"
    },
    {
     "name": "stdout",
     "output_type": "stream",
     "text": [
      "[2023-12-20 11:05:30.] TABLE successfully saved at: ./datev.dbo.employee.csv (SHAPE: (5003, 8))\n"
     ]
    }
   ],
   "source": [
    "add_record_count = random.choice(range(0, 4)) if ADD_RECORDS_THIS_RUN else 0\n",
    "\n",
    "df_db_datev_employee = pd_add_rows(\n",
    "    df=df_db_datev_employee,\n",
    "    df_md=df_md_employee,\n",
    "    nrows=add_record_count\n",
    ")\n",
    "\n",
    "tbl_db_datev_employee.save(df_db_datev_employee)"
   ]
  },
  {
   "cell_type": "markdown",
   "metadata": {},
   "source": [
    "### dbo.department"
   ]
  },
  {
   "cell_type": "markdown",
   "metadata": {},
   "source": [
    "#### Create if not existing"
   ]
  },
  {
   "cell_type": "code",
   "execution_count": 129,
   "metadata": {},
   "outputs": [
    {
     "data": {
      "text/html": [
       "<div>\n",
       "<style scoped>\n",
       "    .dataframe tbody tr th:only-of-type {\n",
       "        vertical-align: middle;\n",
       "    }\n",
       "\n",
       "    .dataframe tbody tr th {\n",
       "        vertical-align: top;\n",
       "    }\n",
       "\n",
       "    .dataframe thead th {\n",
       "        text-align: right;\n",
       "    }\n",
       "</style>\n",
       "<table border=\"1\" class=\"dataframe\">\n",
       "  <thead>\n",
       "    <tr style=\"text-align: right;\">\n",
       "      <th></th>\n",
       "      <th>id</th>\n",
       "      <th>name</th>\n",
       "      <th>change_field</th>\n",
       "    </tr>\n",
       "  </thead>\n",
       "  <tbody>\n",
       "    <tr>\n",
       "      <th>0</th>\n",
       "      <td>1</td>\n",
       "      <td>Administration</td>\n",
       "      <td>cf</td>\n",
       "    </tr>\n",
       "    <tr>\n",
       "      <th>1</th>\n",
       "      <td>2</td>\n",
       "      <td>Brand Management</td>\n",
       "      <td>cf</td>\n",
       "    </tr>\n",
       "    <tr>\n",
       "      <th>2</th>\n",
       "      <td>3</td>\n",
       "      <td>Business Development</td>\n",
       "      <td>cf</td>\n",
       "    </tr>\n",
       "    <tr>\n",
       "      <th>3</th>\n",
       "      <td>4</td>\n",
       "      <td>Community Relations</td>\n",
       "      <td>cf</td>\n",
       "    </tr>\n",
       "    <tr>\n",
       "      <th>4</th>\n",
       "      <td>5</td>\n",
       "      <td>Corporate Affairs</td>\n",
       "      <td>cf</td>\n",
       "    </tr>\n",
       "  </tbody>\n",
       "</table>\n",
       "</div>"
      ],
      "text/plain": [
       "   id                  name change_field\n",
       "0   1        Administration           cf\n",
       "1   2      Brand Management           cf\n",
       "2   3  Business Development           cf\n",
       "3   4   Community Relations           cf\n",
       "4   5     Corporate Affairs           cf"
      ]
     },
     "execution_count": 129,
     "metadata": {},
     "output_type": "execute_result"
    }
   ],
   "source": [
    "df_md_department.head()"
   ]
  },
  {
   "cell_type": "code",
   "execution_count": 132,
   "metadata": {},
   "outputs": [
    {
     "data": {
      "text/html": [
       "<div>\n",
       "<style scoped>\n",
       "    .dataframe tbody tr th:only-of-type {\n",
       "        vertical-align: middle;\n",
       "    }\n",
       "\n",
       "    .dataframe tbody tr th {\n",
       "        vertical-align: top;\n",
       "    }\n",
       "\n",
       "    .dataframe thead th {\n",
       "        text-align: right;\n",
       "    }\n",
       "</style>\n",
       "<table border=\"1\" class=\"dataframe\">\n",
       "  <thead>\n",
       "    <tr style=\"text-align: right;\">\n",
       "      <th></th>\n",
       "      <th>client_id</th>\n",
       "    </tr>\n",
       "  </thead>\n",
       "  <tbody>\n",
       "    <tr>\n",
       "      <th>9</th>\n",
       "      <td>48</td>\n",
       "    </tr>\n",
       "    <tr>\n",
       "      <th>1</th>\n",
       "      <td>85</td>\n",
       "    </tr>\n",
       "    <tr>\n",
       "      <th>7</th>\n",
       "      <td>37</td>\n",
       "    </tr>\n",
       "    <tr>\n",
       "      <th>6</th>\n",
       "      <td>71</td>\n",
       "    </tr>\n",
       "    <tr>\n",
       "      <th>10</th>\n",
       "      <td>79</td>\n",
       "    </tr>\n",
       "  </tbody>\n",
       "</table>\n",
       "</div>"
      ],
      "text/plain": [
       "    client_id\n",
       "9          48\n",
       "1          85\n",
       "7          37\n",
       "6          71\n",
       "10         79"
      ]
     },
     "execution_count": 132,
     "metadata": {},
     "output_type": "execute_result"
    }
   ],
   "source": [
    "INIT_DEPARTMENT_COUNT = 10\n",
    "n_costcenter_sample = int(INIT_DEPARTMENT_COUNT / 3)\n",
    "df_init = df_md_department.sample(5)\n",
    "df_db_datev_clients[[\"id\"]] \\\n",
    "    .rename(columns={\"id\": \"client_id\"}) \\\n",
    "    .sample(n_costcenter_sample) \\\n",
    "    .join(df_init, how=\"\")\n",
    "# CROSS JOIN!!!\n",
    "# https://stackoverflow.com/questions/34161978/pandas-two-dataframe-cross-join"
   ]
  },
  {
   "cell_type": "code",
   "execution_count": 124,
   "metadata": {},
   "outputs": [
    {
     "data": {
      "text/html": [
       "<div>\n",
       "<style scoped>\n",
       "    .dataframe tbody tr th:only-of-type {\n",
       "        vertical-align: middle;\n",
       "    }\n",
       "\n",
       "    .dataframe tbody tr th {\n",
       "        vertical-align: top;\n",
       "    }\n",
       "\n",
       "    .dataframe thead th {\n",
       "        text-align: right;\n",
       "    }\n",
       "</style>\n",
       "<table border=\"1\" class=\"dataframe\">\n",
       "  <thead>\n",
       "    <tr style=\"text-align: right;\">\n",
       "      <th></th>\n",
       "      <th>id</th>\n",
       "      <th>name</th>\n",
       "      <th>change_field</th>\n",
       "    </tr>\n",
       "  </thead>\n",
       "  <tbody>\n",
       "    <tr>\n",
       "      <th>0</th>\n",
       "      <td>27</td>\n",
       "      <td>Internal Audit</td>\n",
       "      <td>cf</td>\n",
       "    </tr>\n",
       "    <tr>\n",
       "      <th>1</th>\n",
       "      <td>34</td>\n",
       "      <td>Procurement</td>\n",
       "      <td>cf</td>\n",
       "    </tr>\n",
       "    <tr>\n",
       "      <th>2</th>\n",
       "      <td>47</td>\n",
       "      <td>Sustainability</td>\n",
       "      <td>cf</td>\n",
       "    </tr>\n",
       "    <tr>\n",
       "      <th>3</th>\n",
       "      <td>26</td>\n",
       "      <td>Innovation</td>\n",
       "      <td>cf</td>\n",
       "    </tr>\n",
       "    <tr>\n",
       "      <th>4</th>\n",
       "      <td>36</td>\n",
       "      <td>Project Management</td>\n",
       "      <td>cf uc: 1</td>\n",
       "    </tr>\n",
       "  </tbody>\n",
       "</table>\n",
       "</div>"
      ],
      "text/plain": [
       "   id                name change_field\n",
       "0  27      Internal Audit           cf\n",
       "1  34         Procurement           cf\n",
       "2  47      Sustainability           cf\n",
       "3  26          Innovation           cf\n",
       "4  36  Project Management     cf uc: 1"
      ]
     },
     "execution_count": 124,
     "metadata": {},
     "output_type": "execute_result"
    }
   ],
   "source": [
    "INIT_DEPARTMENT_COUNT = 5\n",
    "\n",
    "df_init = df_md_department.sample(INIT_DEPARTMENT_COUNT)\n",
    "if not tbl_db_datev_department.is_existing:\n",
    "    \n",
    "    tbl_db_datev_department.save(df_init)\n",
    "\n",
    "\n",
    "df_db_datev_department = tbl_db_datev_department.read()\n",
    "df_db_datev_department.head()"
   ]
  },
  {
   "cell_type": "markdown",
   "metadata": {},
   "source": [
    "#### Update Records"
   ]
  },
  {
   "cell_type": "code",
   "execution_count": 126,
   "metadata": {},
   "outputs": [
    {
     "name": "stdout",
     "output_type": "stream",
     "text": [
      "Updated Records (nrows=2):\n"
     ]
    },
    {
     "data": {
      "text/html": [
       "<div>\n",
       "<style scoped>\n",
       "    .dataframe tbody tr th:only-of-type {\n",
       "        vertical-align: middle;\n",
       "    }\n",
       "\n",
       "    .dataframe tbody tr th {\n",
       "        vertical-align: top;\n",
       "    }\n",
       "\n",
       "    .dataframe thead th {\n",
       "        text-align: right;\n",
       "    }\n",
       "</style>\n",
       "<table border=\"1\" class=\"dataframe\">\n",
       "  <thead>\n",
       "    <tr style=\"text-align: right;\">\n",
       "      <th></th>\n",
       "      <th>id</th>\n",
       "      <th>name</th>\n",
       "      <th>change_field</th>\n",
       "    </tr>\n",
       "  </thead>\n",
       "  <tbody>\n",
       "    <tr>\n",
       "      <th>0</th>\n",
       "      <td>27</td>\n",
       "      <td>Internal Audit</td>\n",
       "      <td>cf uc: 1</td>\n",
       "    </tr>\n",
       "    <tr>\n",
       "      <th>1</th>\n",
       "      <td>34</td>\n",
       "      <td>Procurement</td>\n",
       "      <td>cf uc: 1</td>\n",
       "    </tr>\n",
       "  </tbody>\n",
       "</table>\n",
       "</div>"
      ],
      "text/plain": [
       "   id            name change_field\n",
       "0  27  Internal Audit     cf uc: 1\n",
       "1  34     Procurement     cf uc: 1"
      ]
     },
     "metadata": {},
     "output_type": "display_data"
    },
    {
     "name": "stdout",
     "output_type": "stream",
     "text": [
      "[2023-12-20 11:05:30.] TABLE successfully saved at: ./datev.dbo.department.csv (SHAPE: (7, 3))\n"
     ]
    }
   ],
   "source": [
    "update_record_count = random.choice(range(0, 4))\n",
    "\n",
    "df_db_datev_department = pd_update_rows(\n",
    "    df=df_db_datev_department,\n",
    "    nrows=update_record_count\n",
    ")\n",
    "\n",
    "tbl_db_datev_department.save(df_db_datev_department)"
   ]
  },
  {
   "cell_type": "markdown",
   "metadata": {},
   "source": [
    "#### Add Records"
   ]
  },
  {
   "cell_type": "code",
   "execution_count": 125,
   "metadata": {},
   "outputs": [
    {
     "name": "stdout",
     "output_type": "stream",
     "text": [
      "New Records (nrows=1):\n"
     ]
    },
    {
     "data": {
      "text/html": [
       "<div>\n",
       "<style scoped>\n",
       "    .dataframe tbody tr th:only-of-type {\n",
       "        vertical-align: middle;\n",
       "    }\n",
       "\n",
       "    .dataframe tbody tr th {\n",
       "        vertical-align: top;\n",
       "    }\n",
       "\n",
       "    .dataframe thead th {\n",
       "        text-align: right;\n",
       "    }\n",
       "</style>\n",
       "<table border=\"1\" class=\"dataframe\">\n",
       "  <thead>\n",
       "    <tr style=\"text-align: right;\">\n",
       "      <th></th>\n",
       "      <th>id</th>\n",
       "      <th>name</th>\n",
       "      <th>change_field</th>\n",
       "    </tr>\n",
       "  </thead>\n",
       "  <tbody>\n",
       "    <tr>\n",
       "      <th>22</th>\n",
       "      <td>23</td>\n",
       "      <td>Human Resources</td>\n",
       "      <td>cf</td>\n",
       "    </tr>\n",
       "  </tbody>\n",
       "</table>\n",
       "</div>"
      ],
      "text/plain": [
       "    id             name change_field\n",
       "22  23  Human Resources           cf"
      ]
     },
     "metadata": {},
     "output_type": "display_data"
    },
    {
     "name": "stdout",
     "output_type": "stream",
     "text": [
      "[2023-12-20 11:05:30.] TABLE successfully saved at: ./datev.dbo.department.csv (SHAPE: (7, 3))\n"
     ]
    }
   ],
   "source": [
    "add_record_count = random.choice(range(0, 2)) if ADD_RECORDS_THIS_RUN else 0\n",
    "\n",
    "df_db_datev_department = pd_add_rows(\n",
    "    df=df_db_datev_department,\n",
    "    df_md=df_md_department,\n",
    "    nrows=add_record_count\n",
    ")\n",
    "\n",
    "tbl_db_datev_department.save(df_db_datev_department)"
   ]
  },
  {
   "cell_type": "markdown",
   "metadata": {},
   "source": [
    "### dbo.costcenter"
   ]
  },
  {
   "cell_type": "markdown",
   "metadata": {},
   "source": [
    "#### Create if not existing"
   ]
  },
  {
   "cell_type": "code",
   "execution_count": 127,
   "metadata": {},
   "outputs": [
    {
     "data": {
      "text/html": [
       "<div>\n",
       "<style scoped>\n",
       "    .dataframe tbody tr th:only-of-type {\n",
       "        vertical-align: middle;\n",
       "    }\n",
       "\n",
       "    .dataframe tbody tr th {\n",
       "        vertical-align: top;\n",
       "    }\n",
       "\n",
       "    .dataframe thead th {\n",
       "        text-align: right;\n",
       "    }\n",
       "</style>\n",
       "<table border=\"1\" class=\"dataframe\">\n",
       "  <thead>\n",
       "    <tr style=\"text-align: right;\">\n",
       "      <th></th>\n",
       "      <th>id</th>\n",
       "      <th>buKr</th>\n",
       "      <th>costcenter_short</th>\n",
       "      <th>name</th>\n",
       "      <th>change_field</th>\n",
       "    </tr>\n",
       "  </thead>\n",
       "  <tbody>\n",
       "    <tr>\n",
       "      <th>0</th>\n",
       "      <td>1</td>\n",
       "      <td>1735</td>\n",
       "      <td>10000</td>\n",
       "      <td>KSTNAME1</td>\n",
       "      <td>cf</td>\n",
       "    </tr>\n",
       "    <tr>\n",
       "      <th>1</th>\n",
       "      <td>2</td>\n",
       "      <td>1735</td>\n",
       "      <td>10550</td>\n",
       "      <td>KSTNAME2</td>\n",
       "      <td>cf</td>\n",
       "    </tr>\n",
       "    <tr>\n",
       "      <th>2</th>\n",
       "      <td>3</td>\n",
       "      <td>1735</td>\n",
       "      <td>11100</td>\n",
       "      <td>KSTNAME3</td>\n",
       "      <td>cf</td>\n",
       "    </tr>\n",
       "    <tr>\n",
       "      <th>3</th>\n",
       "      <td>4</td>\n",
       "      <td>1735</td>\n",
       "      <td>11650</td>\n",
       "      <td>KSTNAME4</td>\n",
       "      <td>cf</td>\n",
       "    </tr>\n",
       "    <tr>\n",
       "      <th>4</th>\n",
       "      <td>5</td>\n",
       "      <td>1735</td>\n",
       "      <td>12200</td>\n",
       "      <td>KSTNAME5</td>\n",
       "      <td>cf</td>\n",
       "    </tr>\n",
       "    <tr>\n",
       "      <th>...</th>\n",
       "      <td>...</td>\n",
       "      <td>...</td>\n",
       "      <td>...</td>\n",
       "      <td>...</td>\n",
       "      <td>...</td>\n",
       "    </tr>\n",
       "    <tr>\n",
       "      <th>2185</th>\n",
       "      <td>2186</td>\n",
       "      <td>1749</td>\n",
       "      <td>87550</td>\n",
       "      <td>KSTNAME2186</td>\n",
       "      <td>cf</td>\n",
       "    </tr>\n",
       "    <tr>\n",
       "      <th>2186</th>\n",
       "      <td>2187</td>\n",
       "      <td>1749</td>\n",
       "      <td>88100</td>\n",
       "      <td>KSTNAME2187</td>\n",
       "      <td>cf</td>\n",
       "    </tr>\n",
       "    <tr>\n",
       "      <th>2187</th>\n",
       "      <td>2188</td>\n",
       "      <td>1749</td>\n",
       "      <td>88650</td>\n",
       "      <td>KSTNAME2188</td>\n",
       "      <td>cf</td>\n",
       "    </tr>\n",
       "    <tr>\n",
       "      <th>2188</th>\n",
       "      <td>2189</td>\n",
       "      <td>1749</td>\n",
       "      <td>89200</td>\n",
       "      <td>KSTNAME2189</td>\n",
       "      <td>cf</td>\n",
       "    </tr>\n",
       "    <tr>\n",
       "      <th>2189</th>\n",
       "      <td>2190</td>\n",
       "      <td>1749</td>\n",
       "      <td>89750</td>\n",
       "      <td>KSTNAME2190</td>\n",
       "      <td>cf</td>\n",
       "    </tr>\n",
       "  </tbody>\n",
       "</table>\n",
       "<p>2190 rows × 5 columns</p>\n",
       "</div>"
      ],
      "text/plain": [
       "        id  buKr  costcenter_short         name change_field\n",
       "0        1  1735             10000     KSTNAME1           cf\n",
       "1        2  1735             10550     KSTNAME2           cf\n",
       "2        3  1735             11100     KSTNAME3           cf\n",
       "3        4  1735             11650     KSTNAME4           cf\n",
       "4        5  1735             12200     KSTNAME5           cf\n",
       "...    ...   ...               ...          ...          ...\n",
       "2185  2186  1749             87550  KSTNAME2186           cf\n",
       "2186  2187  1749             88100  KSTNAME2187           cf\n",
       "2187  2188  1749             88650  KSTNAME2188           cf\n",
       "2188  2189  1749             89200  KSTNAME2189           cf\n",
       "2189  2190  1749             89750  KSTNAME2190           cf\n",
       "\n",
       "[2190 rows x 5 columns]"
      ]
     },
     "execution_count": 127,
     "metadata": {},
     "output_type": "execute_result"
    }
   ],
   "source": [
    "df_md_costcenter"
   ]
  },
  {
   "cell_type": "code",
   "execution_count": null,
   "metadata": {},
   "outputs": [],
   "source": [
    "INIT_CLIENTS_COUNT = 10\n",
    "\n",
    "df_init = df_md_clients.sample(INIT_CLIENTS_COUNT)\n",
    "if not tbl_db_datev_clients.is_existing:\n",
    "    tbl_db_datev_clients.save(df_init)\n",
    "\n",
    "\n",
    "df_db_datev_clients = tbl_db_datev_clients.read()\n",
    "df_db_datev_clients.head()"
   ]
  },
  {
   "cell_type": "markdown",
   "metadata": {},
   "source": [
    "#### Update Records"
   ]
  },
  {
   "cell_type": "markdown",
   "metadata": {},
   "source": [
    "#### Add Records"
   ]
  },
  {
   "cell_type": "markdown",
   "metadata": {},
   "source": [
    "### dbo.paytype [Frozen Master Data Table]"
   ]
  },
  {
   "cell_type": "markdown",
   "metadata": {},
   "source": [
    "#### Create if not existing"
   ]
  },
  {
   "cell_type": "markdown",
   "metadata": {},
   "source": [
    "### dbo.employee_pay [Transaction Table]"
   ]
  },
  {
   "cell_type": "markdown",
   "metadata": {},
   "source": [
    "#### Create if not existing"
   ]
  },
  {
   "cell_type": "markdown",
   "metadata": {},
   "source": [
    "#### Update Records"
   ]
  },
  {
   "cell_type": "markdown",
   "metadata": {},
   "source": [
    "#### Add Records"
   ]
  },
  {
   "cell_type": "markdown",
   "metadata": {},
   "source": [
    "#### Delete Records"
   ]
  }
 ],
 "metadata": {
  "kernelspec": {
   "display_name": "venv",
   "language": "python",
   "name": "python3"
  },
  "language_info": {
   "codemirror_mode": {
    "name": "ipython",
    "version": 3
   },
   "file_extension": ".py",
   "mimetype": "text/x-python",
   "name": "python",
   "nbconvert_exporter": "python",
   "pygments_lexer": "ipython3",
   "version": "3.11.4"
  }
 },
 "nbformat": 4,
 "nbformat_minor": 2
}
