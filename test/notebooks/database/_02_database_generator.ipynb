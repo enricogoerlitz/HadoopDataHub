{
 "cells": [
  {
   "cell_type": "markdown",
   "metadata": {},
   "source": [
    "# Notebook for generating"
   ]
  },
  {
   "cell_type": "markdown",
   "metadata": {},
   "source": [
    "# Import"
   ]
  },
  {
   "cell_type": "code",
   "execution_count": 185,
   "metadata": {},
   "outputs": [],
   "source": [
    "import os\n",
    "import random\n",
    "import pandas as pd\n",
    "\n",
    "from datetime import datetime\n",
    "from dataclasses import dataclass"
   ]
  },
  {
   "cell_type": "markdown",
   "metadata": {},
   "source": [
    "# Settings & Utils"
   ]
  },
  {
   "cell_type": "markdown",
   "metadata": {},
   "source": [
    "## Constants & Helper"
   ]
  },
  {
   "cell_type": "code",
   "execution_count": 186,
   "metadata": {},
   "outputs": [],
   "source": [
    "ADD_RECORDS_THIS_RUN = True\n",
    "UPDATE_RECORDS_THIS_RUN = True\n",
    "DELETE_RECORDS_THIS_RUN = True"
   ]
  },
  {
   "cell_type": "code",
   "execution_count": 187,
   "metadata": {},
   "outputs": [],
   "source": [
    "# DATE = get minumum date from data and use +1 Month  ||  default datetime(2015, 1, 1)\n",
    "SEPERATOR = \"|\"\n",
    "UPDATE_MASTERDATA = False\n",
    "UPDATE_TRANSACTIONAL_DATA = False\n",
    "\n",
    "TBL_EMPLOYEE = \"employee\"\n",
    "TBL_CLIENTS = \"clients\"\n",
    "TBL_BUSINESSPARTNER = \"businesspartner\"\n",
    "TBL_COSTCENTER = \"costcenter\"\n",
    "TBL_DEPARTMENT = \"department\"\n",
    "TBL_TASK = \"task\"\n",
    "TBL_PROJECT = \"project\"\n",
    "\n",
    "TBL_USERS = \"users\"\n",
    "TBL_PROJECT = \"project\"\n",
    "TBL_PROJECTTIME = \"projecttime\"\n",
    "TBL_PAY_TYPE = \"pay_type\"\n",
    "TBL_EMPLOYEE_PAY = \"employee_pay\"\n",
    "\n",
    "DB_ATOSS = \"atoss\"\n",
    "DB_PCT = \"pct\"\n",
    "DB_DATEV = \"datev\"\n",
    "\n",
    "SCHEMA_DBO = \"dbo\"\n",
    "SCHEMA_MDM = \"mdm\""
   ]
  },
  {
   "cell_type": "code",
   "execution_count": 188,
   "metadata": {},
   "outputs": [],
   "source": [
    "@dataclass(frozen=True)\n",
    "class MdTable:\n",
    "    tablename: str\n",
    "\n",
    "    @property\n",
    "    def tablepath(self) -> str:\n",
    "        return f\"./_md_{self.tablename}.csv\"\n",
    "    \n",
    "    def read(self, sep: str = SEPERATOR, **kwargs) -> pd.DataFrame:\n",
    "        return pd.read_csv(self.tablepath, sep=sep, **kwargs)\n",
    "\n",
    "\n",
    "@dataclass(frozen=True)\n",
    "class DbTable:\n",
    "    db: str\n",
    "    schema: str\n",
    "    tablename: str\n",
    "\n",
    "    @property\n",
    "    def tablepath(self) -> str:\n",
    "        return f\"./{self.db}.{self.schema}.{self.tablename}.csv\"\n",
    "    \n",
    "    @property\n",
    "    def is_existing(self):\n",
    "        return os.path.exists(self.tablepath)\n",
    "    \n",
    "    def save(self, df: pd.DataFrame, sep: str = SEPERATOR) -> None:\n",
    "        df.to_csv(self.tablepath, sep=SEPERATOR, index=False, encoding=\"UTF-8\")\n",
    "        print(f\"[{str(datetime.now())[:10]}] TABLE successfully saved at: {self.tablepath}\")\n",
    "        \n",
    "    def read(self, sep: str = SEPERATOR, **kwargs) -> pd.DataFrame:\n",
    "        return pd.read_csv(self.tablepath, sep=sep, **kwargs)\n",
    "\n",
    "\n",
    "def fn_update_count(row: str) -> str:\n",
    "    split_str = \" uc: \"\n",
    "    if split_str in row:\n",
    "        value, uc = row.split(split_str)\n",
    "        uc = int(uc) + 1\n",
    "        return f\"{value} uc: {uc}\"\n",
    "    return f\"{row} uc: 1\""
   ]
  },
  {
   "cell_type": "code",
   "execution_count": 218,
   "metadata": {},
   "outputs": [],
   "source": [
    "def pd_add_rows(*, df: pd.DataFrame, df_md: pd.DataFrame, nrows: int) -> pd.DataFrame:\n",
    "    df_new_records = df_md[~df_md[\"id\"].isin(df[\"id\"])].sample(nrows)\n",
    "    return pd.concat([df, df_new_records], axis=0).reset_index(drop=True)\n",
    "\n",
    "\n",
    "def pd_update_rows(*, df: pd.DataFrame, column: str, nrows: int) -> pd.DataFrame:\n",
    "    update_ids = list(df.sample(nrows)[\"id\"])\n",
    "    update_filter = df[\"id\"].isin(update_ids)\n",
    "\n",
    "    df.loc[update_filter, \"address\"] = df.loc[update_filter, column] \\\n",
    "                                            .apply(fn_update_count)\n",
    "    return df\n",
    "\n",
    "\n",
    "def pd_delete_rows(*, df: pd.DataFrame, nrows: int) -> pd.DataFrame:\n",
    "    delete_ids = list(df.sample(nrows)[\"id\"])\n",
    "    delete_filter = df[\"id\"].isin(delete_ids)\n",
    "\n",
    "    df = df[~delete_filter].reset_index(drop=True)\n",
    "    return df"
   ]
  },
  {
   "cell_type": "markdown",
   "metadata": {},
   "source": [
    "## Table Setup"
   ]
  },
  {
   "cell_type": "markdown",
   "metadata": {},
   "source": [
    "### MasterData Tables"
   ]
  },
  {
   "cell_type": "code",
   "execution_count": 190,
   "metadata": {},
   "outputs": [
    {
     "data": {
      "text/plain": [
       "MdTable(tablename='employee')"
      ]
     },
     "metadata": {},
     "output_type": "display_data"
    },
    {
     "data": {
      "text/plain": [
       "MdTable(tablename='clients')"
      ]
     },
     "metadata": {},
     "output_type": "display_data"
    },
    {
     "data": {
      "text/plain": [
       "MdTable(tablename='businesspartner')"
      ]
     },
     "metadata": {},
     "output_type": "display_data"
    },
    {
     "data": {
      "text/plain": [
       "MdTable(tablename='costcenter')"
      ]
     },
     "metadata": {},
     "output_type": "display_data"
    },
    {
     "data": {
      "text/plain": [
       "MdTable(tablename='department')"
      ]
     },
     "metadata": {},
     "output_type": "display_data"
    },
    {
     "data": {
      "text/plain": [
       "MdTable(tablename='project')"
      ]
     },
     "metadata": {},
     "output_type": "display_data"
    },
    {
     "data": {
      "text/plain": [
       "MdTable(tablename='task')"
      ]
     },
     "metadata": {},
     "output_type": "display_data"
    }
   ],
   "source": [
    "tbl_md_employee = MdTable(TBL_EMPLOYEE)\n",
    "tbl_md_clients = MdTable(TBL_CLIENTS)\n",
    "tbl_md_businesspartner = MdTable(TBL_BUSINESSPARTNER)\n",
    "tbl_md_costcenter = MdTable(TBL_COSTCENTER)\n",
    "tbl_md_department = MdTable(TBL_DEPARTMENT)\n",
    "tbl_md_project = MdTable(TBL_PROJECT)\n",
    "tbl_md_task = MdTable(TBL_TASK)\n",
    "\n",
    "display(\n",
    "    tbl_md_employee,\n",
    "    tbl_md_clients,\n",
    "    tbl_md_businesspartner,\n",
    "    tbl_md_costcenter,\n",
    "    tbl_md_department,\n",
    "    tbl_md_project,\n",
    "    tbl_md_task\n",
    ")"
   ]
  },
  {
   "cell_type": "code",
   "execution_count": 191,
   "metadata": {},
   "outputs": [],
   "source": [
    "df_md_employee = tbl_md_employee.read(parse_dates=[\"leave_date\"])\n",
    "df_md_clients = tbl_md_clients.read()\n",
    "df_md_businesspartner = tbl_md_businesspartner.read()\n",
    "df_md_costcenter = tbl_md_costcenter.read()\n",
    "df_md_department = tbl_md_department.read()\n",
    "df_md_project = tbl_md_project.read()\n",
    "df_md_task = tbl_md_task.read()"
   ]
  },
  {
   "cell_type": "markdown",
   "metadata": {},
   "source": [
    "### DB Tables"
   ]
  },
  {
   "cell_type": "code",
   "execution_count": 192,
   "metadata": {},
   "outputs": [
    {
     "data": {
      "text/plain": [
       "DbTable(db='atoss', schema='dbo', tablename='employee')"
      ]
     },
     "metadata": {},
     "output_type": "display_data"
    },
    {
     "data": {
      "text/plain": [
       "DbTable(db='atoss', schema='dbo', tablename='clients')"
      ]
     },
     "metadata": {},
     "output_type": "display_data"
    },
    {
     "data": {
      "text/plain": [
       "DbTable(db='atoss', schema='dbo', tablename='department')"
      ]
     },
     "metadata": {},
     "output_type": "display_data"
    },
    {
     "data": {
      "text/plain": [
       "DbTable(db='atoss', schema='dbo', tablename='costcenter')"
      ]
     },
     "metadata": {},
     "output_type": "display_data"
    },
    {
     "data": {
      "text/plain": [
       "DbTable(db='pct', schema='dbo', tablename='users')"
      ]
     },
     "metadata": {},
     "output_type": "display_data"
    },
    {
     "data": {
      "text/plain": [
       "DbTable(db='pct', schema='dbo', tablename='project')"
      ]
     },
     "metadata": {},
     "output_type": "display_data"
    },
    {
     "data": {
      "text/plain": [
       "DbTable(db='pct', schema='dbo', tablename='department')"
      ]
     },
     "metadata": {},
     "output_type": "display_data"
    },
    {
     "data": {
      "text/plain": [
       "DbTable(db='pct', schema='dbo', tablename='task')"
      ]
     },
     "metadata": {},
     "output_type": "display_data"
    },
    {
     "data": {
      "text/plain": [
       "DbTable(db='pct', schema='dbo', tablename='businesspartner')"
      ]
     },
     "metadata": {},
     "output_type": "display_data"
    },
    {
     "data": {
      "text/plain": [
       "DbTable(db='pct', schema='dbo', tablename='projecttime')"
      ]
     },
     "metadata": {},
     "output_type": "display_data"
    },
    {
     "data": {
      "text/plain": [
       "DbTable(db='pct', schema='mdm', tablename='employee')"
      ]
     },
     "metadata": {},
     "output_type": "display_data"
    },
    {
     "data": {
      "text/plain": [
       "DbTable(db='datev', schema='dbo', tablename='employee')"
      ]
     },
     "metadata": {},
     "output_type": "display_data"
    },
    {
     "data": {
      "text/plain": [
       "DbTable(db='datev', schema='dbo', tablename='clients')"
      ]
     },
     "metadata": {},
     "output_type": "display_data"
    },
    {
     "data": {
      "text/plain": [
       "DbTable(db='datev', schema='dbo', tablename='department')"
      ]
     },
     "metadata": {},
     "output_type": "display_data"
    },
    {
     "data": {
      "text/plain": [
       "DbTable(db='datev', schema='dbo', tablename='costcenter')"
      ]
     },
     "metadata": {},
     "output_type": "display_data"
    },
    {
     "data": {
      "text/plain": [
       "DbTable(db='datev', schema='dbo', tablename='pay_type')"
      ]
     },
     "metadata": {},
     "output_type": "display_data"
    },
    {
     "data": {
      "text/plain": [
       "DbTable(db='datev', schema='dbo', tablename='employee_pay')"
      ]
     },
     "metadata": {},
     "output_type": "display_data"
    }
   ],
   "source": [
    "tbl_db_atoss_employee = DbTable(DB_ATOSS, SCHEMA_DBO, TBL_EMPLOYEE)\n",
    "tbl_db_atoss_clients = DbTable(DB_ATOSS, SCHEMA_DBO, TBL_CLIENTS)\n",
    "tbl_db_atoss_department = DbTable(DB_ATOSS, SCHEMA_DBO, TBL_DEPARTMENT)\n",
    "tbl_db_atoss_costcenter = DbTable(DB_ATOSS, SCHEMA_DBO, TBL_COSTCENTER)\n",
    "\n",
    "tbl_db_pct_users = DbTable(DB_PCT, SCHEMA_DBO, TBL_USERS)\n",
    "tbl_db_pct_project = DbTable(DB_PCT, SCHEMA_DBO, TBL_PROJECT)\n",
    "tbl_db_pct_department = DbTable(DB_PCT, SCHEMA_DBO, TBL_DEPARTMENT)\n",
    "tbl_db_pct_task = DbTable(DB_PCT, SCHEMA_DBO, TBL_TASK)\n",
    "tbl_db_pct_businesspartner = DbTable(DB_PCT, SCHEMA_DBO, TBL_BUSINESSPARTNER)\n",
    "tbl_db_pct_projecttime = DbTable(DB_PCT, SCHEMA_DBO, TBL_PROJECTTIME)\n",
    "tbl_db_pct_employee_mdm = DbTable(DB_PCT, SCHEMA_MDM, TBL_EMPLOYEE)\n",
    "\n",
    "tbl_db_datev_employee = DbTable(DB_DATEV, SCHEMA_DBO, TBL_EMPLOYEE)\n",
    "tbl_db_datev_clients = DbTable(DB_DATEV, SCHEMA_DBO, TBL_CLIENTS)\n",
    "tbl_db_datev_department = DbTable(DB_DATEV, SCHEMA_DBO, TBL_DEPARTMENT)\n",
    "tbl_db_datev_costcenter = DbTable(DB_DATEV, SCHEMA_DBO, TBL_COSTCENTER)\n",
    "tbl_db_datev_pay_type = DbTable(DB_DATEV, SCHEMA_DBO, TBL_PAY_TYPE)\n",
    "tbl_db_datev_employee_pay = DbTable(DB_DATEV, SCHEMA_DBO, TBL_EMPLOYEE_PAY)\n",
    "\n",
    "display(\n",
    "    tbl_db_atoss_employee,\n",
    "    tbl_db_atoss_clients,\n",
    "    tbl_db_atoss_department,\n",
    "    tbl_db_atoss_costcenter,\n",
    "    tbl_db_pct_users,\n",
    "    tbl_db_pct_project,\n",
    "    tbl_db_pct_department,\n",
    "    tbl_db_pct_task,\n",
    "    tbl_db_pct_businesspartner,\n",
    "    tbl_db_pct_projecttime,\n",
    "    tbl_db_pct_employee_mdm,\n",
    "    tbl_db_datev_employee,\n",
    "    tbl_db_datev_clients,\n",
    "    tbl_db_datev_department,\n",
    "    tbl_db_datev_costcenter,\n",
    "    tbl_db_datev_pay_type,\n",
    "    tbl_db_datev_employee_pay\n",
    ")"
   ]
  },
  {
   "cell_type": "markdown",
   "metadata": {},
   "source": [
    "# Generate or Update databasefiles"
   ]
  },
  {
   "cell_type": "markdown",
   "metadata": {},
   "source": [
    "## HR-System - atoss"
   ]
  },
  {
   "cell_type": "markdown",
   "metadata": {},
   "source": [
    "### dbo.clients"
   ]
  },
  {
   "cell_type": "markdown",
   "metadata": {},
   "source": [
    "#### Create if not existing"
   ]
  },
  {
   "cell_type": "code",
   "execution_count": 193,
   "metadata": {},
   "outputs": [],
   "source": [
    "INIT_CLIENTS_COUNT = 5"
   ]
  },
  {
   "cell_type": "code",
   "execution_count": 194,
   "metadata": {},
   "outputs": [
    {
     "data": {
      "text/html": [
       "<div>\n",
       "<style scoped>\n",
       "    .dataframe tbody tr th:only-of-type {\n",
       "        vertical-align: middle;\n",
       "    }\n",
       "\n",
       "    .dataframe tbody tr th {\n",
       "        vertical-align: top;\n",
       "    }\n",
       "\n",
       "    .dataframe thead th {\n",
       "        text-align: right;\n",
       "    }\n",
       "</style>\n",
       "<table border=\"1\" class=\"dataframe\">\n",
       "  <thead>\n",
       "    <tr style=\"text-align: right;\">\n",
       "      <th></th>\n",
       "      <th>id</th>\n",
       "      <th>name</th>\n",
       "      <th>address</th>\n",
       "    </tr>\n",
       "  </thead>\n",
       "  <tbody>\n",
       "    <tr>\n",
       "      <th>0</th>\n",
       "      <td>65</td>\n",
       "      <td>Psi Ventures AG</td>\n",
       "      <td>Musterstraße 65, 10171 Berlin</td>\n",
       "    </tr>\n",
       "    <tr>\n",
       "      <th>1</th>\n",
       "      <td>13</td>\n",
       "      <td>Dawn Innovations AG</td>\n",
       "      <td>Musterstraße 13, 10119 Berlin</td>\n",
       "    </tr>\n",
       "    <tr>\n",
       "      <th>2</th>\n",
       "      <td>74</td>\n",
       "      <td>Solar Corporation GmbH</td>\n",
       "      <td>Musterstraße 74, 10180 Berlin</td>\n",
       "    </tr>\n",
       "    <tr>\n",
       "      <th>3</th>\n",
       "      <td>66</td>\n",
       "      <td>Quantum Consulting SE</td>\n",
       "      <td>Musterstraße 66, 10172 Berlin</td>\n",
       "    </tr>\n",
       "    <tr>\n",
       "      <th>4</th>\n",
       "      <td>97</td>\n",
       "      <td>Zen Innovations SE</td>\n",
       "      <td>Musterstraße 97, 10203 Berlin</td>\n",
       "    </tr>\n",
       "  </tbody>\n",
       "</table>\n",
       "</div>"
      ],
      "text/plain": [
       "   id                    name                        address\n",
       "0  65         Psi Ventures AG  Musterstraße 65, 10171 Berlin\n",
       "1  13     Dawn Innovations AG  Musterstraße 13, 10119 Berlin\n",
       "2  74  Solar Corporation GmbH  Musterstraße 74, 10180 Berlin\n",
       "3  66   Quantum Consulting SE  Musterstraße 66, 10172 Berlin\n",
       "4  97      Zen Innovations SE  Musterstraße 97, 10203 Berlin"
      ]
     },
     "execution_count": 194,
     "metadata": {},
     "output_type": "execute_result"
    }
   ],
   "source": [
    "if not tbl_db_atoss_clients.is_existing:\n",
    "    df_init = df_md_clients.sample(INIT_CLIENTS_COUNT)\n",
    "    tbl_db_atoss_clients.save(df_init)\n",
    "\n",
    "df_db_atoss_clients = tbl_db_atoss_clients.read()\n",
    "df_db_atoss_clients.head()"
   ]
  },
  {
   "cell_type": "markdown",
   "metadata": {},
   "source": [
    "#### Add Records"
   ]
  },
  {
   "cell_type": "code",
   "execution_count": 220,
   "metadata": {},
   "outputs": [
    {
     "data": {
      "text/plain": [
       "0"
      ]
     },
     "execution_count": 220,
     "metadata": {},
     "output_type": "execute_result"
    }
   ],
   "source": [
    "ADD_RECORD_COUNT = random.choice(range(0, 2)) if ADD_RECORDS_THIS_RUN else 0\n",
    "ADD_RECORD_COUNT"
   ]
  },
  {
   "cell_type": "code",
   "execution_count": 221,
   "metadata": {},
   "outputs": [
    {
     "name": "stdout",
     "output_type": "stream",
     "text": [
      "[2023-12-20] TABLE successfuly saved at: ./atoss.dbo.clients.csv\n"
     ]
    },
    {
     "data": {
      "text/html": [
       "<div>\n",
       "<style scoped>\n",
       "    .dataframe tbody tr th:only-of-type {\n",
       "        vertical-align: middle;\n",
       "    }\n",
       "\n",
       "    .dataframe tbody tr th {\n",
       "        vertical-align: top;\n",
       "    }\n",
       "\n",
       "    .dataframe thead th {\n",
       "        text-align: right;\n",
       "    }\n",
       "</style>\n",
       "<table border=\"1\" class=\"dataframe\">\n",
       "  <thead>\n",
       "    <tr style=\"text-align: right;\">\n",
       "      <th></th>\n",
       "      <th>id</th>\n",
       "      <th>name</th>\n",
       "      <th>address</th>\n",
       "    </tr>\n",
       "  </thead>\n",
       "  <tbody>\n",
       "  </tbody>\n",
       "</table>\n",
       "</div>"
      ],
      "text/plain": [
       "Empty DataFrame\n",
       "Columns: [id, name, address]\n",
       "Index: []"
      ]
     },
     "execution_count": 221,
     "metadata": {},
     "output_type": "execute_result"
    }
   ],
   "source": [
    "df_db_atoss_clients = pd_add_rows(\n",
    "    df=df_db_atoss_clients,\n",
    "    df_md=df_md_clients,\n",
    "    nrows=ADD_RECORD_COUNT\n",
    ")\n",
    "tbl_db_atoss_clients.save(df_db_atoss_clients)\n",
    "tbl_db_atoss_clients.read().tail(ADD_RECORD_COUNT)  # TODO: drop this -> to function!\n",
    "# TODO: Display the added row (in function)"
   ]
  },
  {
   "cell_type": "markdown",
   "metadata": {},
   "source": [
    "#### Update Records"
   ]
  },
  {
   "cell_type": "code",
   "execution_count": 211,
   "metadata": {},
   "outputs": [
    {
     "data": {
      "text/plain": [
       "1"
      ]
     },
     "execution_count": 211,
     "metadata": {},
     "output_type": "execute_result"
    }
   ],
   "source": [
    "UPDATE_RECORD_COUNT = random.choice(range(0, 4))\n",
    "UPDATE_RECORD_COUNT"
   ]
  },
  {
   "cell_type": "code",
   "execution_count": 232,
   "metadata": {},
   "outputs": [
    {
     "name": "stdout",
     "output_type": "stream",
     "text": [
      "[2023-12-20] TABLE successfuly saved at: ./atoss.dbo.clients.csv\n"
     ]
    }
   ],
   "source": [
    "df_db_atoss_clients = pd_update_rows(\n",
    "    df=df_db_atoss_clients,\n",
    "    column=\"address\",\n",
    "    nrows=UPDATE_RECORD_COUNT\n",
    ")\n",
    "tbl_db_atoss_clients.save(df_db_atoss_clients)\n",
    "# TODO: Display the updated row (in function)"
   ]
  },
  {
   "cell_type": "markdown",
   "metadata": {},
   "source": [
    "#### Delete Records"
   ]
  },
  {
   "cell_type": "code",
   "execution_count": 154,
   "metadata": {},
   "outputs": [
    {
     "data": {
      "text/plain": [
       "1"
      ]
     },
     "execution_count": 154,
     "metadata": {},
     "output_type": "execute_result"
    }
   ],
   "source": [
    "DELETE_RECORD_COUNT = random.choice(range(0, 2))\n",
    "DELETE_RECORD_COUNT"
   ]
  },
  {
   "cell_type": "code",
   "execution_count": 226,
   "metadata": {},
   "outputs": [
    {
     "name": "stdout",
     "output_type": "stream",
     "text": [
      "[2023-12-20] TABLE successfuly saved at: ./atoss.dbo.clients.csv\n"
     ]
    }
   ],
   "source": [
    "df_db_atoss_clients = pd_delete_rows(\n",
    "    df=df_db_atoss_clients,\n",
    "    nrows=DELETE_RECORD_COUNT\n",
    ")\n",
    "tbl_db_atoss_clients.save(df_db_atoss_clients)\n",
    "# TODO: Display the deleted row (in function)"
   ]
  }
 ],
 "metadata": {
  "kernelspec": {
   "display_name": "venv",
   "language": "python",
   "name": "python3"
  },
  "language_info": {
   "codemirror_mode": {
    "name": "ipython",
    "version": 3
   },
   "file_extension": ".py",
   "mimetype": "text/x-python",
   "name": "python",
   "nbconvert_exporter": "python",
   "pygments_lexer": "ipython3",
   "version": "3.11.4"
  }
 },
 "nbformat": 4,
 "nbformat_minor": 2
}
