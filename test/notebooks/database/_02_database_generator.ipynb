{
 "cells": [
  {
   "cell_type": "markdown",
   "metadata": {},
   "source": [
    "# Notebook for generating"
   ]
  },
  {
   "cell_type": "markdown",
   "metadata": {},
   "source": [
    "# Import"
   ]
  },
  {
   "cell_type": "code",
   "execution_count": 117,
   "metadata": {},
   "outputs": [],
   "source": [
    "import os\n",
    "import random\n",
    "import calendar\n",
    "import pandas as pd\n",
    "import numpy as np\n",
    "\n",
    "from datetime import datetime, timedelta\n",
    "from dataclasses import dataclass\n",
    "from typing import Literal\n",
    "from IPython.display import display"
   ]
  },
  {
   "cell_type": "markdown",
   "metadata": {},
   "source": [
    "# Settings & Utils"
   ]
  },
  {
   "cell_type": "markdown",
   "metadata": {},
   "source": [
    "## Constants & Helper"
   ]
  },
  {
   "cell_type": "code",
   "execution_count": 118,
   "metadata": {},
   "outputs": [],
   "source": [
    "RESET_DB = False\n",
    "\n",
    "UPDATE_TRANSACTION_TABLES_THIS_RUN = True\n",
    "ADD_RECORDS_THIS_RUN = True\n",
    "UPDATE_RECORDS_THIS_RUN = True\n",
    "DELETE_RECORDS_THIS_RUN = True"
   ]
  },
  {
   "cell_type": "code",
   "execution_count": 119,
   "metadata": {},
   "outputs": [],
   "source": [
    "SEPERATOR = \"|\"\n",
    "CHANGE_FIELD = \"change_field\"\n",
    "TRANSACTION_DATE_COLUMN = \"transaction_date\"\n",
    "START_TRANSATION_DATE = datetime(2000, 1, 31)\n",
    "\n",
    "UPDATE_MASTERDATA = False\n",
    "UPDATE_TRANSACTIONAL_DATA = False\n",
    "\n",
    "TBL_EMPLOYEE = \"employee\"\n",
    "TBL_CLIENTS = \"clients\"\n",
    "TBL_BUSINESSPARTNER = \"businesspartner\"\n",
    "TBL_COSTCENTER = \"costcenter\"\n",
    "TBL_DEPARTMENT = \"department\"\n",
    "TBL_TASK = \"task\"\n",
    "TBL_PROJECT = \"project\"\n",
    "\n",
    "TBL_USERS = \"users\"\n",
    "TBL_PROJECT = \"project\"\n",
    "TBL_PROJECTTIME = \"projecttime\"\n",
    "TBL_PAY_TYPE = \"pay_type\"\n",
    "TBL_EMPLOYEE_PAY = \"employee_pay\"\n",
    "\n",
    "DB_ATOSS = \"atoss\"\n",
    "DB_PCT = \"pct\"\n",
    "DB_DATEV = \"datev\"\n",
    "\n",
    "SCHEMA_DBO = \"dbo\"\n",
    "SCHEMA_MDM = \"mdm\""
   ]
  },
  {
   "cell_type": "code",
   "execution_count": 120,
   "metadata": {},
   "outputs": [],
   "source": [
    "def create_wide_df(nrows: int, ncolumns_each: int = 50) -> pd.DataFrame:\n",
    "    row_rng = range(0, nrows)\n",
    "    col_rng = range(0, ncolumns_each)\n",
    "    string_values = [\n",
    "        [f\"string-value ({row_idx + 1}, {col_idx + 1})\" for col_idx in col_rng]\n",
    "        for row_idx in row_rng\n",
    "    ]\n",
    "    random_num_values = np.random.randint(0, 10_000_000, size=(nrows, ncolumns_each))\n",
    "\n",
    "    date_values = [\n",
    "        [datetime(2005, 5, 5, 5, 5, 5, 500) for _ in col_rng]\n",
    "        for _ in row_rng\n",
    "    ]\n",
    "\n",
    "    column_names = [f\"bdcolumn{i}\" for i in range(1, (3 * ncolumns_each) + 1)]\n",
    "\n",
    "    df_string_values = pd.DataFrame(string_values)\n",
    "    df_num_values = pd.DataFrame(random_num_values)\n",
    "    df_date_values = pd.DataFrame(date_values)\n",
    "\n",
    "    df = pd.concat([df_string_values, df_num_values, df_date_values], axis=1)\n",
    "    df.columns = column_names\n",
    "\n",
    "    return df\n",
    "\n",
    "def generate_wide_df(df: pd.DataFrame, ncolumns_each: int = 50) -> pd.DataFrame:\n",
    "    df_bd = create_wide_df(nrows=df.shape[0], ncolumns_each=ncolumns_each)\n",
    "    return pd.concat([df, df_bd], axis=1)"
   ]
  },
  {
   "cell_type": "code",
   "execution_count": 121,
   "metadata": {},
   "outputs": [],
   "source": [
    "@dataclass(frozen=True)\n",
    "class MdTable:\n",
    "    tablename: str\n",
    "\n",
    "    @property\n",
    "    def tablepath(self) -> str:\n",
    "        return f\"./_md_{self.tablename}.csv\"\n",
    "    \n",
    "    def read(self, sep: str = SEPERATOR, **kwargs) -> pd.DataFrame:\n",
    "        return pd.read_csv(self.tablepath, sep=sep, **kwargs)\n",
    "\n",
    "\n",
    "@dataclass(frozen=True)\n",
    "class DbTable:\n",
    "    db: str\n",
    "    schema: str\n",
    "    tablename: str\n",
    "\n",
    "    @property\n",
    "    def table_total_name(self) -> str:\n",
    "        return f\"{self.db}.{self.schema}.{self.tablename}\"\n",
    "    \n",
    "    @property\n",
    "    def tablepath(self) -> str:\n",
    "        return f\"./{self.table_total_name}.csv\"\n",
    "    \n",
    "    @property\n",
    "    def is_existing(self) -> bool:\n",
    "        return os.path.exists(self.tablepath)\n",
    "    \n",
    "    def save(\n",
    "            self,\n",
    "            df: pd.DataFrame,\n",
    "            sep: str = SEPERATOR,\n",
    "            mode: Literal[\"a\", \"w\"] = \"w\"\n",
    "        ) -> None:\n",
    "        df.to_csv(\n",
    "            self.tablepath,\n",
    "            sep=sep,\n",
    "            index=False,\n",
    "            encoding=\"UTF-8\",\n",
    "            mode=mode,\n",
    "            header=(mode == \"w\")\n",
    "        )\n",
    "        print(f\"[{str(datetime.now())[:19]}] TABLE successfully saved at: {self.tablepath}   SHAPE: {df.shape}\")\n",
    "        \n",
    "    def read(self, sep: str = SEPERATOR, columns: list[str] = None, **kwargs) -> pd.DataFrame:\n",
    "        return pd.read_csv(self.tablepath, sep=sep, usecols=columns, **kwargs)\n",
    "    \n",
    "    def delete(self) -> None:\n",
    "        if not self.is_existing:\n",
    "            log = f\"{self.table_total_name} not existing.\"\n",
    "            print(log)\n",
    "            return\n",
    "        \n",
    "        os.remove(self.tablepath)\n",
    "        log = f\"TABLE {self.table_total_name} successfully removed.\"\n",
    "        print(log)\n",
    "\n",
    "def fn_update_count(row: str) -> str:\n",
    "    split_str = \" uc: \"\n",
    "    if split_str in row:\n",
    "        value, uc = row.split(split_str)\n",
    "        uc = int(uc) + 1\n",
    "        return f\"{value} uc: {uc}\"\n",
    "    return f\"{row} uc: 1\""
   ]
  },
  {
   "cell_type": "code",
   "execution_count": 122,
   "metadata": {},
   "outputs": [],
   "source": [
    "def pd_crossjoin(\n",
    "        df: pd.DataFrame,\n",
    "        join_table: DbTable,\n",
    "        id_column_name_jt: str,\n",
    "        id_new_column_name: str,\n",
    "        include_columns: list[str] = None\n",
    "        ) -> pd.DataFrame:\n",
    "    if include_columns is None:\n",
    "        include_columns = []\n",
    "    include_columns = [id_column_name_jt] + include_columns\n",
    "    # df_join = join_table.read()[[id_column_name_jt]] \\\n",
    "    #     .rename(columns={id_column_name_jt: id_new_column_name})\n",
    "    df_join = join_table.read()[include_columns] \\\n",
    "        .rename(columns={id_column_name_jt: id_new_column_name})\n",
    "\n",
    "    return pd.merge(df, df_join, how=\"cross\").drop_duplicates()"
   ]
  },
  {
   "cell_type": "code",
   "execution_count": 123,
   "metadata": {},
   "outputs": [],
   "source": [
    "def pd_add_rows(\n",
    "        *,\n",
    "        df: pd.DataFrame,\n",
    "        df_md: pd.DataFrame,\n",
    "        nrows: int,\n",
    "        id_columns: list[str] = None,\n",
    "        crossjoin_tables: DbTable = None\n",
    "        ) -> pd.DataFrame:\n",
    "    if id_columns is None:\n",
    "        id_columns = [\"id\"]\n",
    "    \n",
    "    df_current_ids = df[id_columns]\n",
    "\n",
    "    added_filter = (df_md[id_columns[0]].isin(df_current_ids[id_columns[0]]))\n",
    "    for i in range(1, len(id_columns)):\n",
    "        added_filter &= (df[id_columns[i]].isin(df_current_ids[id_columns[i]]))\n",
    "\n",
    "    df_new_records = df_md[~added_filter].sample(nrows)\n",
    "    if crossjoin_tables is not None:\n",
    "        for i in range(1, len(id_columns)):\n",
    "            df_new_records = pd_crossjoin(\n",
    "                df=df_new_records,\n",
    "                join_table=crossjoin_tables[i - 1],\n",
    "                id_column_name_jt=id_columns[0],\n",
    "                id_new_column_name=id_columns[i]\n",
    "            )\n",
    "\n",
    "    df_new_records = df_new_records.sample(nrows)\n",
    "\n",
    "    print(f\"New Records (nrows={nrows}):\")\n",
    "    display(df_new_records)\n",
    "\n",
    "    return pd.concat([df, df_new_records], axis=0).reset_index(drop=True)\n",
    "\n",
    "\n",
    "def pd_update_rows(\n",
    "        *,\n",
    "        df: pd.DataFrame,\n",
    "        nrows: int,\n",
    "        id_columns: list = None,\n",
    "        cf_column: str = CHANGE_FIELD\n",
    "        ) -> pd.DataFrame:\n",
    "    if id_columns is None:\n",
    "        id_columns = [\"id\"]\n",
    "\n",
    "    df_sample_ids = df.sample(nrows)[id_columns]\n",
    "\n",
    "    update_filter = (df[id_columns[0]].isin(df_sample_ids[id_columns[0]]))\n",
    "    for i in range(1, len(id_columns)):\n",
    "        update_filter &= (df[id_columns[i]].isin(df_sample_ids[id_columns[i]]))\n",
    "\n",
    "    df.loc[update_filter, CHANGE_FIELD] = df.loc[update_filter, cf_column] \\\n",
    "                                            .apply(fn_update_count)\n",
    "    print(f\"Updated Records (nrows={nrows}):\")\n",
    "    display(df[update_filter])\n",
    "\n",
    "    return df.reset_index(drop=True)\n",
    "\n",
    "\n",
    "def pd_delete_rows(*, df: pd.DataFrame, nrows: int) -> pd.DataFrame:\n",
    "    # TODO: implement multiple column id\n",
    "    delete_ids = list(df.sample(nrows)[\"id\"])\n",
    "    delete_filter = df[\"id\"].isin(delete_ids)\n",
    "\n",
    "    print(f\"Removed Records (nrows={nrows}):\")\n",
    "    display(df[delete_filter])\n",
    "\n",
    "    return df[~delete_filter].reset_index(drop=True)"
   ]
  },
  {
   "cell_type": "code",
   "execution_count": 124,
   "metadata": {},
   "outputs": [
    {
     "data": {
      "text/plain": [
       "20"
      ]
     },
     "execution_count": 124,
     "metadata": {},
     "output_type": "execute_result"
    }
   ],
   "source": [
    "datetime.now().date().day"
   ]
  },
  {
   "cell_type": "code",
   "execution_count": 125,
   "metadata": {},
   "outputs": [],
   "source": [
    "def end_of_month(dt: datetime, offset_months: int = 0):\n",
    "    dt = datetime(dt.year, dt.month, 1) + timedelta(days=(offset_months * 31))\n",
    "    _, last_day = calendar.monthrange(dt.year, dt.month)\n",
    "    return datetime(dt.year, dt.month, last_day)\n",
    "\n",
    "def get_next_transaction_datetime(\n",
    "        table: DbTable,\n",
    "        sep: str = SEPERATOR,\n",
    "        date_column: str = TRANSACTION_DATE_COLUMN,\n",
    "        default_date: datetime = START_TRANSATION_DATE\n",
    "    ) -> datetime:\n",
    "    try:\n",
    "        date_str = pd.read_csv(\n",
    "            table.tablepath,\n",
    "            sep=sep,\n",
    "            usecols=[date_column]\n",
    "        ).max().values[0]\n",
    "        next_transaction_dt = datetime.strptime(date_str, '%Y-%m-%d') + timedelta()\n",
    "        return end_of_month(next_transaction_dt, offset_days=1)\n",
    "    except:\n",
    "        return default_date"
   ]
  },
  {
   "cell_type": "markdown",
   "metadata": {},
   "source": [
    "## Table Setup"
   ]
  },
  {
   "cell_type": "markdown",
   "metadata": {},
   "source": [
    "### MasterData Tables"
   ]
  },
  {
   "cell_type": "code",
   "execution_count": 126,
   "metadata": {},
   "outputs": [
    {
     "data": {
      "text/plain": [
       "MdTable(tablename='employee')"
      ]
     },
     "metadata": {},
     "output_type": "display_data"
    },
    {
     "data": {
      "text/plain": [
       "MdTable(tablename='clients')"
      ]
     },
     "metadata": {},
     "output_type": "display_data"
    },
    {
     "data": {
      "text/plain": [
       "MdTable(tablename='businesspartner')"
      ]
     },
     "metadata": {},
     "output_type": "display_data"
    },
    {
     "data": {
      "text/plain": [
       "MdTable(tablename='costcenter')"
      ]
     },
     "metadata": {},
     "output_type": "display_data"
    },
    {
     "data": {
      "text/plain": [
       "MdTable(tablename='department')"
      ]
     },
     "metadata": {},
     "output_type": "display_data"
    },
    {
     "data": {
      "text/plain": [
       "MdTable(tablename='project')"
      ]
     },
     "metadata": {},
     "output_type": "display_data"
    },
    {
     "data": {
      "text/plain": [
       "MdTable(tablename='task')"
      ]
     },
     "metadata": {},
     "output_type": "display_data"
    }
   ],
   "source": [
    "tbl_md_employee = MdTable(TBL_EMPLOYEE)\n",
    "tbl_md_clients = MdTable(TBL_CLIENTS)\n",
    "tbl_md_businesspartner = MdTable(TBL_BUSINESSPARTNER)\n",
    "tbl_md_costcenter = MdTable(TBL_COSTCENTER)\n",
    "tbl_md_department = MdTable(TBL_DEPARTMENT)\n",
    "tbl_md_project = MdTable(TBL_PROJECT)\n",
    "tbl_md_task = MdTable(TBL_TASK)\n",
    "\n",
    "display(\n",
    "    tbl_md_employee,\n",
    "    tbl_md_clients,\n",
    "    tbl_md_businesspartner,\n",
    "    tbl_md_costcenter,\n",
    "    tbl_md_department,\n",
    "    tbl_md_project,\n",
    "    tbl_md_task\n",
    ")"
   ]
  },
  {
   "cell_type": "code",
   "execution_count": 127,
   "metadata": {},
   "outputs": [],
   "source": [
    "df_md_employee = tbl_md_employee.read(parse_dates=[\"leave_date\"])\n",
    "df_md_clients = tbl_md_clients.read()\n",
    "df_md_businesspartner = tbl_md_businesspartner.read()\n",
    "df_md_costcenter = tbl_md_costcenter.read()\n",
    "df_md_department = tbl_md_department.read()\n",
    "df_md_project = tbl_md_project.read()\n",
    "df_md_task = tbl_md_task.read()"
   ]
  },
  {
   "cell_type": "markdown",
   "metadata": {},
   "source": [
    "### DB Tables"
   ]
  },
  {
   "cell_type": "code",
   "execution_count": 128,
   "metadata": {},
   "outputs": [
    {
     "data": {
      "text/plain": [
       "DbTable(db='pct', schema='dbo', tablename='users')"
      ]
     },
     "metadata": {},
     "output_type": "display_data"
    },
    {
     "data": {
      "text/plain": [
       "DbTable(db='pct', schema='dbo', tablename='project')"
      ]
     },
     "metadata": {},
     "output_type": "display_data"
    },
    {
     "data": {
      "text/plain": [
       "DbTable(db='pct', schema='dbo', tablename='department')"
      ]
     },
     "metadata": {},
     "output_type": "display_data"
    },
    {
     "data": {
      "text/plain": [
       "DbTable(db='pct', schema='dbo', tablename='task')"
      ]
     },
     "metadata": {},
     "output_type": "display_data"
    },
    {
     "data": {
      "text/plain": [
       "DbTable(db='pct', schema='dbo', tablename='businesspartner')"
      ]
     },
     "metadata": {},
     "output_type": "display_data"
    },
    {
     "data": {
      "text/plain": [
       "DbTable(db='pct', schema='dbo', tablename='projecttime')"
      ]
     },
     "metadata": {},
     "output_type": "display_data"
    },
    {
     "data": {
      "text/plain": [
       "DbTable(db='pct', schema='mdm', tablename='employee')"
      ]
     },
     "metadata": {},
     "output_type": "display_data"
    },
    {
     "data": {
      "text/plain": [
       "DbTable(db='datev', schema='dbo', tablename='employee')"
      ]
     },
     "metadata": {},
     "output_type": "display_data"
    },
    {
     "data": {
      "text/plain": [
       "DbTable(db='datev', schema='dbo', tablename='clients')"
      ]
     },
     "metadata": {},
     "output_type": "display_data"
    },
    {
     "data": {
      "text/plain": [
       "DbTable(db='datev', schema='dbo', tablename='department')"
      ]
     },
     "metadata": {},
     "output_type": "display_data"
    },
    {
     "data": {
      "text/plain": [
       "DbTable(db='datev', schema='dbo', tablename='costcenter')"
      ]
     },
     "metadata": {},
     "output_type": "display_data"
    },
    {
     "data": {
      "text/plain": [
       "DbTable(db='datev', schema='dbo', tablename='pay_type')"
      ]
     },
     "metadata": {},
     "output_type": "display_data"
    },
    {
     "data": {
      "text/plain": [
       "DbTable(db='datev', schema='dbo', tablename='employee_pay')"
      ]
     },
     "metadata": {},
     "output_type": "display_data"
    }
   ],
   "source": [
    "tbl_db_pct_users = DbTable(DB_PCT, SCHEMA_DBO, TBL_USERS)\n",
    "tbl_db_pct_project = DbTable(DB_PCT, SCHEMA_DBO, TBL_PROJECT)\n",
    "tbl_db_pct_department = DbTable(DB_PCT, SCHEMA_DBO, TBL_DEPARTMENT)\n",
    "tbl_db_pct_task = DbTable(DB_PCT, SCHEMA_DBO, TBL_TASK)\n",
    "tbl_db_pct_businesspartner = DbTable(DB_PCT, SCHEMA_DBO, TBL_BUSINESSPARTNER)\n",
    "tbl_db_pct_projecttime = DbTable(DB_PCT, SCHEMA_DBO, TBL_PROJECTTIME)\n",
    "tbl_db_pct_employee_mdm = DbTable(DB_PCT, SCHEMA_MDM, TBL_EMPLOYEE)\n",
    "\n",
    "tbl_db_datev_employee = DbTable(DB_DATEV, SCHEMA_DBO, TBL_EMPLOYEE)\n",
    "tbl_db_datev_clients = DbTable(DB_DATEV, SCHEMA_DBO, TBL_CLIENTS)\n",
    "tbl_db_datev_department = DbTable(DB_DATEV, SCHEMA_DBO, TBL_DEPARTMENT)\n",
    "tbl_db_datev_costcenter = DbTable(DB_DATEV, SCHEMA_DBO, TBL_COSTCENTER)\n",
    "tbl_db_datev_paytype = DbTable(DB_DATEV, SCHEMA_DBO, TBL_PAY_TYPE)\n",
    "tbl_db_datev_employee_pay = DbTable(DB_DATEV, SCHEMA_DBO, TBL_EMPLOYEE_PAY)\n",
    "\n",
    "ALL_TABLES = [\n",
    "    tbl_db_pct_users,\n",
    "    tbl_db_pct_project,\n",
    "    tbl_db_pct_department,\n",
    "    tbl_db_pct_task,\n",
    "    tbl_db_pct_businesspartner,\n",
    "    tbl_db_pct_projecttime,\n",
    "    tbl_db_pct_employee_mdm,\n",
    "    tbl_db_datev_employee,\n",
    "    tbl_db_datev_clients,\n",
    "    tbl_db_datev_department,\n",
    "    tbl_db_datev_costcenter,\n",
    "    tbl_db_datev_paytype,\n",
    "    tbl_db_datev_employee_pay\n",
    "]\n",
    "\n",
    "display(\n",
    "    tbl_db_pct_users,\n",
    "    tbl_db_pct_project,\n",
    "    tbl_db_pct_department,\n",
    "    tbl_db_pct_task,\n",
    "    tbl_db_pct_businesspartner,\n",
    "    tbl_db_pct_projecttime,\n",
    "    tbl_db_pct_employee_mdm,\n",
    "    tbl_db_datev_employee,\n",
    "    tbl_db_datev_clients,\n",
    "    tbl_db_datev_department,\n",
    "    tbl_db_datev_costcenter,\n",
    "    tbl_db_datev_paytype,\n",
    "    tbl_db_datev_employee_pay\n",
    ")"
   ]
  },
  {
   "cell_type": "markdown",
   "metadata": {},
   "source": [
    "# Generate or Update databasefiles"
   ]
  },
  {
   "cell_type": "markdown",
   "metadata": {},
   "source": [
    "## Reset DB if needed"
   ]
  },
  {
   "cell_type": "code",
   "execution_count": 129,
   "metadata": {},
   "outputs": [
    {
     "name": "stdout",
     "output_type": "stream",
     "text": [
      "No Reset!\n"
     ]
    }
   ],
   "source": [
    "if RESET_DB:\n",
    "    table: DbTable\n",
    "    for table in ALL_TABLES:\n",
    "        table.delete()\n",
    "else:\n",
    "    print(\"No Reset!\")"
   ]
  },
  {
   "cell_type": "markdown",
   "metadata": {},
   "source": [
    "## ERP-System - datev"
   ]
  },
  {
   "cell_type": "markdown",
   "metadata": {},
   "source": [
    "### dbo.clients"
   ]
  },
  {
   "cell_type": "markdown",
   "metadata": {},
   "source": [
    "#### Create if not existing"
   ]
  },
  {
   "cell_type": "code",
   "execution_count": 130,
   "metadata": {},
   "outputs": [
    {
     "data": {
      "text/html": [
       "<div>\n",
       "<style scoped>\n",
       "    .dataframe tbody tr th:only-of-type {\n",
       "        vertical-align: middle;\n",
       "    }\n",
       "\n",
       "    .dataframe tbody tr th {\n",
       "        vertical-align: top;\n",
       "    }\n",
       "\n",
       "    .dataframe thead th {\n",
       "        text-align: right;\n",
       "    }\n",
       "</style>\n",
       "<table border=\"1\" class=\"dataframe\">\n",
       "  <thead>\n",
       "    <tr style=\"text-align: right;\">\n",
       "      <th></th>\n",
       "      <th>id</th>\n",
       "      <th>name</th>\n",
       "      <th>address</th>\n",
       "      <th>change_field</th>\n",
       "    </tr>\n",
       "  </thead>\n",
       "  <tbody>\n",
       "    <tr>\n",
       "      <th>0</th>\n",
       "      <td>92</td>\n",
       "      <td>Xcel Ventures GmbH</td>\n",
       "      <td>Musterstraße 92, 10198 Berlin</td>\n",
       "      <td>cf uc: 2</td>\n",
       "    </tr>\n",
       "    <tr>\n",
       "      <th>1</th>\n",
       "      <td>83</td>\n",
       "      <td>Universal Solutions AG</td>\n",
       "      <td>Musterstraße 83, 10189 Berlin</td>\n",
       "      <td>cf</td>\n",
       "    </tr>\n",
       "    <tr>\n",
       "      <th>2</th>\n",
       "      <td>50</td>\n",
       "      <td>Mu Enterprises AG</td>\n",
       "      <td>Musterstraße 50, 10156 Berlin</td>\n",
       "      <td>cf uc: 1</td>\n",
       "    </tr>\n",
       "    <tr>\n",
       "      <th>3</th>\n",
       "      <td>63</td>\n",
       "      <td>Pinnacle Consulting SE</td>\n",
       "      <td>Musterstraße 63, 10169 Berlin</td>\n",
       "      <td>cf uc: 1</td>\n",
       "    </tr>\n",
       "    <tr>\n",
       "      <th>4</th>\n",
       "      <td>69</td>\n",
       "      <td>Radiant Innovations SE</td>\n",
       "      <td>Musterstraße 69, 10175 Berlin</td>\n",
       "      <td>cf uc: 1</td>\n",
       "    </tr>\n",
       "  </tbody>\n",
       "</table>\n",
       "</div>"
      ],
      "text/plain": [
       "   id                    name                        address change_field\n",
       "0  92      Xcel Ventures GmbH  Musterstraße 92, 10198 Berlin     cf uc: 2\n",
       "1  83  Universal Solutions AG  Musterstraße 83, 10189 Berlin           cf\n",
       "2  50       Mu Enterprises AG  Musterstraße 50, 10156 Berlin     cf uc: 1\n",
       "3  63  Pinnacle Consulting SE  Musterstraße 63, 10169 Berlin     cf uc: 1\n",
       "4  69  Radiant Innovations SE  Musterstraße 69, 10175 Berlin     cf uc: 1"
      ]
     },
     "execution_count": 130,
     "metadata": {},
     "output_type": "execute_result"
    }
   ],
   "source": [
    "INIT_CLIENTS_COUNT = 10\n",
    "\n",
    "if not tbl_db_datev_clients.is_existing:\n",
    "    df_init = df_md_clients.sample(INIT_CLIENTS_COUNT)\n",
    "    tbl_db_datev_clients.save(df_init)\n",
    "\n",
    "df_db_datev_clients = tbl_db_datev_clients.read()\n",
    "df_db_datev_clients.head()"
   ]
  },
  {
   "cell_type": "markdown",
   "metadata": {},
   "source": [
    "#### Update Records"
   ]
  },
  {
   "cell_type": "code",
   "execution_count": 131,
   "metadata": {},
   "outputs": [
    {
     "name": "stdout",
     "output_type": "stream",
     "text": [
      "Updated Records (nrows=2):\n"
     ]
    },
    {
     "data": {
      "text/html": [
       "<div>\n",
       "<style scoped>\n",
       "    .dataframe tbody tr th:only-of-type {\n",
       "        vertical-align: middle;\n",
       "    }\n",
       "\n",
       "    .dataframe tbody tr th {\n",
       "        vertical-align: top;\n",
       "    }\n",
       "\n",
       "    .dataframe thead th {\n",
       "        text-align: right;\n",
       "    }\n",
       "</style>\n",
       "<table border=\"1\" class=\"dataframe\">\n",
       "  <thead>\n",
       "    <tr style=\"text-align: right;\">\n",
       "      <th></th>\n",
       "      <th>id</th>\n",
       "      <th>name</th>\n",
       "      <th>address</th>\n",
       "      <th>change_field</th>\n",
       "    </tr>\n",
       "  </thead>\n",
       "  <tbody>\n",
       "    <tr>\n",
       "      <th>3</th>\n",
       "      <td>63</td>\n",
       "      <td>Pinnacle Consulting SE</td>\n",
       "      <td>Musterstraße 63, 10169 Berlin</td>\n",
       "      <td>cf uc: 2</td>\n",
       "    </tr>\n",
       "    <tr>\n",
       "      <th>14</th>\n",
       "      <td>73</td>\n",
       "      <td>Sigma Innovations Ltd.</td>\n",
       "      <td>Musterstraße 73, 10179 Berlin</td>\n",
       "      <td>cf uc: 1</td>\n",
       "    </tr>\n",
       "  </tbody>\n",
       "</table>\n",
       "</div>"
      ],
      "text/plain": [
       "    id                    name                        address change_field\n",
       "3   63  Pinnacle Consulting SE  Musterstraße 63, 10169 Berlin     cf uc: 2\n",
       "14  73  Sigma Innovations Ltd.  Musterstraße 73, 10179 Berlin     cf uc: 1"
      ]
     },
     "metadata": {},
     "output_type": "display_data"
    },
    {
     "name": "stdout",
     "output_type": "stream",
     "text": [
      "[2023-12-20 23:39:16] TABLE successfully saved at: ./datev.dbo.clients.csv   SHAPE: (15, 4)\n"
     ]
    }
   ],
   "source": [
    "update_record_count = random.choice(range(0, 4))\n",
    "\n",
    "df_db_datev_clients = pd_update_rows(\n",
    "    df=df_db_datev_clients,\n",
    "    nrows=update_record_count\n",
    ")\n",
    "\n",
    "tbl_db_datev_clients.save(df_db_datev_clients)"
   ]
  },
  {
   "cell_type": "markdown",
   "metadata": {},
   "source": [
    "#### Add Records"
   ]
  },
  {
   "cell_type": "code",
   "execution_count": 132,
   "metadata": {},
   "outputs": [
    {
     "name": "stdout",
     "output_type": "stream",
     "text": [
      "New Records (nrows=1):\n"
     ]
    },
    {
     "data": {
      "text/html": [
       "<div>\n",
       "<style scoped>\n",
       "    .dataframe tbody tr th:only-of-type {\n",
       "        vertical-align: middle;\n",
       "    }\n",
       "\n",
       "    .dataframe tbody tr th {\n",
       "        vertical-align: top;\n",
       "    }\n",
       "\n",
       "    .dataframe thead th {\n",
       "        text-align: right;\n",
       "    }\n",
       "</style>\n",
       "<table border=\"1\" class=\"dataframe\">\n",
       "  <thead>\n",
       "    <tr style=\"text-align: right;\">\n",
       "      <th></th>\n",
       "      <th>id</th>\n",
       "      <th>name</th>\n",
       "      <th>address</th>\n",
       "      <th>change_field</th>\n",
       "    </tr>\n",
       "  </thead>\n",
       "  <tbody>\n",
       "    <tr>\n",
       "      <th>85</th>\n",
       "      <td>86</td>\n",
       "      <td>Vista Technologies SE</td>\n",
       "      <td>Musterstraße 86, 10192 Berlin</td>\n",
       "      <td>cf</td>\n",
       "    </tr>\n",
       "  </tbody>\n",
       "</table>\n",
       "</div>"
      ],
      "text/plain": [
       "    id                   name                        address change_field\n",
       "85  86  Vista Technologies SE  Musterstraße 86, 10192 Berlin           cf"
      ]
     },
     "metadata": {},
     "output_type": "display_data"
    },
    {
     "name": "stdout",
     "output_type": "stream",
     "text": [
      "[2023-12-20 23:39:16] TABLE successfully saved at: ./datev.dbo.clients.csv   SHAPE: (16, 4)\n"
     ]
    }
   ],
   "source": [
    "add_record_count = random.choice(range(0, 2)) if ADD_RECORDS_THIS_RUN else 0\n",
    "\n",
    "df_db_datev_clients = pd_add_rows(\n",
    "    df=df_db_datev_clients,\n",
    "    df_md=df_md_clients,\n",
    "    nrows=add_record_count\n",
    ")\n",
    "\n",
    "tbl_db_datev_clients.save(df_db_datev_clients)"
   ]
  },
  {
   "cell_type": "markdown",
   "metadata": {},
   "source": [
    "### dbo.department"
   ]
  },
  {
   "cell_type": "markdown",
   "metadata": {},
   "source": [
    "#### Create if not existing"
   ]
  },
  {
   "cell_type": "code",
   "execution_count": 133,
   "metadata": {},
   "outputs": [
    {
     "data": {
      "text/html": [
       "<div>\n",
       "<style scoped>\n",
       "    .dataframe tbody tr th:only-of-type {\n",
       "        vertical-align: middle;\n",
       "    }\n",
       "\n",
       "    .dataframe tbody tr th {\n",
       "        vertical-align: top;\n",
       "    }\n",
       "\n",
       "    .dataframe thead th {\n",
       "        text-align: right;\n",
       "    }\n",
       "</style>\n",
       "<table border=\"1\" class=\"dataframe\">\n",
       "  <thead>\n",
       "    <tr style=\"text-align: right;\">\n",
       "      <th></th>\n",
       "      <th>id</th>\n",
       "      <th>name</th>\n",
       "      <th>change_field</th>\n",
       "      <th>client_id</th>\n",
       "    </tr>\n",
       "  </thead>\n",
       "  <tbody>\n",
       "    <tr>\n",
       "      <th>9</th>\n",
       "      <td>2</td>\n",
       "      <td>Brand Management</td>\n",
       "      <td>cf</td>\n",
       "      <td>67</td>\n",
       "    </tr>\n",
       "    <tr>\n",
       "      <th>38</th>\n",
       "      <td>17</td>\n",
       "      <td>Environmental Affairs</td>\n",
       "      <td>cf uc: 1</td>\n",
       "      <td>27</td>\n",
       "    </tr>\n",
       "    <tr>\n",
       "      <th>36</th>\n",
       "      <td>17</td>\n",
       "      <td>Environmental Affairs</td>\n",
       "      <td>cf</td>\n",
       "      <td>87</td>\n",
       "    </tr>\n",
       "    <tr>\n",
       "      <th>28</th>\n",
       "      <td>1</td>\n",
       "      <td>Administration</td>\n",
       "      <td>cf</td>\n",
       "      <td>27</td>\n",
       "    </tr>\n",
       "    <tr>\n",
       "      <th>7</th>\n",
       "      <td>2</td>\n",
       "      <td>Brand Management</td>\n",
       "      <td>cf</td>\n",
       "      <td>4</td>\n",
       "    </tr>\n",
       "  </tbody>\n",
       "</table>\n",
       "</div>"
      ],
      "text/plain": [
       "    id                   name change_field  client_id\n",
       "9    2       Brand Management           cf         67\n",
       "38  17  Environmental Affairs     cf uc: 1         27\n",
       "36  17  Environmental Affairs           cf         87\n",
       "28   1         Administration           cf         27\n",
       "7    2       Brand Management           cf          4"
      ]
     },
     "execution_count": 133,
     "metadata": {},
     "output_type": "execute_result"
    }
   ],
   "source": [
    "INIT_DEPARTMENT_COUNT = 5\n",
    "\n",
    "if not tbl_db_datev_department.is_existing:\n",
    "    df_init = df_md_department.sample(INIT_DEPARTMENT_COUNT)\n",
    "\n",
    "    df_init = pd_crossjoin(\n",
    "        df=df_init,\n",
    "        join_table=tbl_db_datev_clients,\n",
    "        id_column_name_jt=\"id\",\n",
    "        id_new_column_name=\"client_id\"\n",
    "    )\n",
    "\n",
    "    tbl_db_datev_department.save(df_init)\n",
    "\n",
    "df_db_datev_department = tbl_db_datev_department.read()\n",
    "df_db_datev_department.sample(5).head()"
   ]
  },
  {
   "cell_type": "markdown",
   "metadata": {},
   "source": [
    "#### Update Records"
   ]
  },
  {
   "cell_type": "code",
   "execution_count": 134,
   "metadata": {},
   "outputs": [
    {
     "name": "stdout",
     "output_type": "stream",
     "text": [
      "Updated Records (nrows=2):\n"
     ]
    },
    {
     "data": {
      "text/html": [
       "<div>\n",
       "<style scoped>\n",
       "    .dataframe tbody tr th:only-of-type {\n",
       "        vertical-align: middle;\n",
       "    }\n",
       "\n",
       "    .dataframe tbody tr th {\n",
       "        vertical-align: top;\n",
       "    }\n",
       "\n",
       "    .dataframe thead th {\n",
       "        text-align: right;\n",
       "    }\n",
       "</style>\n",
       "<table border=\"1\" class=\"dataframe\">\n",
       "  <thead>\n",
       "    <tr style=\"text-align: right;\">\n",
       "      <th></th>\n",
       "      <th>id</th>\n",
       "      <th>name</th>\n",
       "      <th>change_field</th>\n",
       "      <th>client_id</th>\n",
       "    </tr>\n",
       "  </thead>\n",
       "  <tbody>\n",
       "    <tr>\n",
       "      <th>7</th>\n",
       "      <td>2</td>\n",
       "      <td>Brand Management</td>\n",
       "      <td>cf uc: 1</td>\n",
       "      <td>4</td>\n",
       "    </tr>\n",
       "    <tr>\n",
       "      <th>8</th>\n",
       "      <td>2</td>\n",
       "      <td>Brand Management</td>\n",
       "      <td>cf uc: 2</td>\n",
       "      <td>27</td>\n",
       "    </tr>\n",
       "    <tr>\n",
       "      <th>27</th>\n",
       "      <td>1</td>\n",
       "      <td>Administration</td>\n",
       "      <td>cf uc: 1</td>\n",
       "      <td>4</td>\n",
       "    </tr>\n",
       "    <tr>\n",
       "      <th>28</th>\n",
       "      <td>1</td>\n",
       "      <td>Administration</td>\n",
       "      <td>cf uc: 1</td>\n",
       "      <td>27</td>\n",
       "    </tr>\n",
       "  </tbody>\n",
       "</table>\n",
       "</div>"
      ],
      "text/plain": [
       "    id              name change_field  client_id\n",
       "7    2  Brand Management     cf uc: 1          4\n",
       "8    2  Brand Management     cf uc: 2         27\n",
       "27   1    Administration     cf uc: 1          4\n",
       "28   1    Administration     cf uc: 1         27"
      ]
     },
     "metadata": {},
     "output_type": "display_data"
    },
    {
     "name": "stdout",
     "output_type": "stream",
     "text": [
      "[2023-12-20 23:39:16] TABLE successfully saved at: ./datev.dbo.department.csv   SHAPE: (54, 4)\n"
     ]
    }
   ],
   "source": [
    "update_record_count = random.choice(range(0, 4))\n",
    "\n",
    "df_db_datev_department = pd_update_rows(\n",
    "    df=df_db_datev_department,\n",
    "    nrows=update_record_count,\n",
    "    id_columns=[\"id\", \"client_id\"]\n",
    ")\n",
    "\n",
    "tbl_db_datev_department.save(df_db_datev_department)"
   ]
  },
  {
   "cell_type": "markdown",
   "metadata": {},
   "source": [
    "#### Add Records"
   ]
  },
  {
   "cell_type": "code",
   "execution_count": 135,
   "metadata": {},
   "outputs": [
    {
     "name": "stdout",
     "output_type": "stream",
     "text": [
      "New Records (nrows=0):\n"
     ]
    },
    {
     "data": {
      "text/html": [
       "<div>\n",
       "<style scoped>\n",
       "    .dataframe tbody tr th:only-of-type {\n",
       "        vertical-align: middle;\n",
       "    }\n",
       "\n",
       "    .dataframe tbody tr th {\n",
       "        vertical-align: top;\n",
       "    }\n",
       "\n",
       "    .dataframe thead th {\n",
       "        text-align: right;\n",
       "    }\n",
       "</style>\n",
       "<table border=\"1\" class=\"dataframe\">\n",
       "  <thead>\n",
       "    <tr style=\"text-align: right;\">\n",
       "      <th></th>\n",
       "      <th>id</th>\n",
       "      <th>name</th>\n",
       "      <th>change_field</th>\n",
       "      <th>client_id</th>\n",
       "    </tr>\n",
       "  </thead>\n",
       "  <tbody>\n",
       "  </tbody>\n",
       "</table>\n",
       "</div>"
      ],
      "text/plain": [
       "Empty DataFrame\n",
       "Columns: [id, name, change_field, client_id]\n",
       "Index: []"
      ]
     },
     "metadata": {},
     "output_type": "display_data"
    },
    {
     "name": "stdout",
     "output_type": "stream",
     "text": [
      "[2023-12-20 23:39:16] TABLE successfully saved at: ./datev.dbo.department.csv   SHAPE: (54, 4)\n"
     ]
    }
   ],
   "source": [
    "add_record_count = random.choice(range(0, 2)) if ADD_RECORDS_THIS_RUN else 0\n",
    "\n",
    "df_db_datev_department = pd_add_rows(\n",
    "    df=df_db_datev_department,\n",
    "    df_md=df_md_department,\n",
    "    nrows=add_record_count,\n",
    "    id_columns=[\"id\", \"client_id\"],\n",
    "    crossjoin_tables=[tbl_db_datev_clients]\n",
    ")\n",
    "\n",
    "tbl_db_datev_department.save(df_db_datev_department)"
   ]
  },
  {
   "cell_type": "markdown",
   "metadata": {},
   "source": [
    "### dbo.costcenter"
   ]
  },
  {
   "cell_type": "markdown",
   "metadata": {},
   "source": [
    "#### Create if not existing"
   ]
  },
  {
   "cell_type": "code",
   "execution_count": 136,
   "metadata": {},
   "outputs": [
    {
     "data": {
      "text/html": [
       "<div>\n",
       "<style scoped>\n",
       "    .dataframe tbody tr th:only-of-type {\n",
       "        vertical-align: middle;\n",
       "    }\n",
       "\n",
       "    .dataframe tbody tr th {\n",
       "        vertical-align: top;\n",
       "    }\n",
       "\n",
       "    .dataframe thead th {\n",
       "        text-align: right;\n",
       "    }\n",
       "</style>\n",
       "<table border=\"1\" class=\"dataframe\">\n",
       "  <thead>\n",
       "    <tr style=\"text-align: right;\">\n",
       "      <th></th>\n",
       "      <th>id</th>\n",
       "      <th>buKr</th>\n",
       "      <th>costcenter_short</th>\n",
       "      <th>name</th>\n",
       "      <th>change_field</th>\n",
       "      <th>department_id</th>\n",
       "      <th>client_id</th>\n",
       "    </tr>\n",
       "  </thead>\n",
       "  <tbody>\n",
       "    <tr>\n",
       "      <th>756</th>\n",
       "      <td>704</td>\n",
       "      <td>1739</td>\n",
       "      <td>75450</td>\n",
       "      <td>KSTNAME704</td>\n",
       "      <td>cf</td>\n",
       "      <td>2</td>\n",
       "      <td>87</td>\n",
       "    </tr>\n",
       "    <tr>\n",
       "      <th>784</th>\n",
       "      <td>704</td>\n",
       "      <td>1739</td>\n",
       "      <td>75450</td>\n",
       "      <td>KSTNAME704</td>\n",
       "      <td>cf</td>\n",
       "      <td>17</td>\n",
       "      <td>69</td>\n",
       "    </tr>\n",
       "    <tr>\n",
       "      <th>309</th>\n",
       "      <td>1212</td>\n",
       "      <td>1743</td>\n",
       "      <td>33650</td>\n",
       "      <td>KSTNAME1212</td>\n",
       "      <td>cf</td>\n",
       "      <td>2</td>\n",
       "      <td>67</td>\n",
       "    </tr>\n",
       "    <tr>\n",
       "      <th>886</th>\n",
       "      <td>1949</td>\n",
       "      <td>1748</td>\n",
       "      <td>37500</td>\n",
       "      <td>KSTNAME1949</td>\n",
       "      <td>cf</td>\n",
       "      <td>17</td>\n",
       "      <td>87</td>\n",
       "    </tr>\n",
       "    <tr>\n",
       "      <th>59</th>\n",
       "      <td>144</td>\n",
       "      <td>1735</td>\n",
       "      <td>88650</td>\n",
       "      <td>KSTNAME144</td>\n",
       "      <td>cf</td>\n",
       "      <td>2</td>\n",
       "      <td>67</td>\n",
       "    </tr>\n",
       "  </tbody>\n",
       "</table>\n",
       "</div>"
      ],
      "text/plain": [
       "       id  buKr  costcenter_short         name change_field  department_id  \\\n",
       "756   704  1739             75450   KSTNAME704           cf              2   \n",
       "784   704  1739             75450   KSTNAME704           cf             17   \n",
       "309  1212  1743             33650  KSTNAME1212           cf              2   \n",
       "886  1949  1748             37500  KSTNAME1949           cf             17   \n",
       "59    144  1735             88650   KSTNAME144           cf              2   \n",
       "\n",
       "     client_id  \n",
       "756         87  \n",
       "784         69  \n",
       "309         67  \n",
       "886         87  \n",
       "59          67  "
      ]
     },
     "execution_count": 136,
     "metadata": {},
     "output_type": "execute_result"
    }
   ],
   "source": [
    "INIT_COSTCENTER_COUNT = 20\n",
    "\n",
    "if not tbl_db_datev_costcenter.is_existing:\n",
    "    df_init = df_md_costcenter.sample(INIT_COSTCENTER_COUNT)\n",
    "\n",
    "    df_init = pd_crossjoin(\n",
    "        df=df_init,\n",
    "        join_table=tbl_db_datev_department,\n",
    "        id_column_name_jt=\"id\",\n",
    "        id_new_column_name=\"department_id\"\n",
    "    )\n",
    "\n",
    "    df_init = pd_crossjoin(\n",
    "        df=df_init,\n",
    "        join_table=tbl_db_datev_clients,\n",
    "        id_column_name_jt=\"id\",\n",
    "        id_new_column_name=\"client_id\"\n",
    "    )\n",
    "\n",
    "    tbl_db_datev_costcenter.save(df_init)\n",
    "\n",
    "\n",
    "df_db_datev_costcenter = tbl_db_datev_costcenter.read()\n",
    "df_db_datev_costcenter.sample(5).head()"
   ]
  },
  {
   "cell_type": "code",
   "execution_count": 137,
   "metadata": {},
   "outputs": [
    {
     "data": {
      "text/plain": [
       "(2352, 1008, 1008)"
      ]
     },
     "execution_count": 137,
     "metadata": {},
     "output_type": "execute_result"
    }
   ],
   "source": [
    "unique_together_count = \\\n",
    "    len(df_db_datev_costcenter[\"id\"].unique()) * \\\n",
    "    len(df_db_datev_costcenter[\"client_id\"].unique()) * \\\n",
    "    len(df_db_datev_costcenter[\"department_id\"].unique())\n",
    "\n",
    "unique_together_count, df_db_datev_costcenter.shape[0], df_db_datev_costcenter.drop_duplicates().shape[0]"
   ]
  },
  {
   "cell_type": "markdown",
   "metadata": {},
   "source": [
    "#### Update Records"
   ]
  },
  {
   "cell_type": "code",
   "execution_count": 138,
   "metadata": {},
   "outputs": [
    {
     "name": "stdout",
     "output_type": "stream",
     "text": [
      "Updated Records (nrows=0):\n"
     ]
    },
    {
     "data": {
      "text/html": [
       "<div>\n",
       "<style scoped>\n",
       "    .dataframe tbody tr th:only-of-type {\n",
       "        vertical-align: middle;\n",
       "    }\n",
       "\n",
       "    .dataframe tbody tr th {\n",
       "        vertical-align: top;\n",
       "    }\n",
       "\n",
       "    .dataframe thead th {\n",
       "        text-align: right;\n",
       "    }\n",
       "</style>\n",
       "<table border=\"1\" class=\"dataframe\">\n",
       "  <thead>\n",
       "    <tr style=\"text-align: right;\">\n",
       "      <th></th>\n",
       "      <th>id</th>\n",
       "      <th>buKr</th>\n",
       "      <th>costcenter_short</th>\n",
       "      <th>name</th>\n",
       "      <th>change_field</th>\n",
       "      <th>department_id</th>\n",
       "      <th>client_id</th>\n",
       "    </tr>\n",
       "  </thead>\n",
       "  <tbody>\n",
       "  </tbody>\n",
       "</table>\n",
       "</div>"
      ],
      "text/plain": [
       "Empty DataFrame\n",
       "Columns: [id, buKr, costcenter_short, name, change_field, department_id, client_id]\n",
       "Index: []"
      ]
     },
     "metadata": {},
     "output_type": "display_data"
    },
    {
     "name": "stdout",
     "output_type": "stream",
     "text": [
      "[2023-12-20 23:39:16] TABLE successfully saved at: ./datev.dbo.costcenter.csv   SHAPE: (1008, 7)\n"
     ]
    }
   ],
   "source": [
    "update_record_count = random.choice(range(0, 7))\n",
    "\n",
    "df_db_datev_costcenter = pd_update_rows(\n",
    "    df=df_db_datev_costcenter,\n",
    "    nrows=update_record_count,\n",
    "    id_columns=[\"id\", \"client_id\", \"department_id\"]\n",
    ")\n",
    "\n",
    "tbl_db_datev_costcenter.save(df_db_datev_costcenter)"
   ]
  },
  {
   "cell_type": "markdown",
   "metadata": {},
   "source": [
    "#### Add Records"
   ]
  },
  {
   "cell_type": "code",
   "execution_count": 139,
   "metadata": {},
   "outputs": [
    {
     "name": "stdout",
     "output_type": "stream",
     "text": [
      "New Records (nrows=0):\n"
     ]
    },
    {
     "data": {
      "text/html": [
       "<div>\n",
       "<style scoped>\n",
       "    .dataframe tbody tr th:only-of-type {\n",
       "        vertical-align: middle;\n",
       "    }\n",
       "\n",
       "    .dataframe tbody tr th {\n",
       "        vertical-align: top;\n",
       "    }\n",
       "\n",
       "    .dataframe thead th {\n",
       "        text-align: right;\n",
       "    }\n",
       "</style>\n",
       "<table border=\"1\" class=\"dataframe\">\n",
       "  <thead>\n",
       "    <tr style=\"text-align: right;\">\n",
       "      <th></th>\n",
       "      <th>id</th>\n",
       "      <th>buKr</th>\n",
       "      <th>costcenter_short</th>\n",
       "      <th>name</th>\n",
       "      <th>change_field</th>\n",
       "      <th>client_id</th>\n",
       "      <th>department_id</th>\n",
       "    </tr>\n",
       "  </thead>\n",
       "  <tbody>\n",
       "  </tbody>\n",
       "</table>\n",
       "</div>"
      ],
      "text/plain": [
       "Empty DataFrame\n",
       "Columns: [id, buKr, costcenter_short, name, change_field, client_id, department_id]\n",
       "Index: []"
      ]
     },
     "metadata": {},
     "output_type": "display_data"
    },
    {
     "name": "stdout",
     "output_type": "stream",
     "text": [
      "[2023-12-20 23:39:16] TABLE successfully saved at: ./datev.dbo.costcenter.csv   SHAPE: (1008, 7)\n"
     ]
    }
   ],
   "source": [
    "add_record_count = random.choice(range(0, 3)) if ADD_RECORDS_THIS_RUN else 0\n",
    "\n",
    "df_db_datev_costcenter = pd_add_rows(\n",
    "    df=df_db_datev_costcenter,\n",
    "    df_md=df_md_costcenter,\n",
    "    nrows=add_record_count,\n",
    "    id_columns=[\"id\", \"client_id\", \"department_id\"],\n",
    "    crossjoin_tables=[tbl_db_datev_clients, tbl_db_datev_department]\n",
    ")\n",
    "\n",
    "tbl_db_datev_costcenter.save(df_db_datev_costcenter)"
   ]
  },
  {
   "cell_type": "markdown",
   "metadata": {},
   "source": [
    "### dbo.employee"
   ]
  },
  {
   "cell_type": "markdown",
   "metadata": {},
   "source": [
    "#### Create if not existing"
   ]
  },
  {
   "cell_type": "code",
   "execution_count": 140,
   "metadata": {},
   "outputs": [
    {
     "data": {
      "text/html": [
       "<div>\n",
       "<style scoped>\n",
       "    .dataframe tbody tr th:only-of-type {\n",
       "        vertical-align: middle;\n",
       "    }\n",
       "\n",
       "    .dataframe tbody tr th {\n",
       "        vertical-align: top;\n",
       "    }\n",
       "\n",
       "    .dataframe thead th {\n",
       "        text-align: right;\n",
       "    }\n",
       "</style>\n",
       "<table border=\"1\" class=\"dataframe\">\n",
       "  <thead>\n",
       "    <tr style=\"text-align: right;\">\n",
       "      <th></th>\n",
       "      <th>id</th>\n",
       "      <th>firstname</th>\n",
       "      <th>lastname</th>\n",
       "      <th>birthdate</th>\n",
       "      <th>entry_date</th>\n",
       "      <th>salary</th>\n",
       "      <th>leave_date</th>\n",
       "      <th>change_field</th>\n",
       "      <th>client_id</th>\n",
       "      <th>costcenter_id</th>\n",
       "    </tr>\n",
       "  </thead>\n",
       "  <tbody>\n",
       "    <tr>\n",
       "      <th>0</th>\n",
       "      <td>3800</td>\n",
       "      <td>Kamila</td>\n",
       "      <td>Szymanska</td>\n",
       "      <td>1989-09-30</td>\n",
       "      <td>2023-07-29</td>\n",
       "      <td>5298.23</td>\n",
       "      <td>NaN</td>\n",
       "      <td>cf</td>\n",
       "      <td>50</td>\n",
       "      <td>17</td>\n",
       "    </tr>\n",
       "    <tr>\n",
       "      <th>1</th>\n",
       "      <td>2091</td>\n",
       "      <td>Christopher</td>\n",
       "      <td>Robinson</td>\n",
       "      <td>2003-04-09</td>\n",
       "      <td>2004-11-23</td>\n",
       "      <td>4795.34</td>\n",
       "      <td>NaN</td>\n",
       "      <td>cf</td>\n",
       "      <td>83</td>\n",
       "      <td>2</td>\n",
       "    </tr>\n",
       "    <tr>\n",
       "      <th>2</th>\n",
       "      <td>3410</td>\n",
       "      <td>Avery</td>\n",
       "      <td>Smith</td>\n",
       "      <td>1964-10-09</td>\n",
       "      <td>2015-08-24</td>\n",
       "      <td>4571.15</td>\n",
       "      <td>NaN</td>\n",
       "      <td>cf</td>\n",
       "      <td>4</td>\n",
       "      <td>15</td>\n",
       "    </tr>\n",
       "    <tr>\n",
       "      <th>3</th>\n",
       "      <td>7346</td>\n",
       "      <td>Ángel</td>\n",
       "      <td>Pérez</td>\n",
       "      <td>2001-09-07</td>\n",
       "      <td>2021-12-05</td>\n",
       "      <td>4541.82</td>\n",
       "      <td>NaN</td>\n",
       "      <td>cf</td>\n",
       "      <td>67</td>\n",
       "      <td>15</td>\n",
       "    </tr>\n",
       "    <tr>\n",
       "      <th>4</th>\n",
       "      <td>2019</td>\n",
       "      <td>Grace</td>\n",
       "      <td>Robinson</td>\n",
       "      <td>1954-05-07</td>\n",
       "      <td>2002-10-20</td>\n",
       "      <td>6097.44</td>\n",
       "      <td>NaN</td>\n",
       "      <td>cf</td>\n",
       "      <td>92</td>\n",
       "      <td>15</td>\n",
       "    </tr>\n",
       "  </tbody>\n",
       "</table>\n",
       "</div>"
      ],
      "text/plain": [
       "     id    firstname   lastname   birthdate  entry_date   salary  leave_date  \\\n",
       "0  3800       Kamila  Szymanska  1989-09-30  2023-07-29  5298.23         NaN   \n",
       "1  2091  Christopher   Robinson  2003-04-09  2004-11-23  4795.34         NaN   \n",
       "2  3410        Avery      Smith  1964-10-09  2015-08-24  4571.15         NaN   \n",
       "3  7346        Ángel      Pérez  2001-09-07  2021-12-05  4541.82         NaN   \n",
       "4  2019        Grace   Robinson  1954-05-07  2002-10-20  6097.44         NaN   \n",
       "\n",
       "  change_field  client_id  costcenter_id  \n",
       "0           cf         50             17  \n",
       "1           cf         83              2  \n",
       "2           cf          4             15  \n",
       "3           cf         67             15  \n",
       "4           cf         92             15  "
      ]
     },
     "execution_count": 140,
     "metadata": {},
     "output_type": "execute_result"
    }
   ],
   "source": [
    "INIT_EMPLOYEE_COUNT = 5000\n",
    "INIT_EMPLOYEE_TOTAL_COUNT = INIT_EMPLOYEE_COUNT * 6\n",
    "\n",
    "if not tbl_db_datev_employee.is_existing:\n",
    "    df_init = df_md_employee.sample(INIT_EMPLOYEE_COUNT)\n",
    "\n",
    "    df_init = pd_crossjoin(\n",
    "        df=df_init,\n",
    "        join_table=tbl_db_datev_clients,\n",
    "        id_column_name_jt=\"id\",\n",
    "        id_new_column_name=\"client_id\"\n",
    "    )\n",
    "\n",
    "    df_init = pd_crossjoin(\n",
    "        df=df_init,\n",
    "        join_table=tbl_db_datev_department,\n",
    "        id_column_name_jt=\"id\",\n",
    "        id_new_column_name=\"costcenter_id\"\n",
    "    )\n",
    "\n",
    "    df_init = df_init.sample(INIT_EMPLOYEE_TOTAL_COUNT)\n",
    "\n",
    "    tbl_db_datev_employee.save(df_init)\n",
    "\n",
    "df_db_datev_employee = tbl_db_datev_employee.read()\n",
    "df_db_datev_employee.head()"
   ]
  },
  {
   "cell_type": "markdown",
   "metadata": {},
   "source": [
    "#### Update Records"
   ]
  },
  {
   "cell_type": "code",
   "execution_count": 141,
   "metadata": {},
   "outputs": [
    {
     "name": "stdout",
     "output_type": "stream",
     "text": [
      "Updated Records (nrows=6):\n"
     ]
    },
    {
     "data": {
      "text/html": [
       "<div>\n",
       "<style scoped>\n",
       "    .dataframe tbody tr th:only-of-type {\n",
       "        vertical-align: middle;\n",
       "    }\n",
       "\n",
       "    .dataframe tbody tr th {\n",
       "        vertical-align: top;\n",
       "    }\n",
       "\n",
       "    .dataframe thead th {\n",
       "        text-align: right;\n",
       "    }\n",
       "</style>\n",
       "<table border=\"1\" class=\"dataframe\">\n",
       "  <thead>\n",
       "    <tr style=\"text-align: right;\">\n",
       "      <th></th>\n",
       "      <th>id</th>\n",
       "      <th>firstname</th>\n",
       "      <th>lastname</th>\n",
       "      <th>birthdate</th>\n",
       "      <th>entry_date</th>\n",
       "      <th>salary</th>\n",
       "      <th>leave_date</th>\n",
       "      <th>change_field</th>\n",
       "      <th>client_id</th>\n",
       "      <th>costcenter_id</th>\n",
       "    </tr>\n",
       "  </thead>\n",
       "  <tbody>\n",
       "    <tr>\n",
       "      <th>130</th>\n",
       "      <td>7329</td>\n",
       "      <td>Zofia</td>\n",
       "      <td>Nowak</td>\n",
       "      <td>1954-11-07</td>\n",
       "      <td>2001-11-02</td>\n",
       "      <td>4757.99</td>\n",
       "      <td>NaN</td>\n",
       "      <td>cf uc: 1</td>\n",
       "      <td>92</td>\n",
       "      <td>10</td>\n",
       "    </tr>\n",
       "    <tr>\n",
       "      <th>2724</th>\n",
       "      <td>7778</td>\n",
       "      <td>Mohammed</td>\n",
       "      <td>Ahmed</td>\n",
       "      <td>1960-03-18</td>\n",
       "      <td>2001-11-28</td>\n",
       "      <td>5177.48</td>\n",
       "      <td>NaN</td>\n",
       "      <td>cf uc: 1</td>\n",
       "      <td>67</td>\n",
       "      <td>2</td>\n",
       "    </tr>\n",
       "    <tr>\n",
       "      <th>3263</th>\n",
       "      <td>1057</td>\n",
       "      <td>Mia</td>\n",
       "      <td>Schuster</td>\n",
       "      <td>1958-11-09</td>\n",
       "      <td>1998-12-09</td>\n",
       "      <td>6420.99</td>\n",
       "      <td>NaN</td>\n",
       "      <td>cf uc: 1</td>\n",
       "      <td>87</td>\n",
       "      <td>17</td>\n",
       "    </tr>\n",
       "    <tr>\n",
       "      <th>3304</th>\n",
       "      <td>2357</td>\n",
       "      <td>Yuki</td>\n",
       "      <td>Takahashi</td>\n",
       "      <td>1985-02-21</td>\n",
       "      <td>2024-09-04</td>\n",
       "      <td>5195.86</td>\n",
       "      <td>NaN</td>\n",
       "      <td>cf uc: 1</td>\n",
       "      <td>92</td>\n",
       "      <td>17</td>\n",
       "    </tr>\n",
       "    <tr>\n",
       "      <th>3530</th>\n",
       "      <td>7329</td>\n",
       "      <td>Zofia</td>\n",
       "      <td>Nowak</td>\n",
       "      <td>1954-11-07</td>\n",
       "      <td>2001-11-02</td>\n",
       "      <td>4757.99</td>\n",
       "      <td>NaN</td>\n",
       "      <td>cf uc: 1</td>\n",
       "      <td>83</td>\n",
       "      <td>17</td>\n",
       "    </tr>\n",
       "    <tr>\n",
       "      <th>3631</th>\n",
       "      <td>2357</td>\n",
       "      <td>Yuki</td>\n",
       "      <td>Takahashi</td>\n",
       "      <td>1985-02-21</td>\n",
       "      <td>2024-09-04</td>\n",
       "      <td>5195.86</td>\n",
       "      <td>NaN</td>\n",
       "      <td>cf uc: 1</td>\n",
       "      <td>4</td>\n",
       "      <td>15</td>\n",
       "    </tr>\n",
       "    <tr>\n",
       "      <th>4180</th>\n",
       "      <td>1057</td>\n",
       "      <td>Mia</td>\n",
       "      <td>Schuster</td>\n",
       "      <td>1958-11-09</td>\n",
       "      <td>1998-12-09</td>\n",
       "      <td>6420.99</td>\n",
       "      <td>NaN</td>\n",
       "      <td>cf uc: 1</td>\n",
       "      <td>92</td>\n",
       "      <td>17</td>\n",
       "    </tr>\n",
       "    <tr>\n",
       "      <th>4493</th>\n",
       "      <td>7778</td>\n",
       "      <td>Mohammed</td>\n",
       "      <td>Ahmed</td>\n",
       "      <td>1960-03-18</td>\n",
       "      <td>2001-11-28</td>\n",
       "      <td>5177.48</td>\n",
       "      <td>NaN</td>\n",
       "      <td>cf uc: 1</td>\n",
       "      <td>63</td>\n",
       "      <td>17</td>\n",
       "    </tr>\n",
       "    <tr>\n",
       "      <th>4547</th>\n",
       "      <td>7778</td>\n",
       "      <td>Mohammed</td>\n",
       "      <td>Ahmed</td>\n",
       "      <td>1960-03-18</td>\n",
       "      <td>2001-11-28</td>\n",
       "      <td>5177.48</td>\n",
       "      <td>NaN</td>\n",
       "      <td>cf uc: 1</td>\n",
       "      <td>87</td>\n",
       "      <td>1</td>\n",
       "    </tr>\n",
       "    <tr>\n",
       "      <th>4941</th>\n",
       "      <td>7329</td>\n",
       "      <td>Zofia</td>\n",
       "      <td>Nowak</td>\n",
       "      <td>1954-11-07</td>\n",
       "      <td>2001-11-02</td>\n",
       "      <td>4757.99</td>\n",
       "      <td>NaN</td>\n",
       "      <td>cf uc: 1</td>\n",
       "      <td>67</td>\n",
       "      <td>10</td>\n",
       "    </tr>\n",
       "    <tr>\n",
       "      <th>5350</th>\n",
       "      <td>1057</td>\n",
       "      <td>Mia</td>\n",
       "      <td>Schuster</td>\n",
       "      <td>1958-11-09</td>\n",
       "      <td>1998-12-09</td>\n",
       "      <td>6420.99</td>\n",
       "      <td>NaN</td>\n",
       "      <td>cf uc: 1</td>\n",
       "      <td>63</td>\n",
       "      <td>15</td>\n",
       "    </tr>\n",
       "    <tr>\n",
       "      <th>6757</th>\n",
       "      <td>1057</td>\n",
       "      <td>Mia</td>\n",
       "      <td>Schuster</td>\n",
       "      <td>1958-11-09</td>\n",
       "      <td>1998-12-09</td>\n",
       "      <td>6420.99</td>\n",
       "      <td>NaN</td>\n",
       "      <td>cf uc: 1</td>\n",
       "      <td>50</td>\n",
       "      <td>17</td>\n",
       "    </tr>\n",
       "    <tr>\n",
       "      <th>8048</th>\n",
       "      <td>7934</td>\n",
       "      <td>Isabella</td>\n",
       "      <td>Smith</td>\n",
       "      <td>1964-04-29</td>\n",
       "      <td>2025-03-03</td>\n",
       "      <td>5933.04</td>\n",
       "      <td>NaN</td>\n",
       "      <td>cf uc: 1</td>\n",
       "      <td>50</td>\n",
       "      <td>17</td>\n",
       "    </tr>\n",
       "    <tr>\n",
       "      <th>8358</th>\n",
       "      <td>1419</td>\n",
       "      <td>Sophia</td>\n",
       "      <td>Harris</td>\n",
       "      <td>1989-06-10</td>\n",
       "      <td>1997-09-19</td>\n",
       "      <td>6230.17</td>\n",
       "      <td>NaN</td>\n",
       "      <td>cf uc: 1</td>\n",
       "      <td>92</td>\n",
       "      <td>2</td>\n",
       "    </tr>\n",
       "    <tr>\n",
       "      <th>9116</th>\n",
       "      <td>1419</td>\n",
       "      <td>Sophia</td>\n",
       "      <td>Harris</td>\n",
       "      <td>1989-06-10</td>\n",
       "      <td>1997-09-19</td>\n",
       "      <td>6230.17</td>\n",
       "      <td>NaN</td>\n",
       "      <td>cf uc: 1</td>\n",
       "      <td>83</td>\n",
       "      <td>15</td>\n",
       "    </tr>\n",
       "    <tr>\n",
       "      <th>9661</th>\n",
       "      <td>7778</td>\n",
       "      <td>Mohammed</td>\n",
       "      <td>Ahmed</td>\n",
       "      <td>1960-03-18</td>\n",
       "      <td>2001-11-28</td>\n",
       "      <td>5177.48</td>\n",
       "      <td>NaN</td>\n",
       "      <td>cf uc: 1</td>\n",
       "      <td>92</td>\n",
       "      <td>10</td>\n",
       "    </tr>\n",
       "    <tr>\n",
       "      <th>10035</th>\n",
       "      <td>1057</td>\n",
       "      <td>Mia</td>\n",
       "      <td>Schuster</td>\n",
       "      <td>1958-11-09</td>\n",
       "      <td>1998-12-09</td>\n",
       "      <td>6420.99</td>\n",
       "      <td>NaN</td>\n",
       "      <td>cf uc: 1</td>\n",
       "      <td>50</td>\n",
       "      <td>10</td>\n",
       "    </tr>\n",
       "    <tr>\n",
       "      <th>11284</th>\n",
       "      <td>2357</td>\n",
       "      <td>Yuki</td>\n",
       "      <td>Takahashi</td>\n",
       "      <td>1985-02-21</td>\n",
       "      <td>2024-09-04</td>\n",
       "      <td>5195.86</td>\n",
       "      <td>NaN</td>\n",
       "      <td>cf uc: 1</td>\n",
       "      <td>4</td>\n",
       "      <td>17</td>\n",
       "    </tr>\n",
       "    <tr>\n",
       "      <th>11706</th>\n",
       "      <td>7934</td>\n",
       "      <td>Isabella</td>\n",
       "      <td>Smith</td>\n",
       "      <td>1964-04-29</td>\n",
       "      <td>2025-03-03</td>\n",
       "      <td>5933.04</td>\n",
       "      <td>NaN</td>\n",
       "      <td>cf uc: 1</td>\n",
       "      <td>83</td>\n",
       "      <td>10</td>\n",
       "    </tr>\n",
       "    <tr>\n",
       "      <th>12585</th>\n",
       "      <td>7934</td>\n",
       "      <td>Isabella</td>\n",
       "      <td>Smith</td>\n",
       "      <td>1964-04-29</td>\n",
       "      <td>2025-03-03</td>\n",
       "      <td>5933.04</td>\n",
       "      <td>NaN</td>\n",
       "      <td>cf uc: 1</td>\n",
       "      <td>67</td>\n",
       "      <td>17</td>\n",
       "    </tr>\n",
       "    <tr>\n",
       "      <th>14708</th>\n",
       "      <td>7778</td>\n",
       "      <td>Mohammed</td>\n",
       "      <td>Ahmed</td>\n",
       "      <td>1960-03-18</td>\n",
       "      <td>2001-11-28</td>\n",
       "      <td>5177.48</td>\n",
       "      <td>NaN</td>\n",
       "      <td>cf uc: 1</td>\n",
       "      <td>63</td>\n",
       "      <td>2</td>\n",
       "    </tr>\n",
       "    <tr>\n",
       "      <th>16259</th>\n",
       "      <td>2357</td>\n",
       "      <td>Yuki</td>\n",
       "      <td>Takahashi</td>\n",
       "      <td>1985-02-21</td>\n",
       "      <td>2024-09-04</td>\n",
       "      <td>5195.86</td>\n",
       "      <td>NaN</td>\n",
       "      <td>cf uc: 1</td>\n",
       "      <td>3</td>\n",
       "      <td>15</td>\n",
       "    </tr>\n",
       "    <tr>\n",
       "      <th>16315</th>\n",
       "      <td>1057</td>\n",
       "      <td>Mia</td>\n",
       "      <td>Schuster</td>\n",
       "      <td>1958-11-09</td>\n",
       "      <td>1998-12-09</td>\n",
       "      <td>6420.99</td>\n",
       "      <td>NaN</td>\n",
       "      <td>cf uc: 1</td>\n",
       "      <td>4</td>\n",
       "      <td>1</td>\n",
       "    </tr>\n",
       "    <tr>\n",
       "      <th>16855</th>\n",
       "      <td>2357</td>\n",
       "      <td>Yuki</td>\n",
       "      <td>Takahashi</td>\n",
       "      <td>1985-02-21</td>\n",
       "      <td>2024-09-04</td>\n",
       "      <td>5195.86</td>\n",
       "      <td>NaN</td>\n",
       "      <td>cf uc: 1</td>\n",
       "      <td>83</td>\n",
       "      <td>15</td>\n",
       "    </tr>\n",
       "    <tr>\n",
       "      <th>17203</th>\n",
       "      <td>1057</td>\n",
       "      <td>Mia</td>\n",
       "      <td>Schuster</td>\n",
       "      <td>1958-11-09</td>\n",
       "      <td>1998-12-09</td>\n",
       "      <td>6420.99</td>\n",
       "      <td>NaN</td>\n",
       "      <td>cf uc: 1</td>\n",
       "      <td>83</td>\n",
       "      <td>1</td>\n",
       "    </tr>\n",
       "    <tr>\n",
       "      <th>17234</th>\n",
       "      <td>1419</td>\n",
       "      <td>Sophia</td>\n",
       "      <td>Harris</td>\n",
       "      <td>1989-06-10</td>\n",
       "      <td>1997-09-19</td>\n",
       "      <td>6230.17</td>\n",
       "      <td>NaN</td>\n",
       "      <td>cf uc: 1</td>\n",
       "      <td>67</td>\n",
       "      <td>2</td>\n",
       "    </tr>\n",
       "    <tr>\n",
       "      <th>18286</th>\n",
       "      <td>2357</td>\n",
       "      <td>Yuki</td>\n",
       "      <td>Takahashi</td>\n",
       "      <td>1985-02-21</td>\n",
       "      <td>2024-09-04</td>\n",
       "      <td>5195.86</td>\n",
       "      <td>NaN</td>\n",
       "      <td>cf uc: 1</td>\n",
       "      <td>87</td>\n",
       "      <td>15</td>\n",
       "    </tr>\n",
       "    <tr>\n",
       "      <th>18876</th>\n",
       "      <td>1419</td>\n",
       "      <td>Sophia</td>\n",
       "      <td>Harris</td>\n",
       "      <td>1989-06-10</td>\n",
       "      <td>1997-09-19</td>\n",
       "      <td>6230.17</td>\n",
       "      <td>NaN</td>\n",
       "      <td>cf uc: 1</td>\n",
       "      <td>67</td>\n",
       "      <td>1</td>\n",
       "    </tr>\n",
       "    <tr>\n",
       "      <th>19617</th>\n",
       "      <td>2357</td>\n",
       "      <td>Yuki</td>\n",
       "      <td>Takahashi</td>\n",
       "      <td>1985-02-21</td>\n",
       "      <td>2024-09-04</td>\n",
       "      <td>5195.86</td>\n",
       "      <td>NaN</td>\n",
       "      <td>cf uc: 1</td>\n",
       "      <td>27</td>\n",
       "      <td>2</td>\n",
       "    </tr>\n",
       "    <tr>\n",
       "      <th>20439</th>\n",
       "      <td>1057</td>\n",
       "      <td>Mia</td>\n",
       "      <td>Schuster</td>\n",
       "      <td>1958-11-09</td>\n",
       "      <td>1998-12-09</td>\n",
       "      <td>6420.99</td>\n",
       "      <td>NaN</td>\n",
       "      <td>cf uc: 1</td>\n",
       "      <td>67</td>\n",
       "      <td>2</td>\n",
       "    </tr>\n",
       "    <tr>\n",
       "      <th>20463</th>\n",
       "      <td>7329</td>\n",
       "      <td>Zofia</td>\n",
       "      <td>Nowak</td>\n",
       "      <td>1954-11-07</td>\n",
       "      <td>2001-11-02</td>\n",
       "      <td>4757.99</td>\n",
       "      <td>NaN</td>\n",
       "      <td>cf uc: 1</td>\n",
       "      <td>50</td>\n",
       "      <td>2</td>\n",
       "    </tr>\n",
       "    <tr>\n",
       "      <th>22499</th>\n",
       "      <td>7778</td>\n",
       "      <td>Mohammed</td>\n",
       "      <td>Ahmed</td>\n",
       "      <td>1960-03-18</td>\n",
       "      <td>2001-11-28</td>\n",
       "      <td>5177.48</td>\n",
       "      <td>NaN</td>\n",
       "      <td>cf uc: 1</td>\n",
       "      <td>67</td>\n",
       "      <td>15</td>\n",
       "    </tr>\n",
       "    <tr>\n",
       "      <th>23531</th>\n",
       "      <td>2357</td>\n",
       "      <td>Yuki</td>\n",
       "      <td>Takahashi</td>\n",
       "      <td>1985-02-21</td>\n",
       "      <td>2024-09-04</td>\n",
       "      <td>5195.86</td>\n",
       "      <td>NaN</td>\n",
       "      <td>cf uc: 1</td>\n",
       "      <td>63</td>\n",
       "      <td>15</td>\n",
       "    </tr>\n",
       "    <tr>\n",
       "      <th>24321</th>\n",
       "      <td>7934</td>\n",
       "      <td>Isabella</td>\n",
       "      <td>Smith</td>\n",
       "      <td>1964-04-29</td>\n",
       "      <td>2025-03-03</td>\n",
       "      <td>5933.04</td>\n",
       "      <td>NaN</td>\n",
       "      <td>cf uc: 1</td>\n",
       "      <td>87</td>\n",
       "      <td>17</td>\n",
       "    </tr>\n",
       "    <tr>\n",
       "      <th>24743</th>\n",
       "      <td>2357</td>\n",
       "      <td>Yuki</td>\n",
       "      <td>Takahashi</td>\n",
       "      <td>1985-02-21</td>\n",
       "      <td>2024-09-04</td>\n",
       "      <td>5195.86</td>\n",
       "      <td>NaN</td>\n",
       "      <td>cf uc: 1</td>\n",
       "      <td>50</td>\n",
       "      <td>10</td>\n",
       "    </tr>\n",
       "    <tr>\n",
       "      <th>25711</th>\n",
       "      <td>7934</td>\n",
       "      <td>Isabella</td>\n",
       "      <td>Smith</td>\n",
       "      <td>1964-04-29</td>\n",
       "      <td>2025-03-03</td>\n",
       "      <td>5933.04</td>\n",
       "      <td>NaN</td>\n",
       "      <td>cf uc: 1</td>\n",
       "      <td>63</td>\n",
       "      <td>15</td>\n",
       "    </tr>\n",
       "    <tr>\n",
       "      <th>27242</th>\n",
       "      <td>7934</td>\n",
       "      <td>Isabella</td>\n",
       "      <td>Smith</td>\n",
       "      <td>1964-04-29</td>\n",
       "      <td>2025-03-03</td>\n",
       "      <td>5933.04</td>\n",
       "      <td>NaN</td>\n",
       "      <td>cf uc: 1</td>\n",
       "      <td>4</td>\n",
       "      <td>17</td>\n",
       "    </tr>\n",
       "  </tbody>\n",
       "</table>\n",
       "</div>"
      ],
      "text/plain": [
       "         id firstname   lastname   birthdate  entry_date   salary  leave_date  \\\n",
       "130    7329     Zofia      Nowak  1954-11-07  2001-11-02  4757.99         NaN   \n",
       "2724   7778  Mohammed      Ahmed  1960-03-18  2001-11-28  5177.48         NaN   \n",
       "3263   1057       Mia   Schuster  1958-11-09  1998-12-09  6420.99         NaN   \n",
       "3304   2357      Yuki  Takahashi  1985-02-21  2024-09-04  5195.86         NaN   \n",
       "3530   7329     Zofia      Nowak  1954-11-07  2001-11-02  4757.99         NaN   \n",
       "3631   2357      Yuki  Takahashi  1985-02-21  2024-09-04  5195.86         NaN   \n",
       "4180   1057       Mia   Schuster  1958-11-09  1998-12-09  6420.99         NaN   \n",
       "4493   7778  Mohammed      Ahmed  1960-03-18  2001-11-28  5177.48         NaN   \n",
       "4547   7778  Mohammed      Ahmed  1960-03-18  2001-11-28  5177.48         NaN   \n",
       "4941   7329     Zofia      Nowak  1954-11-07  2001-11-02  4757.99         NaN   \n",
       "5350   1057       Mia   Schuster  1958-11-09  1998-12-09  6420.99         NaN   \n",
       "6757   1057       Mia   Schuster  1958-11-09  1998-12-09  6420.99         NaN   \n",
       "8048   7934  Isabella      Smith  1964-04-29  2025-03-03  5933.04         NaN   \n",
       "8358   1419    Sophia     Harris  1989-06-10  1997-09-19  6230.17         NaN   \n",
       "9116   1419    Sophia     Harris  1989-06-10  1997-09-19  6230.17         NaN   \n",
       "9661   7778  Mohammed      Ahmed  1960-03-18  2001-11-28  5177.48         NaN   \n",
       "10035  1057       Mia   Schuster  1958-11-09  1998-12-09  6420.99         NaN   \n",
       "11284  2357      Yuki  Takahashi  1985-02-21  2024-09-04  5195.86         NaN   \n",
       "11706  7934  Isabella      Smith  1964-04-29  2025-03-03  5933.04         NaN   \n",
       "12585  7934  Isabella      Smith  1964-04-29  2025-03-03  5933.04         NaN   \n",
       "14708  7778  Mohammed      Ahmed  1960-03-18  2001-11-28  5177.48         NaN   \n",
       "16259  2357      Yuki  Takahashi  1985-02-21  2024-09-04  5195.86         NaN   \n",
       "16315  1057       Mia   Schuster  1958-11-09  1998-12-09  6420.99         NaN   \n",
       "16855  2357      Yuki  Takahashi  1985-02-21  2024-09-04  5195.86         NaN   \n",
       "17203  1057       Mia   Schuster  1958-11-09  1998-12-09  6420.99         NaN   \n",
       "17234  1419    Sophia     Harris  1989-06-10  1997-09-19  6230.17         NaN   \n",
       "18286  2357      Yuki  Takahashi  1985-02-21  2024-09-04  5195.86         NaN   \n",
       "18876  1419    Sophia     Harris  1989-06-10  1997-09-19  6230.17         NaN   \n",
       "19617  2357      Yuki  Takahashi  1985-02-21  2024-09-04  5195.86         NaN   \n",
       "20439  1057       Mia   Schuster  1958-11-09  1998-12-09  6420.99         NaN   \n",
       "20463  7329     Zofia      Nowak  1954-11-07  2001-11-02  4757.99         NaN   \n",
       "22499  7778  Mohammed      Ahmed  1960-03-18  2001-11-28  5177.48         NaN   \n",
       "23531  2357      Yuki  Takahashi  1985-02-21  2024-09-04  5195.86         NaN   \n",
       "24321  7934  Isabella      Smith  1964-04-29  2025-03-03  5933.04         NaN   \n",
       "24743  2357      Yuki  Takahashi  1985-02-21  2024-09-04  5195.86         NaN   \n",
       "25711  7934  Isabella      Smith  1964-04-29  2025-03-03  5933.04         NaN   \n",
       "27242  7934  Isabella      Smith  1964-04-29  2025-03-03  5933.04         NaN   \n",
       "\n",
       "      change_field  client_id  costcenter_id  \n",
       "130       cf uc: 1         92             10  \n",
       "2724      cf uc: 1         67              2  \n",
       "3263      cf uc: 1         87             17  \n",
       "3304      cf uc: 1         92             17  \n",
       "3530      cf uc: 1         83             17  \n",
       "3631      cf uc: 1          4             15  \n",
       "4180      cf uc: 1         92             17  \n",
       "4493      cf uc: 1         63             17  \n",
       "4547      cf uc: 1         87              1  \n",
       "4941      cf uc: 1         67             10  \n",
       "5350      cf uc: 1         63             15  \n",
       "6757      cf uc: 1         50             17  \n",
       "8048      cf uc: 1         50             17  \n",
       "8358      cf uc: 1         92              2  \n",
       "9116      cf uc: 1         83             15  \n",
       "9661      cf uc: 1         92             10  \n",
       "10035     cf uc: 1         50             10  \n",
       "11284     cf uc: 1          4             17  \n",
       "11706     cf uc: 1         83             10  \n",
       "12585     cf uc: 1         67             17  \n",
       "14708     cf uc: 1         63              2  \n",
       "16259     cf uc: 1          3             15  \n",
       "16315     cf uc: 1          4              1  \n",
       "16855     cf uc: 1         83             15  \n",
       "17203     cf uc: 1         83              1  \n",
       "17234     cf uc: 1         67              2  \n",
       "18286     cf uc: 1         87             15  \n",
       "18876     cf uc: 1         67              1  \n",
       "19617     cf uc: 1         27              2  \n",
       "20439     cf uc: 1         67              2  \n",
       "20463     cf uc: 1         50              2  \n",
       "22499     cf uc: 1         67             15  \n",
       "23531     cf uc: 1         63             15  \n",
       "24321     cf uc: 1         87             17  \n",
       "24743     cf uc: 1         50             10  \n",
       "25711     cf uc: 1         63             15  \n",
       "27242     cf uc: 1          4             17  "
      ]
     },
     "metadata": {},
     "output_type": "display_data"
    },
    {
     "name": "stdout",
     "output_type": "stream",
     "text": [
      "[2023-12-20 23:39:16] TABLE successfully saved at: ./datev.dbo.employee.csv   SHAPE: (30042, 10)\n"
     ]
    }
   ],
   "source": [
    "update_record_count = random.choice(range(0, 7))\n",
    "\n",
    "df_db_datev_employee = pd_update_rows(\n",
    "    df=df_db_datev_employee,\n",
    "    nrows=update_record_count\n",
    ")\n",
    "\n",
    "tbl_db_datev_employee.save(df_db_datev_employee)"
   ]
  },
  {
   "cell_type": "markdown",
   "metadata": {},
   "source": [
    "#### Add Records"
   ]
  },
  {
   "cell_type": "code",
   "execution_count": 142,
   "metadata": {},
   "outputs": [
    {
     "name": "stdout",
     "output_type": "stream",
     "text": [
      "New Records (nrows=2):\n"
     ]
    },
    {
     "data": {
      "text/html": [
       "<div>\n",
       "<style scoped>\n",
       "    .dataframe tbody tr th:only-of-type {\n",
       "        vertical-align: middle;\n",
       "    }\n",
       "\n",
       "    .dataframe tbody tr th {\n",
       "        vertical-align: top;\n",
       "    }\n",
       "\n",
       "    .dataframe thead th {\n",
       "        text-align: right;\n",
       "    }\n",
       "</style>\n",
       "<table border=\"1\" class=\"dataframe\">\n",
       "  <thead>\n",
       "    <tr style=\"text-align: right;\">\n",
       "      <th></th>\n",
       "      <th>id</th>\n",
       "      <th>firstname</th>\n",
       "      <th>lastname</th>\n",
       "      <th>birthdate</th>\n",
       "      <th>entry_date</th>\n",
       "      <th>salary</th>\n",
       "      <th>leave_date</th>\n",
       "      <th>change_field</th>\n",
       "      <th>client_id</th>\n",
       "      <th>costcenter_id</th>\n",
       "    </tr>\n",
       "  </thead>\n",
       "  <tbody>\n",
       "    <tr>\n",
       "      <th>1295</th>\n",
       "      <td>5982</td>\n",
       "      <td>Lara</td>\n",
       "      <td>Müller</td>\n",
       "      <td>1979-05-15</td>\n",
       "      <td>2014-05-11</td>\n",
       "      <td>4767.35</td>\n",
       "      <td>NaT</td>\n",
       "      <td>cf</td>\n",
       "      <td>4</td>\n",
       "      <td>14</td>\n",
       "    </tr>\n",
       "    <tr>\n",
       "      <th>1650</th>\n",
       "      <td>5982</td>\n",
       "      <td>Lara</td>\n",
       "      <td>Müller</td>\n",
       "      <td>1979-05-15</td>\n",
       "      <td>2014-05-11</td>\n",
       "      <td>4767.35</td>\n",
       "      <td>NaT</td>\n",
       "      <td>cf</td>\n",
       "      <td>73</td>\n",
       "      <td>17</td>\n",
       "    </tr>\n",
       "  </tbody>\n",
       "</table>\n",
       "</div>"
      ],
      "text/plain": [
       "        id firstname lastname   birthdate  entry_date   salary leave_date  \\\n",
       "1295  5982      Lara   Müller  1979-05-15  2014-05-11  4767.35        NaT   \n",
       "1650  5982      Lara   Müller  1979-05-15  2014-05-11  4767.35        NaT   \n",
       "\n",
       "     change_field  client_id  costcenter_id  \n",
       "1295           cf          4             14  \n",
       "1650           cf         73             17  "
      ]
     },
     "metadata": {},
     "output_type": "display_data"
    },
    {
     "name": "stdout",
     "output_type": "stream",
     "text": [
      "[2023-12-20 23:39:16] TABLE successfully saved at: ./datev.dbo.employee.csv   SHAPE: (30044, 10)\n"
     ]
    }
   ],
   "source": [
    "add_record_count = random.choice(range(2, 20)) if ADD_RECORDS_THIS_RUN else 0\n",
    "\n",
    "df_db_datev_employee = pd_add_rows(\n",
    "    df=df_db_datev_employee,\n",
    "    df_md=df_md_employee,\n",
    "    nrows=add_record_count,\n",
    "    crossjoin_tables=[tbl_db_datev_clients, tbl_db_datev_department],\n",
    "    id_columns=[\"id\", \"client_id\", \"costcenter_id\"]\n",
    ")\n",
    "\n",
    "tbl_db_datev_employee.save(df_db_datev_employee)"
   ]
  },
  {
   "cell_type": "markdown",
   "metadata": {},
   "source": [
    "### dbo.paytype [Frozen Master Data Table]"
   ]
  },
  {
   "cell_type": "markdown",
   "metadata": {},
   "source": [
    "#### Create"
   ]
  },
  {
   "cell_type": "code",
   "execution_count": 143,
   "metadata": {},
   "outputs": [
    {
     "name": "stdout",
     "output_type": "stream",
     "text": [
      "[2023-12-20 23:39:16] TABLE successfully saved at: ./datev.dbo.pay_type.csv   SHAPE: (8, 3)\n"
     ]
    },
    {
     "data": {
      "text/html": [
       "<div>\n",
       "<style scoped>\n",
       "    .dataframe tbody tr th:only-of-type {\n",
       "        vertical-align: middle;\n",
       "    }\n",
       "\n",
       "    .dataframe tbody tr th {\n",
       "        vertical-align: top;\n",
       "    }\n",
       "\n",
       "    .dataframe thead th {\n",
       "        text-align: right;\n",
       "    }\n",
       "</style>\n",
       "<table border=\"1\" class=\"dataframe\">\n",
       "  <thead>\n",
       "    <tr style=\"text-align: right;\">\n",
       "      <th></th>\n",
       "      <th>id</th>\n",
       "      <th>name</th>\n",
       "      <th>salary_factor</th>\n",
       "    </tr>\n",
       "  </thead>\n",
       "  <tbody>\n",
       "    <tr>\n",
       "      <th>0</th>\n",
       "      <td>1</td>\n",
       "      <td>Basisgehalt</td>\n",
       "      <td>1.000</td>\n",
       "    </tr>\n",
       "    <tr>\n",
       "      <th>1</th>\n",
       "      <td>2</td>\n",
       "      <td>AG-Anteil</td>\n",
       "      <td>0.175</td>\n",
       "    </tr>\n",
       "    <tr>\n",
       "      <th>2</th>\n",
       "      <td>3</td>\n",
       "      <td>Lohnsteuer</td>\n",
       "      <td>0.150</td>\n",
       "    </tr>\n",
       "    <tr>\n",
       "      <th>3</th>\n",
       "      <td>4</td>\n",
       "      <td>Soli-Zuschlag</td>\n",
       "      <td>0.125</td>\n",
       "    </tr>\n",
       "    <tr>\n",
       "      <th>4</th>\n",
       "      <td>5</td>\n",
       "      <td>Krankenk.</td>\n",
       "      <td>0.100</td>\n",
       "    </tr>\n",
       "    <tr>\n",
       "      <th>5</th>\n",
       "      <td>6</td>\n",
       "      <td>Pflegevers.</td>\n",
       "      <td>0.075</td>\n",
       "    </tr>\n",
       "    <tr>\n",
       "      <th>6</th>\n",
       "      <td>7</td>\n",
       "      <td>Arbeitslosenvers.</td>\n",
       "      <td>0.050</td>\n",
       "    </tr>\n",
       "    <tr>\n",
       "      <th>7</th>\n",
       "      <td>8</td>\n",
       "      <td>Rentenvers.</td>\n",
       "      <td>0.025</td>\n",
       "    </tr>\n",
       "  </tbody>\n",
       "</table>\n",
       "</div>"
      ],
      "text/plain": [
       "   id               name  salary_factor\n",
       "0   1        Basisgehalt          1.000\n",
       "1   2          AG-Anteil          0.175\n",
       "2   3         Lohnsteuer          0.150\n",
       "3   4      Soli-Zuschlag          0.125\n",
       "4   5          Krankenk.          0.100\n",
       "5   6        Pflegevers.          0.075\n",
       "6   7  Arbeitslosenvers.          0.050\n",
       "7   8        Rentenvers.          0.025"
      ]
     },
     "execution_count": 143,
     "metadata": {},
     "output_type": "execute_result"
    }
   ],
   "source": [
    "paytype_list = [\n",
    "    \"Basisgehalt\",\n",
    "    \"AG-Anteil\",\n",
    "    \"Lohnsteuer\",\n",
    "    \"Soli-Zuschlag\",\n",
    "    \"Krankenk.\",\n",
    "    \"Pflegevers.\",\n",
    "    \"Arbeitslosenvers.\",\n",
    "    \"Rentenvers.\"\n",
    "]\n",
    "\n",
    "paytype_factor = [1.] + [(len(paytype_list) - i) * 0.025 for i in range(1, len(paytype_list))]\n",
    "\n",
    "df_paytype = pd.DataFrame({\n",
    "    \"id\": [i for i in range(1, len(paytype_list) + 1)],\n",
    "    \"name\": paytype_list,\n",
    "    \"salary_factor\": paytype_factor\n",
    "})\n",
    "\n",
    "tbl_db_datev_paytype.save(df_paytype)\n",
    "tbl_db_datev_paytype.read()"
   ]
  },
  {
   "cell_type": "markdown",
   "metadata": {},
   "source": [
    "### dbo.employee_pay [Transaction Table]"
   ]
  },
  {
   "cell_type": "markdown",
   "metadata": {},
   "source": [
    "#### Create Big Tansaction Table"
   ]
  },
  {
   "cell_type": "code",
   "execution_count": 144,
   "metadata": {},
   "outputs": [
    {
     "name": "stdout",
     "output_type": "stream",
     "text": [
      "[2023-12-20 23:39:50] TABLE successfully saved at: ./datev.dbo.employee_pay.csv   SHAPE: (240352, 156)\n",
      "[2023-12-20 23:40:07] TABLE successfully saved at: ./datev.dbo.employee_pay.csv   SHAPE: (240352, 156)\n",
      "[2023-12-20 23:40:24] TABLE successfully saved at: ./datev.dbo.employee_pay.csv   SHAPE: (240352, 156)\n",
      "[2023-12-20 23:40:40] TABLE successfully saved at: ./datev.dbo.employee_pay.csv   SHAPE: (240352, 156)\n",
      "[2023-12-20 23:40:57] TABLE successfully saved at: ./datev.dbo.employee_pay.csv   SHAPE: (240352, 156)\n",
      "[2023-12-20 23:41:13] TABLE successfully saved at: ./datev.dbo.employee_pay.csv   SHAPE: (240352, 156)\n",
      "[2023-12-20 23:41:30] TABLE successfully saved at: ./datev.dbo.employee_pay.csv   SHAPE: (240352, 156)\n",
      "[2023-12-20 23:41:47] TABLE successfully saved at: ./datev.dbo.employee_pay.csv   SHAPE: (240352, 156)\n",
      "[2023-12-20 23:42:03] TABLE successfully saved at: ./datev.dbo.employee_pay.csv   SHAPE: (240352, 156)\n",
      "[2023-12-20 23:42:20] TABLE successfully saved at: ./datev.dbo.employee_pay.csv   SHAPE: (240352, 156)\n",
      "[2023-12-20 23:42:36] TABLE successfully saved at: ./datev.dbo.employee_pay.csv   SHAPE: (240352, 156)\n",
      "[2023-12-20 23:42:53] TABLE successfully saved at: ./datev.dbo.employee_pay.csv   SHAPE: (240352, 156)\n",
      "[2023-12-20 23:43:09] TABLE successfully saved at: ./datev.dbo.employee_pay.csv   SHAPE: (240352, 156)\n",
      "[2023-12-20 23:43:26] TABLE successfully saved at: ./datev.dbo.employee_pay.csv   SHAPE: (240352, 156)\n",
      "[2023-12-20 23:43:43] TABLE successfully saved at: ./datev.dbo.employee_pay.csv   SHAPE: (240352, 156)\n",
      "[2023-12-20 23:43:59] TABLE successfully saved at: ./datev.dbo.employee_pay.csv   SHAPE: (240352, 156)\n",
      "[2023-12-20 23:44:16] TABLE successfully saved at: ./datev.dbo.employee_pay.csv   SHAPE: (240352, 156)\n",
      "[2023-12-20 23:44:32] TABLE successfully saved at: ./datev.dbo.employee_pay.csv   SHAPE: (240352, 156)\n",
      "[2023-12-20 23:44:48] TABLE successfully saved at: ./datev.dbo.employee_pay.csv   SHAPE: (240352, 156)\n",
      "[2023-12-20 23:45:05] TABLE successfully saved at: ./datev.dbo.employee_pay.csv   SHAPE: (240352, 156)\n",
      "[2023-12-20 23:45:22] TABLE successfully saved at: ./datev.dbo.employee_pay.csv   SHAPE: (240352, 156)\n",
      "[2023-12-20 23:45:38] TABLE successfully saved at: ./datev.dbo.employee_pay.csv   SHAPE: (240352, 156)\n",
      "[2023-12-20 23:45:55] TABLE successfully saved at: ./datev.dbo.employee_pay.csv   SHAPE: (240352, 156)\n",
      "[2023-12-20 23:46:11] TABLE successfully saved at: ./datev.dbo.employee_pay.csv   SHAPE: (240352, 156)\n",
      "[2023-12-20 23:46:27] TABLE successfully saved at: ./datev.dbo.employee_pay.csv   SHAPE: (240352, 156)\n",
      "[2023-12-20 23:46:44] TABLE successfully saved at: ./datev.dbo.employee_pay.csv   SHAPE: (240352, 156)\n",
      "[2023-12-20 23:47:01] TABLE successfully saved at: ./datev.dbo.employee_pay.csv   SHAPE: (240352, 156)\n",
      "[2023-12-20 23:47:17] TABLE successfully saved at: ./datev.dbo.employee_pay.csv   SHAPE: (240352, 156)\n",
      "[2023-12-20 23:47:34] TABLE successfully saved at: ./datev.dbo.employee_pay.csv   SHAPE: (240352, 156)\n",
      "[2023-12-20 23:47:50] TABLE successfully saved at: ./datev.dbo.employee_pay.csv   SHAPE: (240352, 156)\n",
      "[2023-12-20 23:48:06] TABLE successfully saved at: ./datev.dbo.employee_pay.csv   SHAPE: (240352, 156)\n",
      "[2023-12-20 23:48:23] TABLE successfully saved at: ./datev.dbo.employee_pay.csv   SHAPE: (240352, 156)\n",
      "[2023-12-20 23:48:40] TABLE successfully saved at: ./datev.dbo.employee_pay.csv   SHAPE: (240352, 156)\n",
      "[2023-12-20 23:48:56] TABLE successfully saved at: ./datev.dbo.employee_pay.csv   SHAPE: (240352, 156)\n",
      "[2023-12-20 23:49:13] TABLE successfully saved at: ./datev.dbo.employee_pay.csv   SHAPE: (240352, 156)\n",
      "[2023-12-20 23:49:29] TABLE successfully saved at: ./datev.dbo.employee_pay.csv   SHAPE: (240352, 156)\n",
      "[2023-12-20 23:49:46] TABLE successfully saved at: ./datev.dbo.employee_pay.csv   SHAPE: (240352, 156)\n",
      "[2023-12-20 23:50:02] TABLE successfully saved at: ./datev.dbo.employee_pay.csv   SHAPE: (240352, 156)\n",
      "[2023-12-20 23:50:18] TABLE successfully saved at: ./datev.dbo.employee_pay.csv   SHAPE: (240352, 156)\n",
      "[2023-12-20 23:50:35] TABLE successfully saved at: ./datev.dbo.employee_pay.csv   SHAPE: (240352, 156)\n",
      "[2023-12-20 23:50:51] TABLE successfully saved at: ./datev.dbo.employee_pay.csv   SHAPE: (240352, 156)\n",
      "[2023-12-20 23:51:08] TABLE successfully saved at: ./datev.dbo.employee_pay.csv   SHAPE: (240352, 156)\n",
      "[2023-12-20 23:51:24] TABLE successfully saved at: ./datev.dbo.employee_pay.csv   SHAPE: (240352, 156)\n",
      "[2023-12-20 23:51:41] TABLE successfully saved at: ./datev.dbo.employee_pay.csv   SHAPE: (240352, 156)\n",
      "[2023-12-20 23:51:58] TABLE successfully saved at: ./datev.dbo.employee_pay.csv   SHAPE: (240352, 156)\n",
      "[2023-12-20 23:52:14] TABLE successfully saved at: ./datev.dbo.employee_pay.csv   SHAPE: (240352, 156)\n",
      "[2023-12-20 23:52:31] TABLE successfully saved at: ./datev.dbo.employee_pay.csv   SHAPE: (240352, 156)\n",
      "[2023-12-20 23:52:47] TABLE successfully saved at: ./datev.dbo.employee_pay.csv   SHAPE: (240352, 156)\n",
      "[2023-12-20 23:53:04] TABLE successfully saved at: ./datev.dbo.employee_pay.csv   SHAPE: (240352, 156)\n",
      "[2023-12-20 23:53:21] TABLE successfully saved at: ./datev.dbo.employee_pay.csv   SHAPE: (240352, 156)\n",
      "[2023-12-20 23:53:37] TABLE successfully saved at: ./datev.dbo.employee_pay.csv   SHAPE: (240352, 156)\n",
      "[2023-12-20 23:53:53] TABLE successfully saved at: ./datev.dbo.employee_pay.csv   SHAPE: (240352, 156)\n",
      "[2023-12-20 23:54:10] TABLE successfully saved at: ./datev.dbo.employee_pay.csv   SHAPE: (240352, 156)\n",
      "[2023-12-20 23:54:26] TABLE successfully saved at: ./datev.dbo.employee_pay.csv   SHAPE: (240352, 156)\n",
      "[2023-12-20 23:54:42] TABLE successfully saved at: ./datev.dbo.employee_pay.csv   SHAPE: (240352, 156)\n",
      "[2023-12-20 23:54:58] TABLE successfully saved at: ./datev.dbo.employee_pay.csv   SHAPE: (240352, 156)\n",
      "[2023-12-20 23:55:14] TABLE successfully saved at: ./datev.dbo.employee_pay.csv   SHAPE: (240352, 156)\n",
      "[2023-12-20 23:55:31] TABLE successfully saved at: ./datev.dbo.employee_pay.csv   SHAPE: (240352, 156)\n",
      "[2023-12-20 23:55:47] TABLE successfully saved at: ./datev.dbo.employee_pay.csv   SHAPE: (240352, 156)\n",
      "[2023-12-20 23:56:03] TABLE successfully saved at: ./datev.dbo.employee_pay.csv   SHAPE: (240352, 156)\n"
     ]
    }
   ],
   "source": [
    "\n",
    "def run_employee_pay_transations(loops: int = 1):\n",
    "    transaction_date = get_next_transaction_datetime(tbl_db_datev_employee_pay)\n",
    "    df_costcenter = tbl_db_datev_costcenter.read()\n",
    "    df_costcenter = df_costcenter[[\"id\", \"client_id\",\"department_id\"]] \\\n",
    "                        .rename(columns={\"id\": \"costcenter_id\"})\n",
    "\n",
    "    df_employee = tbl_db_datev_employee.read()\n",
    "\n",
    "    df_employee_pay = pd.merge(\n",
    "        df_employee,\n",
    "        df_costcenter,\n",
    "        on=[\"client_id\", \"costcenter_id\"],\n",
    "        how=\"left\"\n",
    "    )\n",
    "\n",
    "    df_employee_pay = pd_crossjoin(\n",
    "        df=df_employee_pay,\n",
    "        join_table=tbl_db_datev_paytype,\n",
    "        id_column_name_jt=\"id\",\n",
    "        id_new_column_name=\"paytype_id\",\n",
    "        include_columns=[\"salary_factor\"]\n",
    "    )\n",
    "\n",
    "\n",
    "    df_employee_pay[\"amount\"] = np.round(\n",
    "        df_employee_pay[\"salary\"] * df_employee_pay[\"salary_factor\"],\n",
    "        2\n",
    "    )\n",
    "    df_employee_pay[TRANSACTION_DATE_COLUMN] = transaction_date\n",
    "    df_employee_pay = df_employee_pay.rename(columns={\"id\": \"employee_id\"})\n",
    "\n",
    "    df_employee_pay = df_employee_pay[[\n",
    "        \"transaction_date\",\n",
    "        \"employee_id\",\n",
    "        \"client_id\",\n",
    "        \"costcenter_id\",\n",
    "        \"paytype_id\",\n",
    "        \"amount\"\n",
    "    ]]\n",
    "\n",
    "    df_employee_pay = generate_wide_df(df_employee_pay)\n",
    "\n",
    "    for _ in range(0, loops):\n",
    "        save_mode = \"a\" if tbl_db_datev_employee_pay.is_existing else \"w\"\n",
    "        tbl_db_datev_employee_pay.save(df_employee_pay, mode=save_mode)\n",
    "        transaction_date = end_of_month(transaction_date, offset_months=1)\n",
    "        df_employee_pay[TRANSACTION_DATE_COLUMN] = transaction_date\n",
    "\n",
    "if UPDATE_TRANSACTION_TABLES_THIS_RUN:\n",
    "    run_employee_pay_transations(loops=1)"
   ]
  },
  {
   "cell_type": "code",
   "execution_count": 145,
   "metadata": {},
   "outputs": [
    {
     "name": "stdout",
     "output_type": "stream",
     "text": [
      "(15142128, 1)\n"
     ]
    },
    {
     "data": {
      "text/plain": [
       "['2000-01-31',\n",
       " '2000-02-29',\n",
       " '2000-03-31',\n",
       " '2000-04-30',\n",
       " '2000-05-31',\n",
       " '2000-06-30',\n",
       " '2000-07-31',\n",
       " '2000-08-31',\n",
       " '2000-09-30',\n",
       " '2000-10-31',\n",
       " '2000-11-30',\n",
       " '2000-12-31',\n",
       " '2001-01-31',\n",
       " '2001-02-28',\n",
       " '2001-03-31',\n",
       " '2001-04-30',\n",
       " '2001-05-31',\n",
       " '2001-06-30',\n",
       " '2001-07-31',\n",
       " '2001-08-31',\n",
       " '2001-09-30',\n",
       " '2001-10-31',\n",
       " '2001-11-30',\n",
       " '2001-12-31',\n",
       " '2002-01-31',\n",
       " '2002-02-28',\n",
       " '2002-03-31',\n",
       " '2002-04-30',\n",
       " '2002-05-31',\n",
       " '2002-06-30',\n",
       " '2002-07-31',\n",
       " '2002-08-31',\n",
       " '2002-09-30',\n",
       " '2002-10-31',\n",
       " '2002-11-30',\n",
       " '2002-12-31',\n",
       " '2003-01-31',\n",
       " '2003-02-28',\n",
       " '2003-03-31',\n",
       " '2003-04-30',\n",
       " '2003-05-31',\n",
       " '2003-06-30',\n",
       " '2003-07-31',\n",
       " '2003-08-31',\n",
       " '2003-09-30',\n",
       " '2003-10-31',\n",
       " '2003-11-30',\n",
       " '2003-12-31',\n",
       " '2004-01-31',\n",
       " '2004-02-29',\n",
       " '2004-03-31',\n",
       " '2004-04-30',\n",
       " '2004-05-31',\n",
       " '2004-06-30',\n",
       " '2004-07-31',\n",
       " '2004-08-31',\n",
       " '2004-09-30',\n",
       " '2004-10-31',\n",
       " '2004-11-30',\n",
       " '2004-12-31']"
      ]
     },
     "execution_count": 145,
     "metadata": {},
     "output_type": "execute_result"
    }
   ],
   "source": [
    "df = tbl_db_datev_employee_pay.read(columns=[TRANSACTION_DATE_COLUMN])\n",
    "print(df.shape)\n",
    "list(df[TRANSACTION_DATE_COLUMN].unique())"
   ]
  },
  {
   "cell_type": "code",
   "execution_count": null,
   "metadata": {},
   "outputs": [],
   "source": []
  }
 ],
 "metadata": {
  "kernelspec": {
   "display_name": "venv",
   "language": "python",
   "name": "python3"
  },
  "language_info": {
   "codemirror_mode": {
    "name": "ipython",
    "version": 3
   },
   "file_extension": ".py",
   "mimetype": "text/x-python",
   "name": "python",
   "nbconvert_exporter": "python",
   "pygments_lexer": "ipython3",
   "version": "3.11.4"
  }
 },
 "nbformat": 4,
 "nbformat_minor": 2
}
