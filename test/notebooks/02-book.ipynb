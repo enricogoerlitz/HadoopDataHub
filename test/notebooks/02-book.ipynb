{
 "cells": [
  {
   "cell_type": "markdown",
   "metadata": {},
   "source": [
    "# 0X Notebook-Template"
   ]
  },
  {
   "cell_type": "markdown",
   "metadata": {},
   "source": [
    "# Imports"
   ]
  },
  {
   "cell_type": "code",
   "execution_count": 15,
   "metadata": {},
   "outputs": [],
   "source": [
    "import sys\n",
    "\n",
    "sys.path.append(\"../../\")\n",
    "\n",
    "import connection as conn\n",
    "\n",
    "from pyspark.sql import functions as f\n",
    "\n",
    "from etl.connectors import Hive\n",
    "from etl.datamodels import HostDataClass, TableDataClass"
   ]
  },
  {
   "cell_type": "markdown",
   "metadata": {},
   "source": [
    "# Settings & Utils"
   ]
  },
  {
   "cell_type": "code",
   "execution_count": 2,
   "metadata": {},
   "outputs": [],
   "source": [
    "hive_host = HostDataClass(host=conn.HIVE_HOST, port=conn.HIVE_PORT)\n",
    "hdfs_host = HostDataClass(host=conn.HDFS_HOST, port=conn.HDFS_PORT)"
   ]
  },
  {
   "cell_type": "code",
   "execution_count": 3,
   "metadata": {},
   "outputs": [],
   "source": [
    "hive = Hive(host=hive_host, thrift_port=conn.HIVE_THRIFT_PORT)"
   ]
  },
  {
   "cell_type": "markdown",
   "metadata": {},
   "source": [
    "# Hive Tests"
   ]
  },
  {
   "cell_type": "markdown",
   "metadata": {},
   "source": [
    "## Hive retrieve data functions"
   ]
  },
  {
   "cell_type": "code",
   "execution_count": 4,
   "metadata": {},
   "outputs": [
    {
     "data": {
      "text/plain": [
       "TableDataClass(table_name='employee_pay_test', database='default', schema=None)"
      ]
     },
     "execution_count": 4,
     "metadata": {},
     "output_type": "execute_result"
    }
   ],
   "source": [
    "tbl_employee_pay_test = TableDataClass(\n",
    "    database=\"default\",\n",
    "    table_name=\"employee_pay_test\"\n",
    ")\n",
    "tbl_employee_pay_test"
   ]
  },
  {
   "cell_type": "code",
   "execution_count": 5,
   "metadata": {},
   "outputs": [
    {
     "data": {
      "text/plain": [
       "['default', 'psa']"
      ]
     },
     "execution_count": 5,
     "metadata": {},
     "output_type": "execute_result"
    }
   ],
   "source": [
    "hive.get_databases()"
   ]
  },
  {
   "cell_type": "code",
   "execution_count": 6,
   "metadata": {},
   "outputs": [
    {
     "data": {
      "text/plain": [
       "['bigdata',\n",
       " 'employee_pay_test',\n",
       " 'firstviewonhive',\n",
       " 'hiveexternaltable',\n",
       " 'hiveexternaltable_parquet',\n",
       " 'my_table',\n",
       " 'my_table_test1113',\n",
       " 'new_table',\n",
       " 'new_table_2',\n",
       " 'parquetfile',\n",
       " 'parquetfile2']"
      ]
     },
     "metadata": {},
     "output_type": "display_data"
    },
    {
     "data": {
      "text/plain": [
       "['dbo_table', 'hiveexternaltableview', 'newtable']"
      ]
     },
     "metadata": {},
     "output_type": "display_data"
    }
   ],
   "source": [
    "display(\n",
    "    hive.get_tables(),\n",
    "    hive.get_tables(database=\"psa\")\n",
    ")"
   ]
  },
  {
   "cell_type": "code",
   "execution_count": 7,
   "metadata": {},
   "outputs": [
    {
     "data": {
      "text/html": [
       "<div>\n",
       "<style scoped>\n",
       "    .dataframe tbody tr th:only-of-type {\n",
       "        vertical-align: middle;\n",
       "    }\n",
       "\n",
       "    .dataframe tbody tr th {\n",
       "        vertical-align: top;\n",
       "    }\n",
       "\n",
       "    .dataframe thead th {\n",
       "        text-align: right;\n",
       "    }\n",
       "</style>\n",
       "<table border=\"1\" class=\"dataframe\">\n",
       "  <thead>\n",
       "    <tr style=\"text-align: right;\">\n",
       "      <th></th>\n",
       "      <th>col_name</th>\n",
       "      <th>data_type</th>\n",
       "      <th>comment</th>\n",
       "    </tr>\n",
       "  </thead>\n",
       "  <tbody>\n",
       "    <tr>\n",
       "      <th>0</th>\n",
       "      <td>transaction_date</td>\n",
       "      <td>string</td>\n",
       "      <td></td>\n",
       "    </tr>\n",
       "    <tr>\n",
       "      <th>1</th>\n",
       "      <td>employee_id</td>\n",
       "      <td>bigint</td>\n",
       "      <td></td>\n",
       "    </tr>\n",
       "    <tr>\n",
       "      <th>2</th>\n",
       "      <td>client_id</td>\n",
       "      <td>bigint</td>\n",
       "      <td></td>\n",
       "    </tr>\n",
       "    <tr>\n",
       "      <th>3</th>\n",
       "      <td>costcenter_id</td>\n",
       "      <td>bigint</td>\n",
       "      <td></td>\n",
       "    </tr>\n",
       "    <tr>\n",
       "      <th>4</th>\n",
       "      <td>paytype_id</td>\n",
       "      <td>bigint</td>\n",
       "      <td></td>\n",
       "    </tr>\n",
       "    <tr>\n",
       "      <th>5</th>\n",
       "      <td>amount</td>\n",
       "      <td>double</td>\n",
       "      <td></td>\n",
       "    </tr>\n",
       "  </tbody>\n",
       "</table>\n",
       "</div>"
      ],
      "text/plain": [
       "           col_name data_type comment\n",
       "0  transaction_date    string        \n",
       "1       employee_id    bigint        \n",
       "2         client_id    bigint        \n",
       "3     costcenter_id    bigint        \n",
       "4        paytype_id    bigint        \n",
       "5            amount    double        "
      ]
     },
     "execution_count": 7,
     "metadata": {},
     "output_type": "execute_result"
    }
   ],
   "source": [
    "hive.describe_table(\n",
    "    table=tbl_employee_pay_test\n",
    ")"
   ]
  },
  {
   "cell_type": "code",
   "execution_count": 8,
   "metadata": {},
   "outputs": [
    {
     "data": {
      "text/html": [
       "<div>\n",
       "<style scoped>\n",
       "    .dataframe tbody tr th:only-of-type {\n",
       "        vertical-align: middle;\n",
       "    }\n",
       "\n",
       "    .dataframe tbody tr th {\n",
       "        vertical-align: top;\n",
       "    }\n",
       "\n",
       "    .dataframe thead th {\n",
       "        text-align: right;\n",
       "    }\n",
       "</style>\n",
       "<table border=\"1\" class=\"dataframe\">\n",
       "  <thead>\n",
       "    <tr style=\"text-align: right;\">\n",
       "      <th></th>\n",
       "      <th>employee_pay_test.transaction_date</th>\n",
       "      <th>employee_pay_test.employee_id</th>\n",
       "      <th>employee_pay_test.client_id</th>\n",
       "      <th>employee_pay_test.costcenter_id</th>\n",
       "      <th>employee_pay_test.paytype_id</th>\n",
       "      <th>employee_pay_test.amount</th>\n",
       "    </tr>\n",
       "  </thead>\n",
       "  <tbody>\n",
       "    <tr>\n",
       "      <th>0</th>\n",
       "      <td>2000-01-31</td>\n",
       "      <td>3800</td>\n",
       "      <td>50</td>\n",
       "      <td>17</td>\n",
       "      <td>1</td>\n",
       "      <td>5298.23</td>\n",
       "    </tr>\n",
       "    <tr>\n",
       "      <th>1</th>\n",
       "      <td>2000-01-31</td>\n",
       "      <td>3800</td>\n",
       "      <td>50</td>\n",
       "      <td>17</td>\n",
       "      <td>2</td>\n",
       "      <td>927.19</td>\n",
       "    </tr>\n",
       "    <tr>\n",
       "      <th>2</th>\n",
       "      <td>2000-01-31</td>\n",
       "      <td>3800</td>\n",
       "      <td>50</td>\n",
       "      <td>17</td>\n",
       "      <td>3</td>\n",
       "      <td>794.73</td>\n",
       "    </tr>\n",
       "    <tr>\n",
       "      <th>3</th>\n",
       "      <td>2000-01-31</td>\n",
       "      <td>3800</td>\n",
       "      <td>50</td>\n",
       "      <td>17</td>\n",
       "      <td>4</td>\n",
       "      <td>662.28</td>\n",
       "    </tr>\n",
       "    <tr>\n",
       "      <th>4</th>\n",
       "      <td>2000-01-31</td>\n",
       "      <td>3800</td>\n",
       "      <td>50</td>\n",
       "      <td>17</td>\n",
       "      <td>5</td>\n",
       "      <td>529.82</td>\n",
       "    </tr>\n",
       "    <tr>\n",
       "      <th>5</th>\n",
       "      <td>2000-01-31</td>\n",
       "      <td>3800</td>\n",
       "      <td>50</td>\n",
       "      <td>17</td>\n",
       "      <td>6</td>\n",
       "      <td>397.37</td>\n",
       "    </tr>\n",
       "    <tr>\n",
       "      <th>6</th>\n",
       "      <td>2000-01-31</td>\n",
       "      <td>3800</td>\n",
       "      <td>50</td>\n",
       "      <td>17</td>\n",
       "      <td>7</td>\n",
       "      <td>264.91</td>\n",
       "    </tr>\n",
       "    <tr>\n",
       "      <th>7</th>\n",
       "      <td>2000-01-31</td>\n",
       "      <td>3800</td>\n",
       "      <td>50</td>\n",
       "      <td>17</td>\n",
       "      <td>8</td>\n",
       "      <td>132.46</td>\n",
       "    </tr>\n",
       "    <tr>\n",
       "      <th>8</th>\n",
       "      <td>2000-01-31</td>\n",
       "      <td>2091</td>\n",
       "      <td>83</td>\n",
       "      <td>2</td>\n",
       "      <td>1</td>\n",
       "      <td>4795.34</td>\n",
       "    </tr>\n",
       "    <tr>\n",
       "      <th>9</th>\n",
       "      <td>2000-01-31</td>\n",
       "      <td>2091</td>\n",
       "      <td>83</td>\n",
       "      <td>2</td>\n",
       "      <td>2</td>\n",
       "      <td>839.18</td>\n",
       "    </tr>\n",
       "  </tbody>\n",
       "</table>\n",
       "</div>"
      ],
      "text/plain": [
       "  employee_pay_test.transaction_date  employee_pay_test.employee_id  \\\n",
       "0                         2000-01-31                           3800   \n",
       "1                         2000-01-31                           3800   \n",
       "2                         2000-01-31                           3800   \n",
       "3                         2000-01-31                           3800   \n",
       "4                         2000-01-31                           3800   \n",
       "5                         2000-01-31                           3800   \n",
       "6                         2000-01-31                           3800   \n",
       "7                         2000-01-31                           3800   \n",
       "8                         2000-01-31                           2091   \n",
       "9                         2000-01-31                           2091   \n",
       "\n",
       "   employee_pay_test.client_id  employee_pay_test.costcenter_id  \\\n",
       "0                           50                               17   \n",
       "1                           50                               17   \n",
       "2                           50                               17   \n",
       "3                           50                               17   \n",
       "4                           50                               17   \n",
       "5                           50                               17   \n",
       "6                           50                               17   \n",
       "7                           50                               17   \n",
       "8                           83                                2   \n",
       "9                           83                                2   \n",
       "\n",
       "   employee_pay_test.paytype_id  employee_pay_test.amount  \n",
       "0                             1                   5298.23  \n",
       "1                             2                    927.19  \n",
       "2                             3                    794.73  \n",
       "3                             4                    662.28  \n",
       "4                             5                    529.82  \n",
       "5                             6                    397.37  \n",
       "6                             7                    264.91  \n",
       "7                             8                    132.46  \n",
       "8                             1                   4795.34  \n",
       "9                             2                    839.18  "
      ]
     },
     "execution_count": 8,
     "metadata": {},
     "output_type": "execute_result"
    }
   ],
   "source": [
    "hive.read_table(tbl_employee_pay_test, limit=10)"
   ]
  },
  {
   "cell_type": "code",
   "execution_count": 9,
   "metadata": {},
   "outputs": [
    {
     "data": {
      "text/html": [
       "<div>\n",
       "<style scoped>\n",
       "    .dataframe tbody tr th:only-of-type {\n",
       "        vertical-align: middle;\n",
       "    }\n",
       "\n",
       "    .dataframe tbody tr th {\n",
       "        vertical-align: top;\n",
       "    }\n",
       "\n",
       "    .dataframe thead th {\n",
       "        text-align: right;\n",
       "    }\n",
       "</style>\n",
       "<table border=\"1\" class=\"dataframe\">\n",
       "  <thead>\n",
       "    <tr style=\"text-align: right;\">\n",
       "      <th></th>\n",
       "      <th>employee_id</th>\n",
       "      <th>amount</th>\n",
       "    </tr>\n",
       "  </thead>\n",
       "  <tbody>\n",
       "    <tr>\n",
       "      <th>0</th>\n",
       "      <td>3800</td>\n",
       "      <td>5298.23</td>\n",
       "    </tr>\n",
       "    <tr>\n",
       "      <th>1</th>\n",
       "      <td>3800</td>\n",
       "      <td>927.19</td>\n",
       "    </tr>\n",
       "    <tr>\n",
       "      <th>2</th>\n",
       "      <td>3800</td>\n",
       "      <td>794.73</td>\n",
       "    </tr>\n",
       "    <tr>\n",
       "      <th>3</th>\n",
       "      <td>3800</td>\n",
       "      <td>662.28</td>\n",
       "    </tr>\n",
       "    <tr>\n",
       "      <th>4</th>\n",
       "      <td>3800</td>\n",
       "      <td>529.82</td>\n",
       "    </tr>\n",
       "    <tr>\n",
       "      <th>5</th>\n",
       "      <td>3800</td>\n",
       "      <td>397.37</td>\n",
       "    </tr>\n",
       "    <tr>\n",
       "      <th>6</th>\n",
       "      <td>3800</td>\n",
       "      <td>264.91</td>\n",
       "    </tr>\n",
       "    <tr>\n",
       "      <th>7</th>\n",
       "      <td>3800</td>\n",
       "      <td>132.46</td>\n",
       "    </tr>\n",
       "    <tr>\n",
       "      <th>8</th>\n",
       "      <td>2091</td>\n",
       "      <td>4795.34</td>\n",
       "    </tr>\n",
       "    <tr>\n",
       "      <th>9</th>\n",
       "      <td>2091</td>\n",
       "      <td>839.18</td>\n",
       "    </tr>\n",
       "    <tr>\n",
       "      <th>10</th>\n",
       "      <td>2091</td>\n",
       "      <td>719.30</td>\n",
       "    </tr>\n",
       "    <tr>\n",
       "      <th>11</th>\n",
       "      <td>2091</td>\n",
       "      <td>599.42</td>\n",
       "    </tr>\n",
       "    <tr>\n",
       "      <th>12</th>\n",
       "      <td>2091</td>\n",
       "      <td>479.53</td>\n",
       "    </tr>\n",
       "    <tr>\n",
       "      <th>13</th>\n",
       "      <td>2091</td>\n",
       "      <td>359.65</td>\n",
       "    </tr>\n",
       "    <tr>\n",
       "      <th>14</th>\n",
       "      <td>2091</td>\n",
       "      <td>239.77</td>\n",
       "    </tr>\n",
       "  </tbody>\n",
       "</table>\n",
       "</div>"
      ],
      "text/plain": [
       "    employee_id   amount\n",
       "0          3800  5298.23\n",
       "1          3800   927.19\n",
       "2          3800   794.73\n",
       "3          3800   662.28\n",
       "4          3800   529.82\n",
       "5          3800   397.37\n",
       "6          3800   264.91\n",
       "7          3800   132.46\n",
       "8          2091  4795.34\n",
       "9          2091   839.18\n",
       "10         2091   719.30\n",
       "11         2091   599.42\n",
       "12         2091   479.53\n",
       "13         2091   359.65\n",
       "14         2091   239.77"
      ]
     },
     "execution_count": 9,
     "metadata": {},
     "output_type": "execute_result"
    }
   ],
   "source": [
    "hive.read_table(\n",
    "    table=tbl_employee_pay_test,\n",
    "    columns=[\"employee_id\", \"amount\"],\n",
    "    limit=15)"
   ]
  },
  {
   "cell_type": "markdown",
   "metadata": {},
   "source": [
    "## Spark on Hive"
   ]
  },
  {
   "cell_type": "code",
   "execution_count": 10,
   "metadata": {},
   "outputs": [
    {
     "name": "stderr",
     "output_type": "stream",
     "text": [
      "Warning: Ignoring non-Spark config property: hive.metastore.uris\n",
      "Setting default log level to \"WARN\".\n",
      "To adjust logging level use sc.setLogLevel(newLevel). For SparkR, use setLogLevel(newLevel).\n",
      "23/12/22 22:29:10 WARN NativeCodeLoader: Unable to load native-hadoop library for your platform... using builtin-java classes where applicable\n"
     ]
    },
    {
     "data": {
      "text/html": [
       "\n",
       "            <div>\n",
       "                <p><b>SparkSession - hive</b></p>\n",
       "                \n",
       "        <div>\n",
       "            <p><b>SparkContext</b></p>\n",
       "\n",
       "            <p><a href=\"http://192.168.0.2:4040\">Spark UI</a></p>\n",
       "\n",
       "            <dl>\n",
       "              <dt>Version</dt>\n",
       "                <dd><code>v3.5.0</code></dd>\n",
       "              <dt>Master</dt>\n",
       "                <dd><code>local[*]</code></dd>\n",
       "              <dt>AppName</dt>\n",
       "                <dd><code>2d071f8a-cf43-4e1e-91fa-6946b88a1cdf</code></dd>\n",
       "            </dl>\n",
       "        </div>\n",
       "        \n",
       "            </div>\n",
       "        "
      ],
      "text/plain": [
       "<pyspark.sql.session.SparkSession at 0x13f0e7090>"
      ]
     },
     "execution_count": 10,
     "metadata": {},
     "output_type": "execute_result"
    }
   ],
   "source": [
    "spark = hive.create_spark_session()\n",
    "spark"
   ]
  },
  {
   "cell_type": "code",
   "execution_count": 12,
   "metadata": {},
   "outputs": [
    {
     "name": "stdout",
     "output_type": "stream",
     "text": [
      "+----------------+-----------+---------+-------------+----------+-------+\n",
      "|transaction_date|employee_id|client_id|costcenter_id|paytype_id| amount|\n",
      "+----------------+-----------+---------+-------------+----------+-------+\n",
      "|      2000-11-30|       7119|       83|            1|         1|5579.23|\n",
      "|      2000-11-30|       7119|       83|            1|         2| 976.37|\n",
      "|      2000-11-30|       7119|       83|            1|         3| 836.88|\n",
      "|      2000-11-30|       7119|       83|            1|         4|  697.4|\n",
      "|      2000-11-30|       7119|       83|            1|         5| 557.92|\n",
      "|      2000-11-30|       7119|       83|            1|         6| 418.44|\n",
      "|      2000-11-30|       7119|       83|            1|         7| 278.96|\n",
      "|      2000-11-30|       7119|       83|            1|         8| 139.48|\n",
      "|      2000-11-30|        612|        3|           17|         1|6263.01|\n",
      "|      2000-11-30|        612|        3|           17|         2|1096.03|\n",
      "|      2000-11-30|        612|        3|           17|         3| 939.45|\n",
      "|      2000-11-30|        612|        3|           17|         4| 782.88|\n",
      "|      2000-11-30|        612|        3|           17|         5|  626.3|\n",
      "|      2000-11-30|        612|        3|           17|         6| 469.73|\n",
      "|      2000-11-30|        612|        3|           17|         7| 313.15|\n",
      "|      2000-11-30|        612|        3|           17|         8| 156.58|\n",
      "|      2000-11-30|       4154|       92|           17|         1|5226.72|\n",
      "|      2000-11-30|       4154|       92|           17|         2| 914.68|\n",
      "|      2000-11-30|       4154|       92|           17|         3| 784.01|\n",
      "|      2000-11-30|       4154|       92|           17|         4| 653.34|\n",
      "+----------------+-----------+---------+-------------+----------+-------+\n",
      "only showing top 20 rows\n",
      "\n"
     ]
    }
   ],
   "source": [
    "df = spark.sql(f\"SELECT * FROM default.employee_pay_test\")\n",
    "df.show()"
   ]
  },
  {
   "cell_type": "code",
   "execution_count": 14,
   "metadata": {},
   "outputs": [
    {
     "name": "stdout",
     "output_type": "stream",
     "text": [
      "root\n",
      " |-- transaction_date: string (nullable = true)\n",
      " |-- employee_id: long (nullable = true)\n",
      " |-- client_id: long (nullable = true)\n",
      " |-- costcenter_id: long (nullable = true)\n",
      " |-- paytype_id: long (nullable = true)\n",
      " |-- amount: double (nullable = true)\n",
      "\n"
     ]
    }
   ],
   "source": [
    "df.printSchema()"
   ]
  },
  {
   "cell_type": "code",
   "execution_count": 19,
   "metadata": {},
   "outputs": [
    {
     "name": "stderr",
     "output_type": "stream",
     "text": [
      "[Stage 8:===================================================>   (119 + 8) / 127]\r"
     ]
    },
    {
     "name": "stdout",
     "output_type": "stream",
     "text": [
      "+---------+-------------+--------------------+\n",
      "|client_id|costcenter_id|        total_amount|\n",
      "+---------+-------------+--------------------+\n",
      "|       92|           10|      3.5432563698E8|\n",
      "|       50|            1| 3.483273433499998E8|\n",
      "|       69|            2|3.3774057639000005E8|\n",
      "|       50|           10|3.6544836635999995E8|\n",
      "|       67|            2| 3.321358519500001E8|\n",
      "|       69|           17| 3.547921280399999E8|\n",
      "|       92|           17| 3.605586988500001E8|\n",
      "|       63|            1|3.5656114536000025E8|\n",
      "|       69|           10|3.5766427473000026E8|\n",
      "|        4|           17| 3.614978070900001E8|\n",
      "|       50|            2|3.6106176014999956E8|\n",
      "|       27|            2|3.5264925234000015E8|\n",
      "|       92|            2|3.5391423122999984E8|\n",
      "|        3|           15| 3.473282307599999E8|\n",
      "|       87|            1| 3.418949929499999E8|\n",
      "|        4|           10| 3.398013108000001E8|\n",
      "|       50|           17|      3.3833523402E8|\n",
      "|       63|           17|3.3902211924000007E8|\n",
      "|       27|           17|      3.5908540101E8|\n",
      "|       67|            1|3.3570917918999994E8|\n",
      "+---------+-------------+--------------------+\n",
      "only showing top 20 rows\n",
      "\n"
     ]
    },
    {
     "name": "stderr",
     "output_type": "stream",
     "text": [
      "                                                                                \r"
     ]
    }
   ],
   "source": [
    "df_agg = df.groupBy(\"client_id\", \"costcenter_id\").agg(f.sum(\"amount\").alias(\"total_amount\"))\n",
    "df_agg.show()"
   ]
  },
  {
   "cell_type": "code",
   "execution_count": 20,
   "metadata": {},
   "outputs": [],
   "source": [
    "spark.stop()"
   ]
  }
 ],
 "metadata": {
  "kernelspec": {
   "display_name": "venv",
   "language": "python",
   "name": "python3"
  },
  "language_info": {
   "codemirror_mode": {
    "name": "ipython",
    "version": 3
   },
   "file_extension": ".py",
   "mimetype": "text/x-python",
   "name": "python",
   "nbconvert_exporter": "python",
   "pygments_lexer": "ipython3",
   "version": "3.11.4"
  }
 },
 "nbformat": 4,
 "nbformat_minor": 2
}
